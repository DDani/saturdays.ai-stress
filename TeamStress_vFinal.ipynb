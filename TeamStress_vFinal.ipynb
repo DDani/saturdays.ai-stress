{
  "nbformat": 4,
  "nbformat_minor": 0,
  "metadata": {
    "colab": {
      "name": "TeamStress_v20200718.ipynb",
      "provenance": [],
      "collapsed_sections": [],
      "include_colab_link": true
    },
    "kernelspec": {
      "name": "python3",
      "display_name": "Python 3"
    }
  },
  "cells": [
    {
      "cell_type": "markdown",
      "metadata": {
        "id": "view-in-github",
        "colab_type": "text"
      },
      "source": [
        "<a href=\"https://colab.research.google.com/github/DDani/saturdays.ai-stress/blob/PepToni/TeamStress_vFinal.ipynb\" target=\"_parent\"><img src=\"https://colab.research.google.com/assets/colab-badge.svg\" alt=\"Open In Colab\"/></a>"
      ]
    },
    {
      "cell_type": "markdown",
      "metadata": {
        "id": "p89WUkg2CoCs",
        "colab_type": "text"
      },
      "source": [
        "#***Proyecto Team Stress***"
      ]
    },
    {
      "cell_type": "markdown",
      "metadata": {
        "id": "635e-BSxDQwW",
        "colab_type": "text"
      },
      "source": [
        "# 1. Introducción"
      ]
    },
    {
      "cell_type": "markdown",
      "metadata": {
        "id": "fBGNZitBJlme",
        "colab_type": "text"
      },
      "source": [
        "**Happyforce**\n",
        "\n",
        "Happyforce es una plataforma de feedback para medir el compromiso (employee engagement) de los empleados permitiendo que empresas, managers y equipos puedan actuar, motivar y fidelizar el talento.\n",
        "\n",
        "Al contrario que una encuesta de clima (que suelen ser anuales), Happyforce realiza una medición continua en dos formatos:\n",
        "\n",
        "A través de una pregunta diaria de pulso, tan simple como preguntar al empleado cómo se encuentra (¿Cómo estás hoy?).\n",
        "A través de preguntas sobre diferentes aspectos que afectan al engagement del empleado.\n",
        "\n",
        "Dentro de esos aspectos, hay uno donde vamos a poner especial foco en este trabajo: el stress. Así, cada 3 meses, los empleados tienen la posibilidad de evaluar su nivel de stress con la siguiente pregunta: \n",
        "\n",
        "“¿En una escala del 1 al 10, ¿cómo calificarías el nivel de estrés en el trabajo?”"
      ]
    },
    {
      "cell_type": "markdown",
      "metadata": {
        "id": "wllf9KEU_bAw",
        "colab_type": "text"
      },
      "source": [
        "#2. Objetivo del estudio"
      ]
    },
    {
      "cell_type": "markdown",
      "metadata": {
        "id": "OxwKOJ2A_f17",
        "colab_type": "text"
      },
      "source": [
        "El objetivo del estudio es determinar qué factores influyen en el estrés de un empleado. Para ello utilizaremos una de las preguntas incluidas en el Dataset \"Scores\": \"**On a scale from 1 to 10, how would you rate the work-related stress?**\". \n",
        "\n",
        "Vamos a definir cuándo consideramos que un empleado está estresado y cómo ha respondido con anterioridad a las preguntas planteadas por la aplicación."
      ]
    },
    {
      "cell_type": "markdown",
      "metadata": {
        "id": "wBqjH-JBDcjK",
        "colab_type": "text"
      },
      "source": [
        "#3. Tratamiento de datos"
      ]
    },
    {
      "cell_type": "markdown",
      "metadata": {
        "id": "uhyF-ozugTHt",
        "colab_type": "text"
      },
      "source": [
        "###3.1. Carga de librerias"
      ]
    },
    {
      "cell_type": "code",
      "metadata": {
        "id": "Y8Aea3A74DCq",
        "colab_type": "code",
        "colab": {
          "base_uri": "https://localhost:8080/",
          "height": 71
        },
        "outputId": "464a0b5c-ef3d-4cc5-ff9c-24baaf30f3b8"
      },
      "source": [
        "import pandas as pd\n",
        "import os\n",
        "import numpy as np\n",
        "import matplotlib\n",
        "import matplotlib.pyplot as plt\n",
        "import seaborn as sns\n",
        "from sklearn.linear_model import LogisticRegression,LogisticRegressionCV\n",
        "from sklearn.metrics import mean_squared_error, make_scorer\n",
        "import statsmodels.api as sm\n",
        "from sklearn.linear_model import Lasso\n",
        "from sklearn.linear_model import Ridge\n",
        "\n",
        "import warnings\n",
        "warnings.filterwarnings('ignore')\n",
        "\n",
        "# creamos una función que nos permita ver más registros del dataset\n",
        "def display_all(df):\n",
        "    with pd.option_context(\"display.max_rows\", 2000, \"display.max_columns\", 1000): \n",
        "        display(df)"
      ],
      "execution_count": 1,
      "outputs": [
        {
          "output_type": "stream",
          "text": [
            "/usr/local/lib/python3.6/dist-packages/statsmodels/tools/_testing.py:19: FutureWarning: pandas.util.testing is deprecated. Use the functions in the public API at pandas.testing instead.\n",
            "  import pandas.util.testing as tm\n"
          ],
          "name": "stderr"
        }
      ]
    },
    {
      "cell_type": "markdown",
      "metadata": {
        "id": "ALfVmz1586aN",
        "colab_type": "text"
      },
      "source": [
        "###3.2. Cargamos los datos extraídos de la app HappyForce.\n",
        "Por una parte tenemos un fichero con la puntuación del Hapyness Index y por otra parte tenemos las respuestas a las distintas preguntas que se realizan en la aplicación a lo largo de la semana."
      ]
    },
    {
      "cell_type": "code",
      "metadata": {
        "id": "AjcDEoNj-2G1",
        "colab_type": "code",
        "colab": {}
      },
      "source": [
        "scores = pd.read_csv('https://github.com/DDani/saturdays.ai-stress/blob/master/data/scores.zip?raw=true', compression='zip')\n",
        "hi = pd.read_csv('https://github.com/DDani/saturdays.ai-stress/blob/master/data/hi.zip?raw=true', compression='zip')"
      ],
      "execution_count": 2,
      "outputs": []
    },
    {
      "cell_type": "markdown",
      "metadata": {
        "id": "KfR8QhFK9CNo",
        "colab_type": "text"
      },
      "source": [
        "Revisamos estructura de datos"
      ]
    },
    {
      "cell_type": "code",
      "metadata": {
        "id": "RVvyF0CCFp6K",
        "colab_type": "code",
        "colab": {
          "base_uri": "https://localhost:8080/",
          "height": 34
        },
        "outputId": "40161995-8b97-496a-ac28-1f626ad8a1d8"
      },
      "source": [
        "scores.shape"
      ],
      "execution_count": 3,
      "outputs": [
        {
          "output_type": "execute_result",
          "data": {
            "text/plain": [
              "(285512, 11)"
            ]
          },
          "metadata": {
            "tags": []
          },
          "execution_count": 3
        }
      ]
    },
    {
      "cell_type": "code",
      "metadata": {
        "id": "eoYdaqCH5hLK",
        "colab_type": "code",
        "colab": {
          "base_uri": "https://localhost:8080/",
          "height": 564
        },
        "outputId": "ea9d88e5-7ff6-4a6d-97d2-72a00c19b746"
      },
      "source": [
        "scores.head()"
      ],
      "execution_count": 4,
      "outputs": [
        {
          "output_type": "execute_result",
          "data": {
            "text/html": [
              "<div>\n",
              "<style scoped>\n",
              "    .dataframe tbody tr th:only-of-type {\n",
              "        vertical-align: middle;\n",
              "    }\n",
              "\n",
              "    .dataframe tbody tr th {\n",
              "        vertical-align: top;\n",
              "    }\n",
              "\n",
              "    .dataframe thead th {\n",
              "        text-align: right;\n",
              "    }\n",
              "</style>\n",
              "<table border=\"1\" class=\"dataframe\">\n",
              "  <thead>\n",
              "    <tr style=\"text-align: right;\">\n",
              "      <th></th>\n",
              "      <th>companyAlias</th>\n",
              "      <th>companyIndustry</th>\n",
              "      <th>scoreId</th>\n",
              "      <th>scoreName</th>\n",
              "      <th>factorId</th>\n",
              "      <th>factorName</th>\n",
              "      <th>questionId</th>\n",
              "      <th>questionTitle</th>\n",
              "      <th>employeeId</th>\n",
              "      <th>date</th>\n",
              "      <th>vote</th>\n",
              "    </tr>\n",
              "  </thead>\n",
              "  <tbody>\n",
              "    <tr>\n",
              "      <th>0</th>\n",
              "      <td>5ad7d22a40bbc80004b73727</td>\n",
              "      <td>MANUFACTURING</td>\n",
              "      <td>5bfff05de6caa5000429c544</td>\n",
              "      <td>Employee Net Promoter Score (eNPS).</td>\n",
              "      <td>5bfff05de6caa5000429c542</td>\n",
              "      <td>eNPS</td>\n",
              "      <td>5bfff05de6caa5000429c543</td>\n",
              "      <td>On a scale from 1 to 10, how likely are you to...</td>\n",
              "      <td>qNd</td>\n",
              "      <td>20/09/2019</td>\n",
              "      <td>8</td>\n",
              "    </tr>\n",
              "    <tr>\n",
              "      <th>1</th>\n",
              "      <td>5ad7d22a40bbc80004b73727</td>\n",
              "      <td>MANUFACTURING</td>\n",
              "      <td>5bfff05de6caa5000429c544</td>\n",
              "      <td>Employee Net Promoter Score (eNPS).</td>\n",
              "      <td>5bfff05de6caa5000429c542</td>\n",
              "      <td>eNPS</td>\n",
              "      <td>5bfff05de6caa5000429c543</td>\n",
              "      <td>On a scale from 1 to 10, how likely are you to...</td>\n",
              "      <td>5gm</td>\n",
              "      <td>20/09/2019</td>\n",
              "      <td>8</td>\n",
              "    </tr>\n",
              "    <tr>\n",
              "      <th>2</th>\n",
              "      <td>5ad7d22a40bbc80004b73727</td>\n",
              "      <td>MANUFACTURING</td>\n",
              "      <td>5bfff05de6caa5000429c544</td>\n",
              "      <td>Employee Net Promoter Score (eNPS).</td>\n",
              "      <td>5bfff05de6caa5000429c542</td>\n",
              "      <td>eNPS</td>\n",
              "      <td>5bfff05de6caa5000429c543</td>\n",
              "      <td>On a scale from 1 to 10, how likely are you to...</td>\n",
              "      <td>QXd</td>\n",
              "      <td>20/09/2019</td>\n",
              "      <td>8</td>\n",
              "    </tr>\n",
              "    <tr>\n",
              "      <th>3</th>\n",
              "      <td>5ad7d22a40bbc80004b73727</td>\n",
              "      <td>MANUFACTURING</td>\n",
              "      <td>5bfff05de6caa5000429c544</td>\n",
              "      <td>Employee Net Promoter Score (eNPS).</td>\n",
              "      <td>5bfff05de6caa5000429c542</td>\n",
              "      <td>eNPS</td>\n",
              "      <td>5bfff05de6caa5000429c543</td>\n",
              "      <td>On a scale from 1 to 10, how likely are you to...</td>\n",
              "      <td>r6g</td>\n",
              "      <td>20/09/2019</td>\n",
              "      <td>10</td>\n",
              "    </tr>\n",
              "    <tr>\n",
              "      <th>4</th>\n",
              "      <td>5ad7d22a40bbc80004b73727</td>\n",
              "      <td>MANUFACTURING</td>\n",
              "      <td>5bfff05de6caa5000429c544</td>\n",
              "      <td>Employee Net Promoter Score (eNPS).</td>\n",
              "      <td>5bfff05de6caa5000429c542</td>\n",
              "      <td>eNPS</td>\n",
              "      <td>5bfff05de6caa5000429c543</td>\n",
              "      <td>On a scale from 1 to 10, how likely are you to...</td>\n",
              "      <td>z82</td>\n",
              "      <td>20/09/2019</td>\n",
              "      <td>10</td>\n",
              "    </tr>\n",
              "  </tbody>\n",
              "</table>\n",
              "</div>"
            ],
            "text/plain": [
              "               companyAlias companyIndustry  ...        date vote\n",
              "0  5ad7d22a40bbc80004b73727   MANUFACTURING  ...  20/09/2019    8\n",
              "1  5ad7d22a40bbc80004b73727   MANUFACTURING  ...  20/09/2019    8\n",
              "2  5ad7d22a40bbc80004b73727   MANUFACTURING  ...  20/09/2019    8\n",
              "3  5ad7d22a40bbc80004b73727   MANUFACTURING  ...  20/09/2019   10\n",
              "4  5ad7d22a40bbc80004b73727   MANUFACTURING  ...  20/09/2019   10\n",
              "\n",
              "[5 rows x 11 columns]"
            ]
          },
          "metadata": {
            "tags": []
          },
          "execution_count": 4
        }
      ]
    },
    {
      "cell_type": "markdown",
      "metadata": {
        "id": "SO6nBL2n9n0C",
        "colab_type": "text"
      },
      "source": [
        "El dataset \"scores\" está estructurado de forma que cada registro representa la respuesta de un empleado a una pregunta determinada. Para cada registro tenemos las variables suficientes para identificar la compañia, el sector al que pertenece la compañia, el id de la pregunta, el id del factor al que se asocia la pregunta y la fecha en la que se responde a la pregunta, además de la puntuación asignada por el empleado (de 1 a 10)."
      ]
    },
    {
      "cell_type": "code",
      "metadata": {
        "id": "WFnKJyGGFuhU",
        "colab_type": "code",
        "colab": {
          "base_uri": "https://localhost:8080/",
          "height": 34
        },
        "outputId": "9160870b-9701-4708-f35f-251a1adeb018"
      },
      "source": [
        "hi.shape"
      ],
      "execution_count": 5,
      "outputs": [
        {
          "output_type": "execute_result",
          "data": {
            "text/plain": [
              "(2364507, 5)"
            ]
          },
          "metadata": {
            "tags": []
          },
          "execution_count": 5
        }
      ]
    },
    {
      "cell_type": "code",
      "metadata": {
        "id": "_Zc_D0Uz5jee",
        "colab_type": "code",
        "colab": {
          "base_uri": "https://localhost:8080/",
          "height": 204
        },
        "outputId": "7fce3919-69f0-438e-f01c-eed2f7a24a54"
      },
      "source": [
        "hi.head()"
      ],
      "execution_count": 6,
      "outputs": [
        {
          "output_type": "execute_result",
          "data": {
            "text/html": [
              "<div>\n",
              "<style scoped>\n",
              "    .dataframe tbody tr th:only-of-type {\n",
              "        vertical-align: middle;\n",
              "    }\n",
              "\n",
              "    .dataframe tbody tr th {\n",
              "        vertical-align: top;\n",
              "    }\n",
              "\n",
              "    .dataframe thead th {\n",
              "        text-align: right;\n",
              "    }\n",
              "</style>\n",
              "<table border=\"1\" class=\"dataframe\">\n",
              "  <thead>\n",
              "    <tr style=\"text-align: right;\">\n",
              "      <th></th>\n",
              "      <th>companyAlias</th>\n",
              "      <th>companyIndustry</th>\n",
              "      <th>employeeId</th>\n",
              "      <th>date</th>\n",
              "      <th>vote</th>\n",
              "    </tr>\n",
              "  </thead>\n",
              "  <tbody>\n",
              "    <tr>\n",
              "      <th>0</th>\n",
              "      <td>5ad7d22a40bbc80004b73727</td>\n",
              "      <td>MANUFACTURING</td>\n",
              "      <td>07</td>\n",
              "      <td>19/04/2018</td>\n",
              "      <td>1</td>\n",
              "    </tr>\n",
              "    <tr>\n",
              "      <th>1</th>\n",
              "      <td>5ad7d22a40bbc80004b73727</td>\n",
              "      <td>MANUFACTURING</td>\n",
              "      <td>kyQ</td>\n",
              "      <td>19/04/2018</td>\n",
              "      <td>3</td>\n",
              "    </tr>\n",
              "    <tr>\n",
              "      <th>2</th>\n",
              "      <td>5ad7d22a40bbc80004b73727</td>\n",
              "      <td>MANUFACTURING</td>\n",
              "      <td>y5w</td>\n",
              "      <td>19/04/2018</td>\n",
              "      <td>3</td>\n",
              "    </tr>\n",
              "    <tr>\n",
              "      <th>3</th>\n",
              "      <td>5ad7d22a40bbc80004b73727</td>\n",
              "      <td>MANUFACTURING</td>\n",
              "      <td>p1L</td>\n",
              "      <td>19/04/2018</td>\n",
              "      <td>3</td>\n",
              "    </tr>\n",
              "    <tr>\n",
              "      <th>4</th>\n",
              "      <td>5ad7d22a40bbc80004b73727</td>\n",
              "      <td>MANUFACTURING</td>\n",
              "      <td>bJ7</td>\n",
              "      <td>19/04/2018</td>\n",
              "      <td>3</td>\n",
              "    </tr>\n",
              "  </tbody>\n",
              "</table>\n",
              "</div>"
            ],
            "text/plain": [
              "               companyAlias companyIndustry employeeId        date  vote\n",
              "0  5ad7d22a40bbc80004b73727   MANUFACTURING         07  19/04/2018     1\n",
              "1  5ad7d22a40bbc80004b73727   MANUFACTURING        kyQ  19/04/2018     3\n",
              "2  5ad7d22a40bbc80004b73727   MANUFACTURING        y5w  19/04/2018     3\n",
              "3  5ad7d22a40bbc80004b73727   MANUFACTURING        p1L  19/04/2018     3\n",
              "4  5ad7d22a40bbc80004b73727   MANUFACTURING        bJ7  19/04/2018     3"
            ]
          },
          "metadata": {
            "tags": []
          },
          "execution_count": 6
        }
      ]
    },
    {
      "cell_type": "markdown",
      "metadata": {
        "id": "ZLS0PDoG9lTe",
        "colab_type": "text"
      },
      "source": [
        "sEl dataset \"hi\" contiene las respuestas al Happiness Index. Cada registro representa un voto de un empleado en una fecha determinada. Los valores del HI van del 1 al 4, siendo 4 la valoración más positiva."
      ]
    },
    {
      "cell_type": "markdown",
      "metadata": {
        "id": "PpelFbVp_M8n",
        "colab_type": "text"
      },
      "source": [
        "###3.3. Construcción dataframe para modelizar"
      ]
    },
    {
      "cell_type": "markdown",
      "metadata": {
        "id": "FwVDrLlU_We-",
        "colab_type": "text"
      },
      "source": [
        "Para poder trabajar con las respuestas de cada empleado, necesitaremos crear un dataset en el que tengamos, para cada registro, toda la información relativa a un período anterior a la fecha en la que el empleado responde a la pregunta de estrés."
      ]
    },
    {
      "cell_type": "markdown",
      "metadata": {
        "id": "3kEgZjQa_KXm",
        "colab_type": "text"
      },
      "source": [
        "**Limpiamos el dataframe Scores**"
      ]
    },
    {
      "cell_type": "markdown",
      "metadata": {
        "id": "UXXMG0r-FILK",
        "colab_type": "text"
      },
      "source": [
        "Empezamos revisando si el dataset tiene duplicados."
      ]
    },
    {
      "cell_type": "code",
      "metadata": {
        "id": "bYGyP63kGfxF",
        "colab_type": "code",
        "colab": {
          "base_uri": "https://localhost:8080/",
          "height": 34
        },
        "outputId": "46a94cf1-0f27-4dfe-d422-69b08251be95"
      },
      "source": [
        "scores.shape"
      ],
      "execution_count": 7,
      "outputs": [
        {
          "output_type": "execute_result",
          "data": {
            "text/plain": [
              "(285512, 11)"
            ]
          },
          "metadata": {
            "tags": []
          },
          "execution_count": 7
        }
      ]
    },
    {
      "cell_type": "code",
      "metadata": {
        "id": "0x3G82C3TRWP",
        "colab_type": "code",
        "colab": {
          "base_uri": "https://localhost:8080/",
          "height": 34
        },
        "outputId": "89f14032-26d8-407d-e757-0ba9c4ee46b1"
      },
      "source": [
        "scores.drop_duplicates(inplace = True);\n",
        "scores.shape"
      ],
      "execution_count": 8,
      "outputs": [
        {
          "output_type": "execute_result",
          "data": {
            "text/plain": [
              "(103330, 11)"
            ]
          },
          "metadata": {
            "tags": []
          },
          "execution_count": 8
        }
      ]
    },
    {
      "cell_type": "markdown",
      "metadata": {
        "id": "xs6mXxdWGb0t",
        "colab_type": "text"
      },
      "source": [
        "Si comparamos con el \"shape\" antes y después de eliminar los duplicados, vemos como teníamos casi un tercio del dataset \"scores\" con registros duplicados"
      ]
    },
    {
      "cell_type": "code",
      "metadata": {
        "id": "CDK3qIGwG2dC",
        "colab_type": "code",
        "colab": {
          "base_uri": "https://localhost:8080/",
          "height": 34
        },
        "outputId": "84304071-31dc-42be-cacc-5ba5d007cbe9"
      },
      "source": [
        "hi.shape"
      ],
      "execution_count": 9,
      "outputs": [
        {
          "output_type": "execute_result",
          "data": {
            "text/plain": [
              "(2364507, 5)"
            ]
          },
          "metadata": {
            "tags": []
          },
          "execution_count": 9
        }
      ]
    },
    {
      "cell_type": "code",
      "metadata": {
        "id": "EmRErUYfG4nK",
        "colab_type": "code",
        "colab": {
          "base_uri": "https://localhost:8080/",
          "height": 34
        },
        "outputId": "159ef094-9a43-440a-b1aa-324c4e6046fd"
      },
      "source": [
        "hi.drop_duplicates(inplace = True);\n",
        "hi.shape"
      ],
      "execution_count": 10,
      "outputs": [
        {
          "output_type": "execute_result",
          "data": {
            "text/plain": [
              "(847935, 5)"
            ]
          },
          "metadata": {
            "tags": []
          },
          "execution_count": 10
        }
      ]
    },
    {
      "cell_type": "markdown",
      "metadata": {
        "id": "r3uB0j2EG9WT",
        "colab_type": "text"
      },
      "source": [
        "Con el dataset \"hi\" nos ocurre lo mismo que con el anterior. En este caso, eliminando duplicados nos quedamos sólo con un tercio de la muestra."
      ]
    },
    {
      "cell_type": "markdown",
      "metadata": {
        "id": "OgyRBTVfEA8N",
        "colab_type": "text"
      },
      "source": [
        "Para que sea más cómodo trabajar con el dataframe, factorizamos el ID de las preguntas. De esta forma evitamos tener que tratar con el ID complejo que tienen asignados en el Dataset y trabajaremos con identificadores numéricos consecutivos. Esto nos facilitará la nomenclatura de las variables relativas a cada pregunta/factor."
      ]
    },
    {
      "cell_type": "code",
      "metadata": {
        "id": "WLrdpfuz_E3A",
        "colab_type": "code",
        "colab": {}
      },
      "source": [
        "scores['questionNumber'] = pd.factorize(scores['questionId'])[0]\n",
        "scores['factorNumber'] = pd.factorize(scores['factorId'])[0]"
      ],
      "execution_count": 11,
      "outputs": []
    },
    {
      "cell_type": "markdown",
      "metadata": {
        "id": "K_tb6el7Pdnc",
        "colab_type": "text"
      },
      "source": [
        "Mostramos la codificación de preguntas y factores"
      ]
    },
    {
      "cell_type": "code",
      "metadata": {
        "id": "Np76bF3cOJ8P",
        "colab_type": "code",
        "colab": {
          "base_uri": "https://localhost:8080/",
          "height": 1000
        },
        "outputId": "6966c67e-949a-4215-c9a0-6206cc154b6c"
      },
      "source": [
        "pd.set_option('display.max_colwidth', -1)\n",
        "questions=scores[['questionNumber','factorNumber','questionTitle','factorName']].drop_duplicates().reset_index(drop=True)\n",
        "questions"
      ],
      "execution_count": 12,
      "outputs": [
        {
          "output_type": "execute_result",
          "data": {
            "text/html": [
              "<div>\n",
              "<style scoped>\n",
              "    .dataframe tbody tr th:only-of-type {\n",
              "        vertical-align: middle;\n",
              "    }\n",
              "\n",
              "    .dataframe tbody tr th {\n",
              "        vertical-align: top;\n",
              "    }\n",
              "\n",
              "    .dataframe thead th {\n",
              "        text-align: right;\n",
              "    }\n",
              "</style>\n",
              "<table border=\"1\" class=\"dataframe\">\n",
              "  <thead>\n",
              "    <tr style=\"text-align: right;\">\n",
              "      <th></th>\n",
              "      <th>questionNumber</th>\n",
              "      <th>factorNumber</th>\n",
              "      <th>questionTitle</th>\n",
              "      <th>factorName</th>\n",
              "    </tr>\n",
              "  </thead>\n",
              "  <tbody>\n",
              "    <tr>\n",
              "      <th>0</th>\n",
              "      <td>0</td>\n",
              "      <td>0</td>\n",
              "      <td>On a scale from 1 to 10, how likely are you to recommend *|COMPANY_NAME|* as good place to work?</td>\n",
              "      <td>eNPS</td>\n",
              "    </tr>\n",
              "    <tr>\n",
              "      <th>1</th>\n",
              "      <td>1</td>\n",
              "      <td>1</td>\n",
              "      <td>On a scale of 1 to 10, how comfortable do you feel giving upwards feedback to your manager?</td>\n",
              "      <td>Diversity of Opinion</td>\n",
              "    </tr>\n",
              "    <tr>\n",
              "      <th>2</th>\n",
              "      <td>2</td>\n",
              "      <td>1</td>\n",
              "      <td>I feel like I can voice my opinion regarding *|COMPANY_NAME|*:</td>\n",
              "      <td>Diversity of Opinion</td>\n",
              "    </tr>\n",
              "    <tr>\n",
              "      <th>3</th>\n",
              "      <td>3</td>\n",
              "      <td>1</td>\n",
              "      <td>My teammates, welcome opinions different from their own.</td>\n",
              "      <td>Diversity of Opinion</td>\n",
              "    </tr>\n",
              "    <tr>\n",
              "      <th>4</th>\n",
              "      <td>4</td>\n",
              "      <td>2</td>\n",
              "      <td>*|COMPANY_NAME|* communicates in a clear and effective way us.</td>\n",
              "      <td>Quality &amp; Frequency</td>\n",
              "    </tr>\n",
              "    <tr>\n",
              "      <th>5</th>\n",
              "      <td>5</td>\n",
              "      <td>2</td>\n",
              "      <td>My manager communicates openly and honestly with me.</td>\n",
              "      <td>Quality &amp; Frequency</td>\n",
              "    </tr>\n",
              "    <tr>\n",
              "      <th>6</th>\n",
              "      <td>6</td>\n",
              "      <td>2</td>\n",
              "      <td>Which of the following best describes the amount of feedback you typically get regarding your work</td>\n",
              "      <td>Quality &amp; Frequency</td>\n",
              "    </tr>\n",
              "    <tr>\n",
              "      <th>7</th>\n",
              "      <td>7</td>\n",
              "      <td>3</td>\n",
              "      <td>*|COMPANY_NAME|* seem to valuate my opinions and suggestions.</td>\n",
              "      <td>Active Listening</td>\n",
              "    </tr>\n",
              "    <tr>\n",
              "      <th>8</th>\n",
              "      <td>8</td>\n",
              "      <td>3</td>\n",
              "      <td>My manager embraces my opinions</td>\n",
              "      <td>Active Listening</td>\n",
              "    </tr>\n",
              "    <tr>\n",
              "      <th>9</th>\n",
              "      <td>9</td>\n",
              "      <td>3</td>\n",
              "      <td>From 1 to 10, how would you rate how your co-workers and peers welcome your opinions?</td>\n",
              "      <td>Active Listening</td>\n",
              "    </tr>\n",
              "    <tr>\n",
              "      <th>10</th>\n",
              "      <td>10</td>\n",
              "      <td>4</td>\n",
              "      <td>What is it like working with your direct manager?</td>\n",
              "      <td>Managers</td>\n",
              "    </tr>\n",
              "    <tr>\n",
              "      <th>11</th>\n",
              "      <td>11</td>\n",
              "      <td>4</td>\n",
              "      <td>My manager helps bring the best out of people</td>\n",
              "      <td>Managers</td>\n",
              "    </tr>\n",
              "    <tr>\n",
              "      <th>12</th>\n",
              "      <td>12</td>\n",
              "      <td>4</td>\n",
              "      <td>When I ask my manager for help, he/she devotes time to help me</td>\n",
              "      <td>Managers</td>\n",
              "    </tr>\n",
              "    <tr>\n",
              "      <th>13</th>\n",
              "      <td>13</td>\n",
              "      <td>5</td>\n",
              "      <td>I feel like I am part of a team</td>\n",
              "      <td>Peers</td>\n",
              "    </tr>\n",
              "    <tr>\n",
              "      <th>14</th>\n",
              "      <td>14</td>\n",
              "      <td>5</td>\n",
              "      <td>I can count on my co-workers to help out when needed</td>\n",
              "      <td>Peers</td>\n",
              "    </tr>\n",
              "    <tr>\n",
              "      <th>15</th>\n",
              "      <td>15</td>\n",
              "      <td>5</td>\n",
              "      <td>*|COMPANY_NAME|* is the kind of place where I could make friends.</td>\n",
              "      <td>Peers</td>\n",
              "    </tr>\n",
              "    <tr>\n",
              "      <th>16</th>\n",
              "      <td>16</td>\n",
              "      <td>6</td>\n",
              "      <td>I trust that the people I work with are committed to do a good job</td>\n",
              "      <td>Confidence</td>\n",
              "    </tr>\n",
              "    <tr>\n",
              "      <th>17</th>\n",
              "      <td>17</td>\n",
              "      <td>6</td>\n",
              "      <td>I would rate my direct manager's management skills as:</td>\n",
              "      <td>Confidence</td>\n",
              "    </tr>\n",
              "    <tr>\n",
              "      <th>18</th>\n",
              "      <td>18</td>\n",
              "      <td>6</td>\n",
              "      <td>My confidence in the senior leadership team of *|COMPANY_NAME|* is:</td>\n",
              "      <td>Confidence</td>\n",
              "    </tr>\n",
              "    <tr>\n",
              "      <th>19</th>\n",
              "      <td>19</td>\n",
              "      <td>7</td>\n",
              "      <td>*|COMPANY_NAME|* shows a commitment to the wellbeing of employees</td>\n",
              "      <td>Stress &amp; Health</td>\n",
              "    </tr>\n",
              "    <tr>\n",
              "      <th>20</th>\n",
              "      <td>20</td>\n",
              "      <td>7</td>\n",
              "      <td>My manager genuinely cares about my wellbeing</td>\n",
              "      <td>Stress &amp; Health</td>\n",
              "    </tr>\n",
              "    <tr>\n",
              "      <th>21</th>\n",
              "      <td>21</td>\n",
              "      <td>7</td>\n",
              "      <td>On a scale from 1 to 10, how would you rate the work-related stress?</td>\n",
              "      <td>Stress &amp; Health</td>\n",
              "    </tr>\n",
              "    <tr>\n",
              "      <th>22</th>\n",
              "      <td>22</td>\n",
              "      <td>8</td>\n",
              "      <td>People from all backgrounds are treated fairly at *|COMPANY_NAME|*</td>\n",
              "      <td>Diversity &amp; Equality</td>\n",
              "    </tr>\n",
              "    <tr>\n",
              "      <th>23</th>\n",
              "      <td>23</td>\n",
              "      <td>8</td>\n",
              "      <td>My manager makes sure everyone feels included</td>\n",
              "      <td>Diversity &amp; Equality</td>\n",
              "    </tr>\n",
              "    <tr>\n",
              "      <th>24</th>\n",
              "      <td>24</td>\n",
              "      <td>8</td>\n",
              "      <td>I feel included and respected within *|COMPANY_NAME|*.</td>\n",
              "      <td>Diversity &amp; Equality</td>\n",
              "    </tr>\n",
              "    <tr>\n",
              "      <th>25</th>\n",
              "      <td>25</td>\n",
              "      <td>9</td>\n",
              "      <td>My workplace environment is enjoyable and contributes positively to my job</td>\n",
              "      <td>Environment</td>\n",
              "    </tr>\n",
              "    <tr>\n",
              "      <th>26</th>\n",
              "      <td>26</td>\n",
              "      <td>9</td>\n",
              "      <td>Do you have the tools and resources you need to do your job?</td>\n",
              "      <td>Environment</td>\n",
              "    </tr>\n",
              "    <tr>\n",
              "      <th>27</th>\n",
              "      <td>27</td>\n",
              "      <td>9</td>\n",
              "      <td>I have all the information I need to make decisions</td>\n",
              "      <td>Environment</td>\n",
              "    </tr>\n",
              "    <tr>\n",
              "      <th>28</th>\n",
              "      <td>28</td>\n",
              "      <td>10</td>\n",
              "      <td>When I take in account my responsibilities, skills and experience I believe I am...</td>\n",
              "      <td>Compensation</td>\n",
              "    </tr>\n",
              "    <tr>\n",
              "      <th>29</th>\n",
              "      <td>29</td>\n",
              "      <td>10</td>\n",
              "      <td>I can have well-informed and constructive conversations with my manager about pay</td>\n",
              "      <td>Compensation</td>\n",
              "    </tr>\n",
              "    <tr>\n",
              "      <th>30</th>\n",
              "      <td>30</td>\n",
              "      <td>10</td>\n",
              "      <td>I would rate the processes for determining pay in *|COMPANY_NAME|* as:</td>\n",
              "      <td>Compensation</td>\n",
              "    </tr>\n",
              "    <tr>\n",
              "      <th>31</th>\n",
              "      <td>31</td>\n",
              "      <td>11</td>\n",
              "      <td>When I do great work, I know that it will be recognised</td>\n",
              "      <td>Recognition</td>\n",
              "    </tr>\n",
              "    <tr>\n",
              "      <th>32</th>\n",
              "      <td>32</td>\n",
              "      <td>11</td>\n",
              "      <td>For *|COMPANY_NAME|* to celebrate our accomplishments and milestones is:</td>\n",
              "      <td>Recognition</td>\n",
              "    </tr>\n",
              "    <tr>\n",
              "      <th>33</th>\n",
              "      <td>33</td>\n",
              "      <td>11</td>\n",
              "      <td>*|COMPANY_NAME|* encourages us to give recognition to one another</td>\n",
              "      <td>Recognition</td>\n",
              "    </tr>\n",
              "    <tr>\n",
              "      <th>34</th>\n",
              "      <td>34</td>\n",
              "      <td>12</td>\n",
              "      <td>On a scale from 0-10, how would you rate the benefits *|COMPANY_NAME|* offers?</td>\n",
              "      <td>Benefits</td>\n",
              "    </tr>\n",
              "    <tr>\n",
              "      <th>35</th>\n",
              "      <td>35</td>\n",
              "      <td>13</td>\n",
              "      <td>The values of *|COMPANY_NAME|* are aligned with the ones that I consider important to me.</td>\n",
              "      <td>Values &amp; Ethics</td>\n",
              "    </tr>\n",
              "    <tr>\n",
              "      <th>36</th>\n",
              "      <td>36</td>\n",
              "      <td>13</td>\n",
              "      <td>Our organizational values are reflected in every decision taken at *|COMPANY_NAME|*</td>\n",
              "      <td>Values &amp; Ethics</td>\n",
              "    </tr>\n",
              "    <tr>\n",
              "      <th>37</th>\n",
              "      <td>37</td>\n",
              "      <td>13</td>\n",
              "      <td>Does your manager demonstrate that employees are essential to the success of *|COMPANY_NAME|*?</td>\n",
              "      <td>Values &amp; Ethics</td>\n",
              "    </tr>\n",
              "    <tr>\n",
              "      <th>38</th>\n",
              "      <td>38</td>\n",
              "      <td>14</td>\n",
              "      <td>How would you rate the job *|COMPANY_NAME|* does communicating the goals set by leadership?.</td>\n",
              "      <td>Goals &amp; Role</td>\n",
              "    </tr>\n",
              "    <tr>\n",
              "      <th>39</th>\n",
              "      <td>39</td>\n",
              "      <td>14</td>\n",
              "      <td>I understand how my work supports the goal of my team</td>\n",
              "      <td>Goals &amp; Role</td>\n",
              "    </tr>\n",
              "    <tr>\n",
              "      <th>40</th>\n",
              "      <td>40</td>\n",
              "      <td>14</td>\n",
              "      <td>At work, I know what I’m expected to deliver</td>\n",
              "      <td>Goals &amp; Role</td>\n",
              "    </tr>\n",
              "    <tr>\n",
              "      <th>41</th>\n",
              "      <td>41</td>\n",
              "      <td>15</td>\n",
              "      <td>Do you believe that *|COMPANY_NAME|* is able to reach its objectives?.</td>\n",
              "      <td>Trust &amp; Vision</td>\n",
              "    </tr>\n",
              "    <tr>\n",
              "      <th>42</th>\n",
              "      <td>42</td>\n",
              "      <td>15</td>\n",
              "      <td>The vision and purpose of *|COMPANY_NAME|* inspires me.</td>\n",
              "      <td>Trust &amp; Vision</td>\n",
              "    </tr>\n",
              "    <tr>\n",
              "      <th>43</th>\n",
              "      <td>43</td>\n",
              "      <td>15</td>\n",
              "      <td>I would rate the amount of resources, people and efforts that *|COMPANY_NAME|* invests to achieve its goals as:</td>\n",
              "      <td>Trust &amp; Vision</td>\n",
              "    </tr>\n",
              "    <tr>\n",
              "      <th>44</th>\n",
              "      <td>44</td>\n",
              "      <td>15</td>\n",
              "      <td>The business goals and strategies set by senior leadership are taking *|COMPANY_NAME|* in the right direction.</td>\n",
              "      <td>Trust &amp; Vision</td>\n",
              "    </tr>\n",
              "    <tr>\n",
              "      <th>45</th>\n",
              "      <td>45</td>\n",
              "      <td>16</td>\n",
              "      <td>I rate the freedom that I have to decide how to do my work as:</td>\n",
              "      <td>Autonomy</td>\n",
              "    </tr>\n",
              "    <tr>\n",
              "      <th>46</th>\n",
              "      <td>46</td>\n",
              "      <td>16</td>\n",
              "      <td>I'm involved in decisions that affect my work</td>\n",
              "      <td>Autonomy</td>\n",
              "    </tr>\n",
              "    <tr>\n",
              "      <th>47</th>\n",
              "      <td>47</td>\n",
              "      <td>16</td>\n",
              "      <td>I feel that I'm in control when it comes to the work I need to accomplish</td>\n",
              "      <td>Autonomy</td>\n",
              "    </tr>\n",
              "    <tr>\n",
              "      <th>48</th>\n",
              "      <td>48</td>\n",
              "      <td>17</td>\n",
              "      <td>I see how I can advance in my career at *|COMPANY_NAME|*</td>\n",
              "      <td>Mastery</td>\n",
              "    </tr>\n",
              "    <tr>\n",
              "      <th>49</th>\n",
              "      <td>49</td>\n",
              "      <td>17</td>\n",
              "      <td>My job at *|COMPANY_NAME|* enables me to learn and develop new skills</td>\n",
              "      <td>Mastery</td>\n",
              "    </tr>\n",
              "    <tr>\n",
              "      <th>50</th>\n",
              "      <td>50</td>\n",
              "      <td>17</td>\n",
              "      <td>My manager (or someone in management) encourages and supports my development</td>\n",
              "      <td>Mastery</td>\n",
              "    </tr>\n",
              "    <tr>\n",
              "      <th>51</th>\n",
              "      <td>51</td>\n",
              "      <td>17</td>\n",
              "      <td>I would rate the way *|COMPANY_NAME|* uses my strengths and abilities as:</td>\n",
              "      <td>Mastery</td>\n",
              "    </tr>\n",
              "    <tr>\n",
              "      <th>52</th>\n",
              "      <td>52</td>\n",
              "      <td>18</td>\n",
              "      <td>Do you feel that your work at *|COMPANY_NAME|* serves a purpose?</td>\n",
              "      <td>Purpose</td>\n",
              "    </tr>\n",
              "    <tr>\n",
              "      <th>53</th>\n",
              "      <td>53</td>\n",
              "      <td>18</td>\n",
              "      <td>I would rate how proud of my work and how is meaningful to me as:</td>\n",
              "      <td>Purpose</td>\n",
              "    </tr>\n",
              "    <tr>\n",
              "      <th>54</th>\n",
              "      <td>54</td>\n",
              "      <td>18</td>\n",
              "      <td>I see how my work contributes to a positive outcome for *|COMPANY_NAME|*:</td>\n",
              "      <td>Purpose</td>\n",
              "    </tr>\n",
              "  </tbody>\n",
              "</table>\n",
              "</div>"
            ],
            "text/plain": [
              "    questionNumber  ...            factorName\n",
              "0   0               ...  eNPS                \n",
              "1   1               ...  Diversity of Opinion\n",
              "2   2               ...  Diversity of Opinion\n",
              "3   3               ...  Diversity of Opinion\n",
              "4   4               ...  Quality & Frequency \n",
              "5   5               ...  Quality & Frequency \n",
              "6   6               ...  Quality & Frequency \n",
              "7   7               ...  Active Listening    \n",
              "8   8               ...  Active Listening    \n",
              "9   9               ...  Active Listening    \n",
              "10  10              ...  Managers            \n",
              "11  11              ...  Managers            \n",
              "12  12              ...  Managers            \n",
              "13  13              ...  Peers               \n",
              "14  14              ...  Peers               \n",
              "15  15              ...  Peers               \n",
              "16  16              ...  Confidence          \n",
              "17  17              ...  Confidence          \n",
              "18  18              ...  Confidence          \n",
              "19  19              ...  Stress & Health     \n",
              "20  20              ...  Stress & Health     \n",
              "21  21              ...  Stress & Health     \n",
              "22  22              ...  Diversity & Equality\n",
              "23  23              ...  Diversity & Equality\n",
              "24  24              ...  Diversity & Equality\n",
              "25  25              ...  Environment         \n",
              "26  26              ...  Environment         \n",
              "27  27              ...  Environment         \n",
              "28  28              ...  Compensation        \n",
              "29  29              ...  Compensation        \n",
              "30  30              ...  Compensation        \n",
              "31  31              ...  Recognition         \n",
              "32  32              ...  Recognition         \n",
              "33  33              ...  Recognition         \n",
              "34  34              ...  Benefits            \n",
              "35  35              ...  Values & Ethics     \n",
              "36  36              ...  Values & Ethics     \n",
              "37  37              ...  Values & Ethics     \n",
              "38  38              ...  Goals & Role        \n",
              "39  39              ...  Goals & Role        \n",
              "40  40              ...  Goals & Role        \n",
              "41  41              ...  Trust & Vision      \n",
              "42  42              ...  Trust & Vision      \n",
              "43  43              ...  Trust & Vision      \n",
              "44  44              ...  Trust & Vision      \n",
              "45  45              ...  Autonomy            \n",
              "46  46              ...  Autonomy            \n",
              "47  47              ...  Autonomy            \n",
              "48  48              ...  Mastery             \n",
              "49  49              ...  Mastery             \n",
              "50  50              ...  Mastery             \n",
              "51  51              ...  Mastery             \n",
              "52  52              ...  Purpose             \n",
              "53  53              ...  Purpose             \n",
              "54  54              ...  Purpose             \n",
              "\n",
              "[55 rows x 4 columns]"
            ]
          },
          "metadata": {
            "tags": []
          },
          "execution_count": 12
        }
      ]
    },
    {
      "cell_type": "markdown",
      "metadata": {
        "id": "Wi2iY5PGE5xD",
        "colab_type": "text"
      },
      "source": [
        "**Variable Objetivo**"
      ]
    },
    {
      "cell_type": "markdown",
      "metadata": {
        "id": "DJjRtMlJIZyC",
        "colab_type": "text"
      },
      "source": [
        "A continuación trataremos la variable objetivo para que sea el punto de partida del análisis. \n",
        "\n",
        "En el análisis sólo entrarán los empleados que hayan respondido a la pregunta de estrés. Preparamos un dataframe con estos empleados."
      ]
    },
    {
      "cell_type": "code",
      "metadata": {
        "id": "WyydpjgjjqFH",
        "colab_type": "code",
        "colab": {}
      },
      "source": [
        "stressQuestionId = '5dd6e4a49a5137000450ff1d'\n",
        "stressScores = scores[scores['questionId']==stressQuestionId]"
      ],
      "execution_count": 13,
      "outputs": []
    },
    {
      "cell_type": "code",
      "metadata": {
        "id": "Ap5rIk6KJWgv",
        "colab_type": "code",
        "colab": {
          "base_uri": "https://localhost:8080/",
          "height": 34
        },
        "outputId": "aeaece0e-26d2-4cb7-a226-acdd78dc8d4b"
      },
      "source": [
        "stressScores.shape"
      ],
      "execution_count": 14,
      "outputs": [
        {
          "output_type": "execute_result",
          "data": {
            "text/plain": [
              "(1885, 13)"
            ]
          },
          "metadata": {
            "tags": []
          },
          "execution_count": 14
        }
      ]
    },
    {
      "cell_type": "markdown",
      "metadata": {
        "id": "P1SXFq-SJatK",
        "colab_type": "text"
      },
      "source": [
        "En total tenemos 1885 votos en la pregunta de estrés"
      ]
    },
    {
      "cell_type": "markdown",
      "metadata": {
        "id": "O7xQbT-8JCo3",
        "colab_type": "text"
      },
      "source": [
        "**Analisis la distribución de votos**"
      ]
    },
    {
      "cell_type": "code",
      "metadata": {
        "id": "ezRhLLqMjtSF",
        "colab_type": "code",
        "colab": {
          "base_uri": "https://localhost:8080/",
          "height": 250
        },
        "outputId": "0f737903-2a40-4c1c-9734-30a78345d17f"
      },
      "source": [
        "stressScores['vote'].value_counts().to_frame().style.bar()"
      ],
      "execution_count": 15,
      "outputs": [
        {
          "output_type": "execute_result",
          "data": {
            "text/html": [
              "<style  type=\"text/css\" >\n",
              "    #T_357842ac_c8f4_11ea_93ff_0242ac1c0002row0_col0 {\n",
              "            width:  10em;\n",
              "             height:  80%;\n",
              "            background:  linear-gradient(90deg,#d65f5f 100.0%, transparent 100.0%);\n",
              "        }    #T_357842ac_c8f4_11ea_93ff_0242ac1c0002row1_col0 {\n",
              "            width:  10em;\n",
              "             height:  80%;\n",
              "            background:  linear-gradient(90deg,#d65f5f 80.2%, transparent 80.2%);\n",
              "        }    #T_357842ac_c8f4_11ea_93ff_0242ac1c0002row2_col0 {\n",
              "            width:  10em;\n",
              "             height:  80%;\n",
              "            background:  linear-gradient(90deg,#d65f5f 48.6%, transparent 48.6%);\n",
              "        }    #T_357842ac_c8f4_11ea_93ff_0242ac1c0002row3_col0 {\n",
              "            width:  10em;\n",
              "             height:  80%;\n",
              "            background:  linear-gradient(90deg,#d65f5f 37.3%, transparent 37.3%);\n",
              "        }    #T_357842ac_c8f4_11ea_93ff_0242ac1c0002row4_col0 {\n",
              "            width:  10em;\n",
              "             height:  80%;\n",
              "            background:  linear-gradient(90deg,#d65f5f 35.4%, transparent 35.4%);\n",
              "        }    #T_357842ac_c8f4_11ea_93ff_0242ac1c0002row5_col0 {\n",
              "            width:  10em;\n",
              "             height:  80%;\n",
              "            background:  linear-gradient(90deg,#d65f5f 27.2%, transparent 27.2%);\n",
              "        }    #T_357842ac_c8f4_11ea_93ff_0242ac1c0002row6_col0 {\n",
              "            width:  10em;\n",
              "             height:  80%;\n",
              "            background:  linear-gradient(90deg,#d65f5f 13.1%, transparent 13.1%);\n",
              "        }    #T_357842ac_c8f4_11ea_93ff_0242ac1c0002row7_col0 {\n",
              "            width:  10em;\n",
              "             height:  80%;\n",
              "            background:  linear-gradient(90deg,#d65f5f 10.1%, transparent 10.1%);\n",
              "        }    #T_357842ac_c8f4_11ea_93ff_0242ac1c0002row8_col0 {\n",
              "            width:  10em;\n",
              "             height:  80%;\n",
              "            background:  linear-gradient(90deg,#d65f5f 2.9%, transparent 2.9%);\n",
              "        }    #T_357842ac_c8f4_11ea_93ff_0242ac1c0002row9_col0 {\n",
              "            width:  10em;\n",
              "             height:  80%;\n",
              "        }</style><table id=\"T_357842ac_c8f4_11ea_93ff_0242ac1c0002\" ><thead>    <tr>        <th class=\"blank level0\" ></th>        <th class=\"col_heading level0 col0\" >vote</th>    </tr></thead><tbody>\n",
              "                <tr>\n",
              "                        <th id=\"T_357842ac_c8f4_11ea_93ff_0242ac1c0002level0_row0\" class=\"row_heading level0 row0\" >3</th>\n",
              "                        <td id=\"T_357842ac_c8f4_11ea_93ff_0242ac1c0002row0_col0\" class=\"data row0 col0\" >495</td>\n",
              "            </tr>\n",
              "            <tr>\n",
              "                        <th id=\"T_357842ac_c8f4_11ea_93ff_0242ac1c0002level0_row1\" class=\"row_heading level0 row1\" >4</th>\n",
              "                        <td id=\"T_357842ac_c8f4_11ea_93ff_0242ac1c0002row1_col0\" class=\"data row1 col0\" >401</td>\n",
              "            </tr>\n",
              "            <tr>\n",
              "                        <th id=\"T_357842ac_c8f4_11ea_93ff_0242ac1c0002level0_row2\" class=\"row_heading level0 row2\" >2</th>\n",
              "                        <td id=\"T_357842ac_c8f4_11ea_93ff_0242ac1c0002row2_col0\" class=\"data row2 col0\" >251</td>\n",
              "            </tr>\n",
              "            <tr>\n",
              "                        <th id=\"T_357842ac_c8f4_11ea_93ff_0242ac1c0002level0_row3\" class=\"row_heading level0 row3\" >1</th>\n",
              "                        <td id=\"T_357842ac_c8f4_11ea_93ff_0242ac1c0002row3_col0\" class=\"data row3 col0\" >197</td>\n",
              "            </tr>\n",
              "            <tr>\n",
              "                        <th id=\"T_357842ac_c8f4_11ea_93ff_0242ac1c0002level0_row4\" class=\"row_heading level0 row4\" >5</th>\n",
              "                        <td id=\"T_357842ac_c8f4_11ea_93ff_0242ac1c0002row4_col0\" class=\"data row4 col0\" >188</td>\n",
              "            </tr>\n",
              "            <tr>\n",
              "                        <th id=\"T_357842ac_c8f4_11ea_93ff_0242ac1c0002level0_row5\" class=\"row_heading level0 row5\" >6</th>\n",
              "                        <td id=\"T_357842ac_c8f4_11ea_93ff_0242ac1c0002row5_col0\" class=\"data row5 col0\" >149</td>\n",
              "            </tr>\n",
              "            <tr>\n",
              "                        <th id=\"T_357842ac_c8f4_11ea_93ff_0242ac1c0002level0_row6\" class=\"row_heading level0 row6\" >7</th>\n",
              "                        <td id=\"T_357842ac_c8f4_11ea_93ff_0242ac1c0002row6_col0\" class=\"data row6 col0\" >82</td>\n",
              "            </tr>\n",
              "            <tr>\n",
              "                        <th id=\"T_357842ac_c8f4_11ea_93ff_0242ac1c0002level0_row7\" class=\"row_heading level0 row7\" >8</th>\n",
              "                        <td id=\"T_357842ac_c8f4_11ea_93ff_0242ac1c0002row7_col0\" class=\"data row7 col0\" >68</td>\n",
              "            </tr>\n",
              "            <tr>\n",
              "                        <th id=\"T_357842ac_c8f4_11ea_93ff_0242ac1c0002level0_row8\" class=\"row_heading level0 row8\" >9</th>\n",
              "                        <td id=\"T_357842ac_c8f4_11ea_93ff_0242ac1c0002row8_col0\" class=\"data row8 col0\" >34</td>\n",
              "            </tr>\n",
              "            <tr>\n",
              "                        <th id=\"T_357842ac_c8f4_11ea_93ff_0242ac1c0002level0_row9\" class=\"row_heading level0 row9\" >10</th>\n",
              "                        <td id=\"T_357842ac_c8f4_11ea_93ff_0242ac1c0002row9_col0\" class=\"data row9 col0\" >20</td>\n",
              "            </tr>\n",
              "    </tbody></table>"
            ],
            "text/plain": [
              "<pandas.io.formats.style.Styler at 0x7f7e130024a8>"
            ]
          },
          "metadata": {
            "tags": []
          },
          "execution_count": 15
        }
      ]
    },
    {
      "cell_type": "code",
      "metadata": {
        "id": "xCtppVtWJieV",
        "colab_type": "code",
        "colab": {
          "base_uri": "https://localhost:8080/",
          "height": 204
        },
        "outputId": "403194e0-9fc5-4afc-a06c-15ab65cf8ed9"
      },
      "source": [
        "stressScores['vote'].value_counts(sorted)"
      ],
      "execution_count": 16,
      "outputs": [
        {
          "output_type": "execute_result",
          "data": {
            "text/plain": [
              "3     0.262599\n",
              "4     0.212732\n",
              "2     0.133156\n",
              "1     0.104509\n",
              "5     0.099735\n",
              "6     0.079045\n",
              "7     0.043501\n",
              "8     0.036074\n",
              "9     0.018037\n",
              "10    0.010610\n",
              "Name: vote, dtype: float64"
            ]
          },
          "metadata": {
            "tags": []
          },
          "execution_count": 16
        }
      ]
    },
    {
      "cell_type": "code",
      "metadata": {
        "id": "TBO7bdohMSDT",
        "colab_type": "code",
        "colab": {
          "base_uri": "https://localhost:8080/",
          "height": 34
        },
        "outputId": "3a4f2246-abd5-48a3-c712-4c304574a8be"
      },
      "source": [
        "print('Porcentaje malos: {:.2%}'.format(len(stressScores[stressScores['vote']<=3])/len(stressScores)))"
      ],
      "execution_count": 17,
      "outputs": [
        {
          "output_type": "stream",
          "text": [
            "Porcentaje malos: 50.03%\n"
          ],
          "name": "stdout"
        }
      ]
    },
    {
      "cell_type": "markdown",
      "metadata": {
        "id": "hzQHTMV3L2vL",
        "colab_type": "text"
      },
      "source": [
        "En la base de datos de Happy Force, se invirtió la puntuación de la pregunta para ir alineado con el resto de preguntas. De esta forma, una puntuación baja significa elevado nivel de estrés y viceversa. \n",
        "\n",
        "Si analizamos la distribución, vemos que tenemos un 50% de empleados que responden a la pregunta con puntuaciones inferiores o iguales a 3. Consideraremos estas puntuaciones para definir el estrés."
      ]
    },
    {
      "cell_type": "markdown",
      "metadata": {
        "id": "q6ahSuYwR7oi",
        "colab_type": "text"
      },
      "source": [
        "**Tratamiento fechas**\n",
        "\n",
        "Cambiamos todas las variables que se refieren a fechas a un formato datetime para que Python las trate correctamente."
      ]
    },
    {
      "cell_type": "code",
      "metadata": {
        "id": "xJZc0s4ZQjbS",
        "colab_type": "code",
        "colab": {}
      },
      "source": [
        "hi['date'] = pd.to_datetime(hi['date'])\n",
        "stressScores['date'] = pd.to_datetime(stressScores['date'])\n",
        "scores['date'] = pd.to_datetime(scores['date'])"
      ],
      "execution_count": 18,
      "outputs": []
    },
    {
      "cell_type": "markdown",
      "metadata": {
        "id": "PCyxbcZ0gW6J",
        "colab_type": "text"
      },
      "source": [
        "**Creamos un diccionario de preguntas**\n",
        "\n",
        "Para tratar correctamente todas las preguntas que tenemos en el dataset, vamos a crear diccionarios con cada una de las preguntas para tenerlas como datasets separados."
      ]
    },
    {
      "cell_type": "code",
      "metadata": {
        "id": "-IFHoRSv9Jfa",
        "colab_type": "code",
        "colab": {}
      },
      "source": [
        "questionNumber = scores['questionNumber'].nunique()\n",
        "\n",
        "df_questions = {}\n",
        "\n",
        "for i in range(questionNumber):\n",
        "  df_questions[i]  = scores[scores['questionNumber'] == i]"
      ],
      "execution_count": 19,
      "outputs": []
    },
    {
      "cell_type": "markdown",
      "metadata": {
        "id": "xLk6NivCgdaV",
        "colab_type": "text"
      },
      "source": [
        "**Creamos un diccionario de factores**\n",
        "\n",
        "Para los factores (grupos de preguntas), hacemos el mismo tratamiento que hemos hecho para las preguntas, agrupando en un diccionarios todos los valores para cada factor."
      ]
    },
    {
      "cell_type": "code",
      "metadata": {
        "id": "0avhjp0DgiKn",
        "colab_type": "code",
        "colab": {}
      },
      "source": [
        "factorNumber = scores['factorId'].nunique()\n",
        "\n",
        "df_factors = {}\n",
        "\n",
        "for i in range(factorNumber):\n",
        "  df_factors[i]  = scores[scores['factorNumber'] == i]"
      ],
      "execution_count": 20,
      "outputs": []
    },
    {
      "cell_type": "markdown",
      "metadata": {
        "id": "7Gtx70D7etW9",
        "colab_type": "text"
      },
      "source": [
        "A continuación definimos la función que nos construirá el dataset que necesitamos para modelizar.\n",
        "\n",
        "La función utiliza como base el dataset generado con las preguntas de estrés (\"stressScores\") y añade, para cada empleado un promedio de la ventana temporal (anterior a la respuesta de estrés) que le indiquemos en la misma función.\n",
        "\n",
        "De esta forma podemos crear una variable para cada pregunta y/o factor que nos va a indicar el valor promedio de las respuestas del empleado en los meses anteriores que deseemos.\n",
        "\n",
        "Hemos implementado la función de forma que si no se indica ninguna ventana (\"window\"), selecciona por defecto los \"month\" meses anteriores, mientras que si asignamos un valor a \"window\" nos calcula el promedio de hace \"month\" meses durante \"window\" mes. Esto nos permite anticiparnos al estrés utilizando variables que muestran qué puntuación tiene una pregunta 6 meses antes de que el empleado diga que está estresado. \n",
        "\n",
        "Por ejemplo, si llamamos a la función con los parámetros \"month\"=6 y \"window\"=1, la función nos calculará el promedio de todas las veces que un empleado contestó a una pregunta determinada entre 6 meses y 5 meses antes de la fecha en que respondió a la pregunta de estrés.\n",
        "\n",
        "Este proceso se realiza para cada una de las preguntas y para cada vez que un empleado responde a la pregunta de estrés."
      ]
    },
    {
      "cell_type": "code",
      "metadata": {
        "id": "wP4OibryrDwh",
        "colab_type": "code",
        "colab": {}
      },
      "source": [
        "def build_stress_historic(df, stress_df, sfx, months, window=99):\n",
        "  # Calculamos la fecha desde la cual queremos obtener la puntuación por empleado:\n",
        "  stress_df['fromDate'] = pd.to_datetime(stressScores['date']) - pd.DateOffset(months=months)\n",
        "  if window==99:\n",
        "    stress_df['toDate'] = pd.to_datetime(stress_df['date'])\n",
        "  else:\n",
        "    stress_df['toDate'] = pd.to_datetime(stress_df['fromDate']) + pd.DateOffset(months=window)\n",
        "\n",
        "  # Combinamos la pregunta con el dataframe de stress. Hacemos el merge a nivel empleado y le añadimos a la variable el número de \n",
        "  # meses y la ventana utilizada para el cálculo)\n",
        "  stress_df_tmp = pd.merge(stress_df, df,on=['companyAlias', 'employeeId'], how='left', suffixes=('_stress',\"_\"+sfx + \"_M\" + str(months) + \"_\" + str(window)))\n",
        "\n",
        "  #Añadimos le sufijo para la pregunta deseada\n",
        "  date_  = \"date_\"+ sfx + \"_M\" + str(months) + \"_\" + str(window)\n",
        "  vote_ = \"vote_\" + sfx +  \"_M\" + str(months) + \"_\" + str(window)\n",
        "\n",
        "  # Nos quedamos con los registros, donde la fecha de respuesta este en la ventana de fecha de inicio y fin\n",
        "  # fecha inicio: desde cuando queremos 'almacenar' la respuesta para un empleado;\n",
        "  # fecha fin: cuando se registro el voto de la pregunta de stress\n",
        "  stress_df_tmp = stress_df_tmp[(stress_df_tmp['toDate'] >= stress_df_tmp[date_]) & (stress_df_tmp[date_] >= stress_df_tmp['fromDate'])]\n",
        "\n",
        "  # Nos quedamos con las columnas que nos interesan\n",
        "  stress_df_tmp = stress_df_tmp[['employeeId', 'companyAlias', vote_, 'vote_stress', 'date_stress']]\n",
        "\n",
        "  # Y calculamos el AVG de la pregunta para el periodo\n",
        "\n",
        "  return stress_df_tmp.groupby(by=['employeeId', 'companyAlias', 'date_stress','vote_stress']).mean().reset_index() \n",
        "  \n",
        "  # también está la opción de añadir el count para ver cuántas respuestas tenemos a cada pregunta. Una vez analizado lo hemos dejado comentado.\n",
        "  #.agg(['count','mean'])\n"
      ],
      "execution_count": 21,
      "outputs": []
    },
    {
      "cell_type": "code",
      "metadata": {
        "id": "xtVWYJMKcE-c",
        "colab_type": "code",
        "colab": {}
      },
      "source": [
        "# Calculamos la fecha desde la cual queremos obtener la puntuación por empleado:\n",
        "#months=6\n",
        "#window=99\n",
        "#stress_df=stressScores\n",
        "#df=hi\n",
        "#sfx='hi'\n",
        "\n",
        "#stress_df['fromDate'] = pd.to_datetime(stressScores['date']) - pd.DateOffset(months=months)\n",
        "\n",
        "#stress_df['toDate'] = pd.to_datetime(stress_df['date'])\n",
        "\n",
        "  # Combinamos la pregunta con el dataframe de stress. Hacemos el merge a nivel empleado y le añadimos a la variable el número de \n",
        "  # meses y la ventana utilizada para el cálculo)\n",
        "#stress_df_tmp = pd.merge(stress_df, df,on=['companyAlias', 'employeeId'], how='left', suffixes=('_stress',\"_\"+sfx + \"_M\" + str(months) + \"_\" + str(window)))\n",
        "\n",
        "  #Añadimos le sufijo para la pregunta deseada\n",
        "#date_  = \"date_\"+ sfx + \"_M\" + str(months) + \"_\" + str(window)\n",
        "#vote_ = \"vote_\" + sfx +  \"_M\" + str(months) + \"_\" + str(window)\n",
        "\n",
        "  # Nos quedamos con los registros, donde la fecha de respuesta este en la ventana de fecha de inicio y fin\n",
        "  # fecha inicio: desde cuando queremos 'almacenar' la respuesta para un empleado;\n",
        "  # fecha fin: cuando se registro el voto de la pregunta de stress\n",
        "#stress_df_tmp = stress_df_tmp[(stress_df_tmp['toDate'] >= stress_df_tmp[date_]) & (stress_df_tmp[date_] >= stress_df_tmp['fromDate'])]\n"
      ],
      "execution_count": 22,
      "outputs": []
    },
    {
      "cell_type": "code",
      "metadata": {
        "id": "mPgtayLgiY2h",
        "colab_type": "code",
        "colab": {}
      },
      "source": [
        "#stress_df_tmp;"
      ],
      "execution_count": 23,
      "outputs": []
    },
    {
      "cell_type": "markdown",
      "metadata": {
        "id": "65eHLFtsYp3t",
        "colab_type": "text"
      },
      "source": [
        "**Juntamos todas las preguntas y sus valores en un dataframe completo**"
      ]
    },
    {
      "cell_type": "markdown",
      "metadata": {
        "id": "mG7rsue8PrUA",
        "colab_type": "text"
      },
      "source": [
        "Utilizamos la función creada para calcular promedios en ventanas temporales de tiempo para crear el dataset. Hemos elegido 1, 3 y 6 meses para crear nuestras variables y siempre con un período de observación de un mes."
      ]
    },
    {
      "cell_type": "code",
      "metadata": {
        "id": "4nS3hsHKYxFR",
        "colab_type": "code",
        "colab": {}
      },
      "source": [
        "months = [2,3,6]\n",
        "base=stressScores.copy()\n",
        "base['vote_stress']=stressScores['vote']\n",
        "base['date_stress']=pd.to_datetime(stressScores['date'])\n",
        "base=base[['companyAlias', 'employeeId', 'date_stress','vote_stress']]\n",
        "#Primero preparamos la variable hi\n",
        "big_df1 = build_stress_historic(hi, stressScores, 'hi', 6, 99)\n",
        "big_df = pd.merge(base, big_df1, on = ['companyAlias', 'employeeId', 'date_stress','vote_stress'], how = 'left')\n",
        "small_df = build_stress_historic(hi, stressScores,  'hi', 3, 99)\n",
        "big_df = pd.merge(big_df, small_df, on = ['companyAlias', 'employeeId', 'date_stress','vote_stress'], how = 'left')\n",
        "small_df = build_stress_historic(hi, stressScores,  'hi', 2, 99)\n",
        "big_df = pd.merge(big_df, small_df, on = ['companyAlias', 'employeeId', 'date_stress','vote_stress'], how = 'left')\n",
        "\n",
        "#Añadimos las preguntas\n",
        "for j in range(55):\n",
        "  for i in months:\n",
        "    small_df = build_stress_historic(df_questions[j], stressScores, str(j)+'_q', i, 99)\n",
        "    big_df = pd.merge(big_df, small_df, on = ['companyAlias', 'employeeId', 'date_stress','vote_stress'], how = 'left')\n",
        "\n",
        "#Añadimos los factores\n",
        "for j in range(len(df_factors)):\n",
        "  for i in months:\n",
        "    small_df = build_stress_historic(df_factors[j], stressScores, str(j)+'_f', i, 99)\n",
        "    big_df = pd.merge(big_df, small_df, on = ['companyAlias', 'employeeId', 'date_stress','vote_stress'], how = 'left')\n"
      ],
      "execution_count": 24,
      "outputs": []
    },
    {
      "cell_type": "markdown",
      "metadata": {
        "id": "tT6C7qATQBY9",
        "colab_type": "text"
      },
      "source": [
        "Añadimos el sector al dataframe"
      ]
    },
    {
      "cell_type": "code",
      "metadata": {
        "id": "xfMwW8Q7kDuQ",
        "colab_type": "code",
        "colab": {}
      },
      "source": [
        "sector = scores[['companyIndustry', 'companyAlias']].drop_duplicates()\n",
        "big_df = pd.merge(big_df, sector, on = ['companyAlias'], how = 'left')"
      ],
      "execution_count": 25,
      "outputs": []
    },
    {
      "cell_type": "code",
      "metadata": {
        "id": "MX6Gzx6nNr8Q",
        "colab_type": "code",
        "colab": {}
      },
      "source": [
        "df_nan=big_df.isna().sum().sort_values(ascending=False).to_frame().reset_index()\n",
        "df_nan=df_nan.rename(columns={0:'num','index':'vars'})"
      ],
      "execution_count": 26,
      "outputs": []
    },
    {
      "cell_type": "code",
      "metadata": {
        "id": "If6-IcejOn1x",
        "colab_type": "code",
        "colab": {
          "base_uri": "https://localhost:8080/",
          "height": 419
        },
        "outputId": "818466d8-5525-4ad7-b304-bc39f07e85b8"
      },
      "source": [
        "#vars_good=df_nan[df_nan['num']<900]['vars'].to_list()\n",
        "df_nan"
      ],
      "execution_count": 27,
      "outputs": [
        {
          "output_type": "execute_result",
          "data": {
            "text/html": [
              "<div>\n",
              "<style scoped>\n",
              "    .dataframe tbody tr th:only-of-type {\n",
              "        vertical-align: middle;\n",
              "    }\n",
              "\n",
              "    .dataframe tbody tr th {\n",
              "        vertical-align: top;\n",
              "    }\n",
              "\n",
              "    .dataframe thead th {\n",
              "        text-align: right;\n",
              "    }\n",
              "</style>\n",
              "<table border=\"1\" class=\"dataframe\">\n",
              "  <thead>\n",
              "    <tr style=\"text-align: right;\">\n",
              "      <th></th>\n",
              "      <th>vars</th>\n",
              "      <th>num</th>\n",
              "    </tr>\n",
              "  </thead>\n",
              "  <tbody>\n",
              "    <tr>\n",
              "      <th>0</th>\n",
              "      <td>vote_51_q_M2_99</td>\n",
              "      <td>1649</td>\n",
              "    </tr>\n",
              "    <tr>\n",
              "      <th>1</th>\n",
              "      <td>vote_13_q_M2_99</td>\n",
              "      <td>1648</td>\n",
              "    </tr>\n",
              "    <tr>\n",
              "      <th>2</th>\n",
              "      <td>vote_24_q_M2_99</td>\n",
              "      <td>1631</td>\n",
              "    </tr>\n",
              "    <tr>\n",
              "      <th>3</th>\n",
              "      <td>vote_22_q_M2_99</td>\n",
              "      <td>1631</td>\n",
              "    </tr>\n",
              "    <tr>\n",
              "      <th>4</th>\n",
              "      <td>vote_23_q_M2_99</td>\n",
              "      <td>1629</td>\n",
              "    </tr>\n",
              "    <tr>\n",
              "      <th>...</th>\n",
              "      <td>...</td>\n",
              "      <td>...</td>\n",
              "    </tr>\n",
              "    <tr>\n",
              "      <th>225</th>\n",
              "      <td>vote_21_q_M6_99</td>\n",
              "      <td>0</td>\n",
              "    </tr>\n",
              "    <tr>\n",
              "      <th>226</th>\n",
              "      <td>vote_7_f_M2_99</td>\n",
              "      <td>0</td>\n",
              "    </tr>\n",
              "    <tr>\n",
              "      <th>227</th>\n",
              "      <td>vote_7_f_M3_99</td>\n",
              "      <td>0</td>\n",
              "    </tr>\n",
              "    <tr>\n",
              "      <th>228</th>\n",
              "      <td>vote_7_f_M6_99</td>\n",
              "      <td>0</td>\n",
              "    </tr>\n",
              "    <tr>\n",
              "      <th>229</th>\n",
              "      <td>companyAlias</td>\n",
              "      <td>0</td>\n",
              "    </tr>\n",
              "  </tbody>\n",
              "</table>\n",
              "<p>230 rows × 2 columns</p>\n",
              "</div>"
            ],
            "text/plain": [
              "                vars   num\n",
              "0    vote_51_q_M2_99  1649\n",
              "1    vote_13_q_M2_99  1648\n",
              "2    vote_24_q_M2_99  1631\n",
              "3    vote_22_q_M2_99  1631\n",
              "4    vote_23_q_M2_99  1629\n",
              "..               ...   ...\n",
              "225  vote_21_q_M6_99  0   \n",
              "226  vote_7_f_M2_99   0   \n",
              "227  vote_7_f_M3_99   0   \n",
              "228  vote_7_f_M6_99   0   \n",
              "229  companyAlias     0   \n",
              "\n",
              "[230 rows x 2 columns]"
            ]
          },
          "metadata": {
            "tags": []
          },
          "execution_count": 27
        }
      ]
    },
    {
      "cell_type": "markdown",
      "metadata": {
        "id": "q_RYG7Lp_l1A",
        "colab_type": "text"
      },
      "source": [
        "**Preparamos dataframe para modelizar**"
      ]
    },
    {
      "cell_type": "markdown",
      "metadata": {
        "id": "y-vADkmj93jC",
        "colab_type": "text"
      },
      "source": [
        "Factorizamos las variables para obtener un dataframe con 0's y 1's en función de la puntuación de cada pregunta.\n",
        "\n",
        "Tal y cómo hemos definido arriba, consideramos que las puntuaciones inferiores o iguales a 3 en la pregunta estrés nos indicarán que el empleado está estresado. Para el resto de preguntas, definimos respuesta negativa para puntuaciones inferiores o iguales a 5. Para el HI (al ir de 1 a 4) definimos 1 y 2 malo, 3 y 4 bueno."
      ]
    },
    {
      "cell_type": "code",
      "metadata": {
        "id": "MKuXnFL_gxy1",
        "colab_type": "code",
        "colab": {}
      },
      "source": [
        "df_cat = big_df.copy()"
      ],
      "execution_count": 28,
      "outputs": []
    },
    {
      "cell_type": "code",
      "metadata": {
        "id": "XJ0jBOA-XpMK",
        "colab_type": "code",
        "colab": {}
      },
      "source": [
        "# para preguntas 'HI' asignamos '1' a las respuestas con valor 1 o 2\n",
        "limite_hi=2\n",
        "# para stress (variable objetivo) asignamos '1' a las respuestas con valor 1, 2 o 3\n",
        "limite_stress=3\n",
        "# para el resto de preguntas asignamos '1' para valores inferiores o iguales a 5.\n",
        "limite_resto=5\n",
        "\n",
        "var_dataset=df_cat.columns\n",
        "for i in var_dataset:\n",
        "  if i=='vote_stress':\n",
        "    df_cat[i+'_cat']=df_cat[i].apply(lambda x: 1 if x<=limite_stress else 0)\n",
        "  elif '_hi_' in i:\n",
        "    df_cat[i+'_cat']=df_cat[i].apply(lambda x: 1 if x<=limite_hi else 0)\n",
        "    df_cat.drop(i,inplace=True,axis=1)\n",
        "  elif 'vote' in i and i !='vote_stress':\n",
        "    df_cat[i+'_cat']=df_cat[i].apply(lambda x: 1 if x<=limite_resto else 0)\n",
        "    df_cat.drop(i,inplace=True,axis=1)"
      ],
      "execution_count": 29,
      "outputs": []
    },
    {
      "cell_type": "markdown",
      "metadata": {
        "id": "eOomOrl85BVK",
        "colab_type": "text"
      },
      "source": [
        "Analizamos el estress en función del sector de la compañía."
      ]
    },
    {
      "cell_type": "code",
      "metadata": {
        "id": "2fxqjHjR1RZF",
        "colab_type": "code",
        "colab": {
          "base_uri": "https://localhost:8080/",
          "height": 514
        },
        "outputId": "73798ae7-2fc0-4f8a-a556-eadd7c714c41"
      },
      "source": [
        "resumen=df_cat[['companyIndustry','vote_stress_cat']].groupby(by=['companyIndustry']).agg(['count','sum']).reset_index()\n",
        "resumen['% stress']=(resumen[('vote_stress_cat', 'sum')]/resumen[('vote_stress_cat', 'count')])*100\n",
        "resumen.sort_values((       '% stress',      ''),ascending=False)"
      ],
      "execution_count": 30,
      "outputs": [
        {
          "output_type": "execute_result",
          "data": {
            "text/html": [
              "<div>\n",
              "<style scoped>\n",
              "    .dataframe tbody tr th:only-of-type {\n",
              "        vertical-align: middle;\n",
              "    }\n",
              "\n",
              "    .dataframe tbody tr th {\n",
              "        vertical-align: top;\n",
              "    }\n",
              "\n",
              "    .dataframe thead tr th {\n",
              "        text-align: left;\n",
              "    }\n",
              "</style>\n",
              "<table border=\"1\" class=\"dataframe\">\n",
              "  <thead>\n",
              "    <tr>\n",
              "      <th></th>\n",
              "      <th>companyIndustry</th>\n",
              "      <th colspan=\"2\" halign=\"left\">vote_stress_cat</th>\n",
              "      <th>% stress</th>\n",
              "    </tr>\n",
              "    <tr>\n",
              "      <th></th>\n",
              "      <th></th>\n",
              "      <th>count</th>\n",
              "      <th>sum</th>\n",
              "      <th></th>\n",
              "    </tr>\n",
              "  </thead>\n",
              "  <tbody>\n",
              "    <tr>\n",
              "      <th>9</th>\n",
              "      <td>NATURAL_RESOURCES</td>\n",
              "      <td>39</td>\n",
              "      <td>29</td>\n",
              "      <td>74.358974</td>\n",
              "    </tr>\n",
              "    <tr>\n",
              "      <th>4</th>\n",
              "      <td>FINANCIAL_SERVICES_INSURANCE</td>\n",
              "      <td>334</td>\n",
              "      <td>210</td>\n",
              "      <td>62.874251</td>\n",
              "    </tr>\n",
              "    <tr>\n",
              "      <th>11</th>\n",
              "      <td>PUBLIC_AND_GOVERMENT_ADMINISTRATION</td>\n",
              "      <td>28</td>\n",
              "      <td>17</td>\n",
              "      <td>60.714286</td>\n",
              "    </tr>\n",
              "    <tr>\n",
              "      <th>13</th>\n",
              "      <td>WHOLESALE_AND_RETAIL_TRADE</td>\n",
              "      <td>33</td>\n",
              "      <td>19</td>\n",
              "      <td>57.575758</td>\n",
              "    </tr>\n",
              "    <tr>\n",
              "      <th>7</th>\n",
              "      <td>MANUFACTURING</td>\n",
              "      <td>176</td>\n",
              "      <td>99</td>\n",
              "      <td>56.250000</td>\n",
              "    </tr>\n",
              "    <tr>\n",
              "      <th>3</th>\n",
              "      <td>EDUCATIONAL_SERVICES</td>\n",
              "      <td>31</td>\n",
              "      <td>17</td>\n",
              "      <td>54.838710</td>\n",
              "    </tr>\n",
              "    <tr>\n",
              "      <th>5</th>\n",
              "      <td>HEALTH_CARE_SOCIAL_ASSISTANCE</td>\n",
              "      <td>293</td>\n",
              "      <td>152</td>\n",
              "      <td>51.877133</td>\n",
              "    </tr>\n",
              "    <tr>\n",
              "      <th>0</th>\n",
              "      <td>ACCOMMODATION_AND_FOOT_SERVICES</td>\n",
              "      <td>89</td>\n",
              "      <td>46</td>\n",
              "      <td>51.685393</td>\n",
              "    </tr>\n",
              "    <tr>\n",
              "      <th>1</th>\n",
              "      <td>ARTS_ENTERTAINMENT_RECREATION</td>\n",
              "      <td>4</td>\n",
              "      <td>2</td>\n",
              "      <td>50.000000</td>\n",
              "    </tr>\n",
              "    <tr>\n",
              "      <th>2</th>\n",
              "      <td>COMPUTER_SOFTWARE_IT_SERVICES</td>\n",
              "      <td>701</td>\n",
              "      <td>295</td>\n",
              "      <td>42.082739</td>\n",
              "    </tr>\n",
              "    <tr>\n",
              "      <th>10</th>\n",
              "      <td>NON_PROFIT_ORGANIZATION</td>\n",
              "      <td>102</td>\n",
              "      <td>41</td>\n",
              "      <td>40.196078</td>\n",
              "    </tr>\n",
              "    <tr>\n",
              "      <th>8</th>\n",
              "      <td>MARKETING_ADVERTISING</td>\n",
              "      <td>5</td>\n",
              "      <td>2</td>\n",
              "      <td>40.000000</td>\n",
              "    </tr>\n",
              "    <tr>\n",
              "      <th>12</th>\n",
              "      <td>UTILITIES_AND_SERVICES</td>\n",
              "      <td>15</td>\n",
              "      <td>6</td>\n",
              "      <td>40.000000</td>\n",
              "    </tr>\n",
              "    <tr>\n",
              "      <th>6</th>\n",
              "      <td>MANAGEMENT_CONSULTING</td>\n",
              "      <td>35</td>\n",
              "      <td>8</td>\n",
              "      <td>22.857143</td>\n",
              "    </tr>\n",
              "  </tbody>\n",
              "</table>\n",
              "</div>"
            ],
            "text/plain": [
              "                        companyIndustry vote_stress_cat        % stress\n",
              "                                                  count  sum           \n",
              "9   NATURAL_RESOURCES                    39              29   74.358974\n",
              "4   FINANCIAL_SERVICES_INSURANCE         334             210  62.874251\n",
              "11  PUBLIC_AND_GOVERMENT_ADMINISTRATION  28              17   60.714286\n",
              "13  WHOLESALE_AND_RETAIL_TRADE           33              19   57.575758\n",
              "7   MANUFACTURING                        176             99   56.250000\n",
              "3   EDUCATIONAL_SERVICES                 31              17   54.838710\n",
              "5   HEALTH_CARE_SOCIAL_ASSISTANCE        293             152  51.877133\n",
              "0   ACCOMMODATION_AND_FOOT_SERVICES      89              46   51.685393\n",
              "1   ARTS_ENTERTAINMENT_RECREATION        4               2    50.000000\n",
              "2   COMPUTER_SOFTWARE_IT_SERVICES        701             295  42.082739\n",
              "10  NON_PROFIT_ORGANIZATION              102             41   40.196078\n",
              "8   MARKETING_ADVERTISING                5               2    40.000000\n",
              "12  UTILITIES_AND_SERVICES               15              6    40.000000\n",
              "6   MANAGEMENT_CONSULTING                35              8    22.857143"
            ]
          },
          "metadata": {
            "tags": []
          },
          "execution_count": 30
        }
      ]
    },
    {
      "cell_type": "markdown",
      "metadata": {
        "id": "sD8-YFU648UP",
        "colab_type": "text"
      },
      "source": [
        "En el análsis del estrés a nivel sector, vemos cómo el sector de NATURAL_RESOURCES es el que tiene un % de estrés más elevado, aunque el número de resuestas en la muestra no es muy elevado. Donde sí observamos un % de estrés elevado con una muestra robusta es en el sector FINANCIAL_SERVICES_INSURANCE. En general, tenemos % de estrés superiores al 40% en todos los sectores excepto en MANAGEMENT_CONSULTING. También destaca que COMPUTER_SOFTWARE_IT_SERVICES tiene uno de los % más bajos con un elevado número de respuestas."
      ]
    },
    {
      "cell_type": "markdown",
      "metadata": {
        "id": "nQhDUu2d-lfC",
        "colab_type": "text"
      },
      "source": [
        "A continuación, aplicamos 'get_dummies' a la variable 'companyIndustry' y añadimos el resultado al dataframe, eliminando las variables originales. De esta forma podremos relacionar el sector de la compañía con el estrés en la modelización."
      ]
    },
    {
      "cell_type": "code",
      "metadata": {
        "id": "8f-ilJs52G0a",
        "colab_type": "code",
        "colab": {}
      },
      "source": [
        "df_dummies=pd.get_dummies(data=df_cat['companyIndustry'])\n",
        "df_cat_dummies=pd.concat([df_cat,df_dummies],axis=1)\n",
        "df_cat_dummies.drop(['companyAlias','companyIndustry'],inplace=True,axis=1)"
      ],
      "execution_count": 31,
      "outputs": []
    },
    {
      "cell_type": "markdown",
      "metadata": {
        "id": "fp8g3qoz-8n9",
        "colab_type": "text"
      },
      "source": [
        "Hacemos el mismo tratamiento para el mes de voto a la pregunta de stress. Estas variables nos permitirán ver si el mes del año influye en el estrés del empleado."
      ]
    },
    {
      "cell_type": "code",
      "metadata": {
        "id": "WjT6NUTPAln3",
        "colab_type": "code",
        "colab": {}
      },
      "source": [
        "# seleccionamos el mes de voto\n",
        "df_cat_dummies['month_stress']=pd.DatetimeIndex(df_cat_dummies['date_stress']).month\n",
        "df_stress_info=df_cat_dummies[['employeeId','date_stress','vote_stress']]\n",
        "df_cat_dummies.drop(['employeeId','date_stress','vote_stress'],inplace=True,axis=1)\n",
        "\n",
        "# aplicamos get_dummies sobre la variable de mes de estres\n",
        "df_dummies_month=pd.get_dummies(data=df_cat_dummies['month_stress'],prefix='month')\n",
        "df_cat_dummies=pd.concat([df_cat_dummies,df_dummies_month],axis=1)\n",
        "df_cat_dummies.drop(['month_stress'],inplace=True,axis=1)"
      ],
      "execution_count": 32,
      "outputs": []
    },
    {
      "cell_type": "markdown",
      "metadata": {
        "id": "Lu-6iNPMCB1g",
        "colab_type": "text"
      },
      "source": [
        "Eliminamos del dataframe la pregunta 21 porque es la de estrés que utilizamos para la variable objetivo y, por tanto, duplicamos la columna. Además, eliminamos el factor 7 porque es el que incluye esta pregunta."
      ]
    },
    {
      "cell_type": "code",
      "metadata": {
        "id": "dNN9m-uH-NSG",
        "colab_type": "code",
        "colab": {}
      },
      "source": [
        "# eliminamos variables correspondientes a las preguntas de estres porque no nos aportan\n",
        "# información a nuestro análisis\n",
        "var_dataset=df_cat_dummies.columns\n",
        "for i in var_dataset:\n",
        "  if 'vote_7_f' in i or 'vote_21_q' in i:\n",
        "    df_cat_dummies.drop(i,inplace=True,axis=1)"
      ],
      "execution_count": 33,
      "outputs": []
    },
    {
      "cell_type": "markdown",
      "metadata": {
        "id": "87Lk-fHo_sRu",
        "colab_type": "text"
      },
      "source": [
        "Verificamos que después de todo el tratamiento realizado, seguimos teniendo la misma proporción de estrés en la muestra."
      ]
    },
    {
      "cell_type": "code",
      "metadata": {
        "id": "Je3im9jOfNPM",
        "colab_type": "code",
        "colab": {
          "base_uri": "https://localhost:8080/",
          "height": 51
        },
        "outputId": "bd8fc6c6-ed0c-42f2-813e-5a18dabca726"
      },
      "source": [
        "print('Número total respuestas Stress dataframe original: {}'.format(len(stressScores)))\n",
        "print('Proporción empleados estresados dataframe original: {:.2%}'.format(len(stressScores[stressScores['vote']<=limite_stress])/len(stressScores)))"
      ],
      "execution_count": 34,
      "outputs": [
        {
          "output_type": "stream",
          "text": [
            "Número total respuestas Stress dataframe original: 1885\n",
            "Proporción empleados estresados dataframe original: 50.03%\n"
          ],
          "name": "stdout"
        }
      ]
    },
    {
      "cell_type": "code",
      "metadata": {
        "id": "iRzx35WA_rBu",
        "colab_type": "code",
        "colab": {
          "base_uri": "https://localhost:8080/",
          "height": 51
        },
        "outputId": "694004f3-8503-442b-c51e-bce4cf780dd0"
      },
      "source": [
        "print('Número total respuestas Stress dataframe categorizado: {}'.format(df_cat_dummies['vote_stress_cat'].count()))\n",
        "print('Proporción empleados estresados dataframe categorizado: {:.2%}'.format(df_cat_dummies['vote_stress_cat'].sum()/df_cat_dummies['vote_stress_cat'].count()))"
      ],
      "execution_count": 35,
      "outputs": [
        {
          "output_type": "stream",
          "text": [
            "Número total respuestas Stress dataframe categorizado: 1885\n",
            "Proporción empleados estresados dataframe categorizado: 50.03%\n"
          ],
          "name": "stdout"
        }
      ]
    },
    {
      "cell_type": "markdown",
      "metadata": {
        "id": "yBUCivde_58e",
        "colab_type": "text"
      },
      "source": [
        "Vemos como, efectivamente, tenemos la misma proporción, por lo que nos permite afirmar que el tratamiento realizado hasta ahora es correcto.\n",
        "\n",
        "A continuación calculamos la correlación entre la variable estrés y el resto de variables categorizadas."
      ]
    },
    {
      "cell_type": "code",
      "metadata": {
        "id": "E2IXLH24Xxdc",
        "colab_type": "code",
        "colab": {
          "base_uri": "https://localhost:8080/",
          "height": 1000
        },
        "outputId": "bedd5a1e-9894-4ff2-c060-c1fda7904aad"
      },
      "source": [
        "df_cat_dummies_cor = df_cat_dummies.corr()\n",
        "display_all(df_cat_dummies_cor.sort_values('vote_stress_cat',ascending=False)['vote_stress_cat'])"
      ],
      "execution_count": 36,
      "outputs": [
        {
          "output_type": "display_data",
          "data": {
            "text/plain": [
              "vote_stress_cat                        1.000000\n",
              "vote_hi_M3_99_cat                      0.122525\n",
              "FINANCIAL_SERVICES_INSURANCE           0.119240\n",
              "vote_hi_M2_99_cat                      0.116943\n",
              "vote_hi_M6_99_cat                      0.114630\n",
              "vote_44_q_M6_99_cat                    0.099326\n",
              "vote_4_q_M6_99_cat                     0.081239\n",
              "vote_44_q_M3_99_cat                    0.080113\n",
              "vote_16_q_M6_99_cat                    0.077355\n",
              "vote_34_q_M6_99_cat                    0.076343\n",
              "vote_12_f_M6_99_cat                    0.076343\n",
              "NATURAL_RESOURCES                      0.070735\n",
              "vote_0_q_M6_99_cat                     0.068632\n",
              "vote_0_f_M6_99_cat                     0.068632\n",
              "vote_16_q_M3_99_cat                    0.067303\n",
              "month_1                                0.066491\n",
              "vote_30_q_M6_99_cat                    0.066223\n",
              "vote_4_q_M2_99_cat                     0.066101\n",
              "vote_10_f_M6_99_cat                    0.064663\n",
              "vote_44_q_M2_99_cat                    0.063896\n",
              "vote_4_q_M3_99_cat                     0.063133\n",
              "vote_43_q_M6_99_cat                    0.062236\n",
              "vote_3_q_M3_99_cat                     0.061924\n",
              "vote_16_q_M2_99_cat                    0.061748\n",
              "vote_26_q_M6_99_cat                    0.061482\n",
              "vote_4_f_M6_99_cat                     0.060917\n",
              "vote_30_q_M3_99_cat                    0.060690\n",
              "vote_10_f_M2_99_cat                    0.059637\n",
              "vote_30_q_M2_99_cat                    0.057752\n",
              "vote_7_q_M3_99_cat                     0.057582\n",
              "vote_43_q_M3_99_cat                    0.056177\n",
              "vote_12_f_M3_99_cat                    0.055250\n",
              "vote_34_q_M3_99_cat                    0.055250\n",
              "vote_18_q_M3_99_cat                    0.055138\n",
              "vote_10_q_M6_99_cat                    0.054147\n",
              "vote_48_q_M6_99_cat                    0.053909\n",
              "vote_27_q_M6_99_cat                    0.053399\n",
              "vote_10_f_M3_99_cat                    0.052803\n",
              "vote_29_q_M2_99_cat                    0.052786\n",
              "vote_38_q_M6_99_cat                    0.052766\n",
              "vote_29_q_M3_99_cat                    0.052584\n",
              "vote_7_q_M2_99_cat                     0.052423\n",
              "month_7                                0.052135\n",
              "vote_9_f_M6_99_cat                     0.051495\n",
              "vote_3_q_M6_99_cat                     0.050619\n",
              "vote_12_q_M6_99_cat                    0.050192\n",
              "vote_18_q_M6_99_cat                    0.050034\n",
              "vote_18_q_M2_99_cat                    0.049015\n",
              "vote_24_q_M6_99_cat                    0.048608\n",
              "month_12                               0.047200\n",
              "vote_4_f_M3_99_cat                     0.046876\n",
              "vote_7_q_M6_99_cat                     0.046257\n",
              "vote_3_q_M2_99_cat                     0.046030\n",
              "vote_2_q_M6_99_cat                     0.045646\n",
              "vote_29_q_M6_99_cat                    0.044714\n",
              "vote_13_q_M3_99_cat                    0.044320\n",
              "vote_2_q_M3_99_cat                     0.044179\n",
              "vote_12_f_M2_99_cat                    0.043652\n",
              "vote_34_q_M2_99_cat                    0.043652\n",
              "vote_9_q_M3_99_cat                     0.042877\n",
              "vote_23_q_M3_99_cat                    0.042212\n",
              "vote_24_q_M3_99_cat                    0.042212\n",
              "vote_38_q_M3_99_cat                    0.042081\n",
              "vote_14_q_M6_99_cat                    0.041630\n",
              "vote_5_f_M6_99_cat                     0.041321\n",
              "vote_16_f_M6_99_cat                    0.041160\n",
              "vote_15_q_M6_99_cat                    0.041022\n",
              "vote_28_q_M2_99_cat                    0.040577\n",
              "vote_20_q_M3_99_cat                    0.040260\n",
              "vote_18_f_M6_99_cat                    0.040068\n",
              "MANUFACTURING                          0.039944\n",
              "vote_12_q_M3_99_cat                    0.039702\n",
              "vote_26_q_M2_99_cat                    0.039696\n",
              "vote_25_q_M6_99_cat                    0.039601\n",
              "vote_20_q_M2_99_cat                    0.039553\n",
              "vote_9_q_M6_99_cat                     0.039173\n",
              "vote_6_f_M6_99_cat                     0.038672\n",
              "vote_49_q_M6_99_cat                    0.038394\n",
              "vote_5_f_M3_99_cat                     0.037745\n",
              "vote_10_q_M3_99_cat                    0.037203\n",
              "vote_13_q_M2_99_cat                    0.036601\n",
              "vote_15_f_M6_99_cat                    0.036569\n",
              "vote_0_f_M3_99_cat                     0.035879\n",
              "vote_0_q_M3_99_cat                     0.035879\n",
              "vote_8_f_M3_99_cat                     0.035548\n",
              "vote_26_q_M3_99_cat                    0.035057\n",
              "vote_28_q_M3_99_cat                    0.034580\n",
              "vote_28_q_M6_99_cat                    0.034436\n",
              "vote_14_q_M2_99_cat                    0.034343\n",
              "vote_48_q_M2_99_cat                    0.034298\n",
              "vote_1_f_M2_99_cat                     0.034298\n",
              "vote_54_q_M6_99_cat                    0.034036\n",
              "vote_49_q_M3_99_cat                    0.033979\n",
              "vote_46_q_M3_99_cat                    0.033836\n",
              "vote_36_q_M6_99_cat                    0.033704\n",
              "vote_42_q_M6_99_cat                    0.033661\n",
              "vote_3_f_M3_99_cat                     0.033659\n",
              "vote_35_q_M6_99_cat                    0.033591\n",
              "vote_41_q_M2_99_cat                    0.031818\n",
              "vote_43_q_M2_99_cat                    0.031372\n",
              "vote_13_q_M6_99_cat                    0.031188\n",
              "vote_20_q_M6_99_cat                    0.030770\n",
              "vote_38_q_M2_99_cat                    0.030138\n",
              "month_9                                0.030121\n",
              "vote_5_q_M6_99_cat                     0.029163\n",
              "vote_6_f_M3_99_cat                     0.029011\n",
              "vote_22_q_M3_99_cat                    0.028793\n",
              "vote_14_q_M3_99_cat                    0.028674\n",
              "vote_11_q_M6_99_cat                    0.028557\n",
              "vote_52_q_M3_99_cat                    0.028437\n",
              "vote_14_f_M6_99_cat                    0.028267\n",
              "month_10                               0.028026\n",
              "vote_6_f_M2_99_cat                     0.027951\n",
              "vote_8_f_M6_99_cat                     0.027754\n",
              "vote_4_f_M2_99_cat                     0.027675\n",
              "vote_16_f_M3_99_cat                    0.027628\n",
              "vote_45_q_M6_99_cat                    0.027105\n",
              "vote_39_q_M6_99_cat                    0.026996\n",
              "vote_41_q_M3_99_cat                    0.026324\n",
              "PUBLIC_AND_GOVERMENT_ADMINISTRATION    0.026248\n",
              "vote_27_q_M2_99_cat                    0.026143\n",
              "vote_36_q_M2_99_cat                    0.025980\n",
              "vote_5_f_M2_99_cat                     0.025596\n",
              "vote_49_q_M2_99_cat                    0.025582\n",
              "vote_2_q_M2_99_cat                     0.024904\n",
              "vote_15_f_M3_99_cat                    0.024610\n",
              "vote_19_q_M3_99_cat                    0.024235\n",
              "vote_6_q_M6_99_cat                     0.024189\n",
              "vote_22_q_M6_99_cat                    0.024080\n",
              "vote_48_q_M3_99_cat                    0.024042\n",
              "vote_17_q_M2_99_cat                    0.024012\n",
              "vote_11_q_M2_99_cat                    0.024007\n",
              "vote_36_q_M3_99_cat                    0.023995\n",
              "vote_24_q_M2_99_cat                    0.023845\n",
              "vote_39_q_M3_99_cat                    0.023811\n",
              "vote_9_f_M2_99_cat                     0.023662\n",
              "vote_1_f_M3_99_cat                     0.023473\n",
              "vote_46_q_M6_99_cat                    0.023390\n",
              "vote_16_f_M2_99_cat                    0.023235\n",
              "vote_3_f_M6_99_cat                     0.023107\n",
              "vote_2_f_M3_99_cat                     0.023032\n",
              "vote_27_q_M3_99_cat                    0.022642\n",
              "vote_19_q_M6_99_cat                    0.022523\n",
              "vote_9_q_M2_99_cat                     0.022374\n",
              "vote_42_q_M3_99_cat                    0.022373\n",
              "vote_23_q_M6_99_cat                    0.022129\n",
              "vote_8_q_M3_99_cat                     0.022037\n",
              "vote_41_q_M6_99_cat                    0.021972\n",
              "vote_51_q_M6_99_cat                    0.021703\n",
              "vote_2_f_M6_99_cat                     0.021469\n",
              "vote_17_q_M3_99_cat                    0.021279\n",
              "vote_25_q_M2_99_cat                    0.021231\n",
              "vote_9_f_M3_99_cat                     0.020717\n",
              "WHOLESALE_AND_RETAIL_TRADE             0.020154\n",
              "vote_22_q_M2_99_cat                    0.019576\n",
              "vote_17_f_M6_99_cat                    0.019501\n",
              "vote_11_q_M3_99_cat                    0.019495\n",
              "vote_33_q_M6_99_cat                    0.019096\n",
              "vote_54_q_M3_99_cat                    0.018655\n",
              "vote_52_q_M6_99_cat                    0.018640\n",
              "vote_14_f_M3_99_cat                    0.017825\n",
              "vote_1_q_M6_99_cat                     0.017819\n",
              "vote_1_f_M6_99_cat                     0.017789\n",
              "vote_25_q_M3_99_cat                    0.017749\n",
              "vote_35_q_M3_99_cat                    0.017685\n",
              "vote_18_f_M3_99_cat                    0.017524\n",
              "vote_15_q_M3_99_cat                    0.017476\n",
              "vote_15_f_M2_99_cat                    0.016730\n",
              "vote_15_q_M2_99_cat                    0.016260\n",
              "vote_13_f_M6_99_cat                    0.015929\n",
              "vote_17_q_M6_99_cat                    0.015919\n",
              "HEALTH_CARE_SOCIAL_ASSISTANCE          0.015878\n",
              "vote_2_f_M2_99_cat                     0.015796\n",
              "vote_50_q_M6_99_cat                    0.015642\n",
              "vote_35_q_M2_99_cat                    0.015430\n",
              "vote_39_q_M2_99_cat                    0.015324\n",
              "vote_0_f_M2_99_cat                     0.015022\n",
              "vote_0_q_M2_99_cat                     0.015022\n",
              "vote_52_q_M2_99_cat                    0.014982\n",
              "vote_14_f_M2_99_cat                    0.014963\n",
              "vote_46_q_M2_99_cat                    0.014464\n",
              "vote_12_q_M2_99_cat                    0.014240\n",
              "vote_6_q_M3_99_cat                     0.013881\n",
              "vote_8_f_M2_99_cat                     0.013641\n",
              "vote_40_q_M6_99_cat                    0.013438\n",
              "vote_53_q_M6_99_cat                    0.013330\n",
              "vote_3_f_M2_99_cat                     0.013126\n",
              "vote_47_q_M2_99_cat                    0.013118\n",
              "vote_10_q_M2_99_cat                    0.012838\n",
              "vote_45_q_M3_99_cat                    0.012815\n",
              "EDUCATIONAL_SERVICES                   0.012445\n",
              "vote_1_q_M3_99_cat                     0.011882\n",
              "vote_18_f_M2_99_cat                    0.011653\n",
              "vote_31_q_M6_99_cat                    0.010063\n",
              "vote_47_q_M3_99_cat                    0.009045\n",
              "vote_8_q_M2_99_cat                     0.009045\n",
              "month_2                                0.008756\n",
              "vote_8_q_M6_99_cat                     0.007736\n",
              "ACCOMMODATION_AND_FOOT_SERVICES        0.007386\n",
              "vote_54_q_M2_99_cat                    0.007284\n",
              "vote_13_f_M2_99_cat                    0.006570\n",
              "vote_33_q_M3_99_cat                    0.006206\n",
              "vote_13_f_M3_99_cat                    0.006159\n",
              "vote_47_q_M6_99_cat                    0.005851\n",
              "vote_31_q_M3_99_cat                    0.005840\n",
              "vote_42_q_M2_99_cat                    0.005830\n",
              "vote_40_q_M3_99_cat                    0.005105\n",
              "vote_5_q_M3_99_cat                     0.004804\n",
              "vote_53_q_M3_99_cat                    0.004773\n",
              "vote_37_q_M6_99_cat                    0.003247\n",
              "vote_17_f_M3_99_cat                    0.002993\n",
              "vote_50_q_M2_99_cat                    0.002951\n",
              "vote_45_q_M2_99_cat                    0.002643\n",
              "vote_1_q_M2_99_cat                     0.002571\n",
              "vote_31_q_M2_99_cat                    0.002468\n",
              "vote_50_q_M3_99_cat                    0.002441\n",
              "vote_40_q_M2_99_cat                    0.001942\n",
              "vote_19_q_M2_99_cat                    0.000935\n",
              "vote_32_q_M3_99_cat                    0.000797\n",
              "ARTS_ENTERTAINMENT_RECREATION         -0.000024\n",
              "vote_33_q_M2_99_cat                   -0.002423\n",
              "vote_5_q_M2_99_cat                    -0.002856\n",
              "vote_51_q_M3_99_cat                   -0.002967\n",
              "vote_37_q_M3_99_cat                   -0.003804\n",
              "vote_37_q_M2_99_cat                   -0.003899\n",
              "month_6                               -0.004452\n",
              "vote_17_f_M2_99_cat                   -0.005297\n",
              "MARKETING_ADVERTISING                 -0.010342\n",
              "vote_6_q_M2_99_cat                    -0.010550\n",
              "vote_32_q_M2_99_cat                   -0.011489\n",
              "vote_23_q_M2_99_cat                   -0.012599\n",
              "vote_51_q_M2_99_cat                   -0.013556\n",
              "month_4                               -0.014535\n",
              "vote_11_f_M6_99_cat                   -0.015631\n",
              "month_8                               -0.015852\n",
              "vote_32_q_M6_99_cat                   -0.016823\n",
              "UTILITIES_AND_SERVICES                -0.017960\n",
              "vote_53_q_M2_99_cat                   -0.021872\n",
              "month_5                               -0.023372\n",
              "vote_11_f_M3_99_cat                   -0.023752\n",
              "month_11                              -0.031082\n",
              "vote_11_f_M2_99_cat                   -0.031941\n",
              "NON_PROFIT_ORGANIZATION               -0.047025\n",
              "month_3                               -0.064563\n",
              "MANAGEMENT_CONSULTING                 -0.074741\n",
              "COMPUTER_SOFTWARE_IT_SERVICES         -0.122248\n",
              "Name: vote_stress_cat, dtype: float64"
            ]
          },
          "metadata": {
            "tags": []
          }
        }
      ]
    },
    {
      "cell_type": "markdown",
      "metadata": {
        "id": "VtIOqMmXzgZS",
        "colab_type": "text"
      },
      "source": [
        "Seleccionamos las variables con correlación superior al 6% o inferior al -6%."
      ]
    },
    {
      "cell_type": "code",
      "metadata": {
        "id": "cKhRcGQQCEhN",
        "colab_type": "code",
        "colab": {}
      },
      "source": [
        "df_best_corr=df_cat_dummies_cor[abs(df_cat_dummies_cor['vote_stress_cat'])>0.06]['vote_stress_cat']"
      ],
      "execution_count": 37,
      "outputs": []
    },
    {
      "cell_type": "code",
      "metadata": {
        "id": "JvnQ63r3D2Z5",
        "colab_type": "code",
        "colab": {
          "base_uri": "https://localhost:8080/",
          "height": 544
        },
        "outputId": "b5c91189-a73e-443e-952f-faa9ecb5f5fd"
      },
      "source": [
        "df_best_corr.sort_values(ascending=False)"
      ],
      "execution_count": 38,
      "outputs": [
        {
          "output_type": "execute_result",
          "data": {
            "text/plain": [
              "vote_stress_cat                  1.000000\n",
              "vote_hi_M3_99_cat                0.122525\n",
              "FINANCIAL_SERVICES_INSURANCE     0.119240\n",
              "vote_hi_M2_99_cat                0.116943\n",
              "vote_hi_M6_99_cat                0.114630\n",
              "vote_44_q_M6_99_cat              0.099326\n",
              "vote_4_q_M6_99_cat               0.081239\n",
              "vote_44_q_M3_99_cat              0.080113\n",
              "vote_16_q_M6_99_cat              0.077355\n",
              "vote_12_f_M6_99_cat              0.076343\n",
              "vote_34_q_M6_99_cat              0.076343\n",
              "NATURAL_RESOURCES                0.070735\n",
              "vote_0_q_M6_99_cat               0.068632\n",
              "vote_0_f_M6_99_cat               0.068632\n",
              "vote_16_q_M3_99_cat              0.067303\n",
              "month_1                          0.066491\n",
              "vote_30_q_M6_99_cat              0.066223\n",
              "vote_4_q_M2_99_cat               0.066101\n",
              "vote_10_f_M6_99_cat              0.064663\n",
              "vote_44_q_M2_99_cat              0.063896\n",
              "vote_4_q_M3_99_cat               0.063133\n",
              "vote_43_q_M6_99_cat              0.062236\n",
              "vote_3_q_M3_99_cat               0.061924\n",
              "vote_16_q_M2_99_cat              0.061748\n",
              "vote_26_q_M6_99_cat              0.061482\n",
              "vote_4_f_M6_99_cat               0.060917\n",
              "vote_30_q_M3_99_cat              0.060690\n",
              "month_3                         -0.064563\n",
              "MANAGEMENT_CONSULTING           -0.074741\n",
              "COMPUTER_SOFTWARE_IT_SERVICES   -0.122248\n",
              "Name: vote_stress_cat, dtype: float64"
            ]
          },
          "metadata": {
            "tags": []
          },
          "execution_count": 38
        }
      ]
    },
    {
      "cell_type": "markdown",
      "metadata": {
        "id": "hAyenhEqB0c6",
        "colab_type": "text"
      },
      "source": [
        "Del análisis de correlación, vemos que las variables más correlacionadas con el estrés son el happiness index (en las distintas ventanas temporales incorporadas). Adicionalmente, entran también las siguientes preguntas:\n",
        "\n",
        "44 - The business goals and strategies set by senior leadership are taking *|COMPANY_NAME|* in the right direction.\n",
        "\n",
        "4 - *|COMPANY_NAME|* communicates in a clear and effective way us.\n",
        "\n",
        "16 - I trust that the people I work with are committed to do a good job\n",
        "\n",
        "34 - On a scale from 0-10, how would you rate the benefits *|COMPANY_NAME|* offers?\n",
        "\n",
        "0 - On a scale from 1 to 10, how likely are you to recommend *|COMPANY_NAME|* as good place to work?\n",
        "\n",
        "30 - I would rate the processes for determining pay in *|COMPANY_NAME|* as:\n",
        "\n",
        "43 - I would rate the amount of resources, people and efforts that *|COMPANY_NAME|* invests to achieve its goals as:\n",
        "\n",
        "3 - My teammates, welcome opinions different from their own.\n",
        "\n",
        "26 - Do you have the tools and resources you need to do your job?\n",
        "\n",
        "Junto con los factores:\n",
        "\n",
        "12 - Benefits\n",
        "\n",
        "0 - eNPS\n",
        "\n",
        "10 - Compensation\n",
        "\n",
        "Además, según la correlación resultante, los empleados de FINANCIAL_SERVICES_INSURANCE tienden a estar estresados, así como los del sector de NATURAL_RESOURCES (aunque no tanto). Por otra parte, tenemos que los empleados que trabajan en MANAGMENT_CONSULTING y COMPUTER_SOFTWARE_IT_SERVICES tienen correlación negativa, que indica que el comportamiento de estas variables es contrario al estrés. Por tanto, podríamos decir que los empleados de estos sectores tienen tendencia a estar menos estresados que los que trabajan en otros sectores.\n",
        "\n",
        "La correlación de las variables de sector nos ratifican los resultados vistos en el análisis de estrés por sector.\n",
        "\n",
        "También sale correlación negativa para la variable 'month_3' que está calculada a partir del mes de respuesta a la pregunta de estrés. Esto nos indica que el mes de marzo tiende a ser menos estresante (o lo empleados están dicen que están menos estresados).\n",
        "\n",
        "Por último, tambien vemos correlación positiva para los empleados que responden a la pregunta de estrés en el mes de enero."
      ]
    },
    {
      "cell_type": "markdown",
      "metadata": {
        "id": "wiY1TehHB6Nk",
        "colab_type": "text"
      },
      "source": [
        "Comprobamos que no tenemos NaNs en el DataFrame"
      ]
    },
    {
      "cell_type": "code",
      "metadata": {
        "id": "KKRNLe7L1emT",
        "colab_type": "code",
        "colab": {
          "base_uri": "https://localhost:8080/",
          "height": 34
        },
        "outputId": "0f616cac-43c9-48ba-889a-ae961afea89b"
      },
      "source": [
        "df_cat_dummies[df_cat_dummies['vote_stress_cat'] == 0].isna().sum().sort_values(ascending=False).max()"
      ],
      "execution_count": 39,
      "outputs": [
        {
          "output_type": "execute_result",
          "data": {
            "text/plain": [
              "0"
            ]
          },
          "metadata": {
            "tags": []
          },
          "execution_count": 39
        }
      ]
    },
    {
      "cell_type": "markdown",
      "metadata": {
        "id": "nXfvne8p9ygT",
        "colab_type": "text"
      },
      "source": [
        "En el nuevo dataframe no tenemos ningún NaN."
      ]
    },
    {
      "cell_type": "markdown",
      "metadata": {
        "id": "B8lcySuLKJEg",
        "colab_type": "text"
      },
      "source": [
        "Por último, vemos el total de respuestas negativas que tenemos para cada variable calculada (en total tenemos 1885 respuestas)."
      ]
    },
    {
      "cell_type": "code",
      "metadata": {
        "id": "J0OBdGfaQdyL",
        "colab_type": "code",
        "colab": {
          "base_uri": "https://localhost:8080/",
          "height": 34
        },
        "outputId": "815ff02f-64a6-4052-92bc-d86056d4641c"
      },
      "source": [
        "len(df_cat_dummies)"
      ],
      "execution_count": 40,
      "outputs": [
        {
          "output_type": "execute_result",
          "data": {
            "text/plain": [
              "1885"
            ]
          },
          "metadata": {
            "tags": []
          },
          "execution_count": 40
        }
      ]
    },
    {
      "cell_type": "markdown",
      "metadata": {
        "id": "cAScFbuW9DGU",
        "colab_type": "text"
      },
      "source": [
        "Creamos una lista sólo de variables relacionadas con el voto para que las otras variables categóricas no nos distorsionen el análisis."
      ]
    },
    {
      "cell_type": "code",
      "metadata": {
        "id": "yln-YqzR8Fk_",
        "colab_type": "code",
        "colab": {}
      },
      "source": [
        "var_votes=list()\n",
        "for i in df_cat_dummies.columns:\n",
        "  if 'vote' in i:\n",
        "    var_votes.append(i)"
      ],
      "execution_count": 41,
      "outputs": []
    },
    {
      "cell_type": "code",
      "metadata": {
        "id": "D9PAU3ccJ8E7",
        "colab_type": "code",
        "colab": {
          "base_uri": "https://localhost:8080/",
          "height": 1000
        },
        "outputId": "f206cfbe-0d68-4fdf-df98-3c2886287a85"
      },
      "source": [
        "display_all(df_cat_dummies[var_votes].sum().sort_values(ascending=False))"
      ],
      "execution_count": 42,
      "outputs": [
        {
          "output_type": "display_data",
          "data": {
            "text/plain": [
              "vote_stress_cat        943\n",
              "vote_40_q_M6_99_cat    823\n",
              "vote_46_q_M6_99_cat    754\n",
              "vote_26_q_M6_99_cat    741\n",
              "vote_10_q_M6_99_cat    722\n",
              "vote_32_q_M6_99_cat    713\n",
              "vote_42_q_M6_99_cat    697\n",
              "vote_12_q_M6_99_cat    694\n",
              "vote_36_q_M6_99_cat    693\n",
              "vote_40_q_M3_99_cat    689\n",
              "vote_14_f_M6_99_cat    686\n",
              "vote_46_q_M3_99_cat    681\n",
              "vote_6_q_M6_99_cat     648\n",
              "vote_42_q_M3_99_cat    604\n",
              "vote_14_f_M3_99_cat    604\n",
              "vote_10_q_M3_99_cat    601\n",
              "vote_39_q_M6_99_cat    598\n",
              "vote_49_q_M6_99_cat    598\n",
              "vote_46_q_M2_99_cat    597\n",
              "vote_26_q_M3_99_cat    593\n",
              "vote_19_q_M6_99_cat    590\n",
              "vote_12_q_M3_99_cat    589\n",
              "vote_40_q_M2_99_cat    582\n",
              "vote_32_q_M3_99_cat    579\n",
              "vote_31_q_M6_99_cat    567\n",
              "vote_36_q_M3_99_cat    563\n",
              "vote_19_q_M3_99_cat    545\n",
              "vote_14_f_M2_99_cat    535\n",
              "vote_11_f_M6_99_cat    535\n",
              "vote_26_q_M2_99_cat    534\n",
              "vote_23_q_M6_99_cat    527\n",
              "vote_6_q_M3_99_cat     524\n",
              "vote_3_q_M6_99_cat     523\n",
              "vote_52_q_M6_99_cat    522\n",
              "vote_10_q_M2_99_cat    507\n",
              "vote_39_q_M3_99_cat    494\n",
              "vote_12_q_M2_99_cat    486\n",
              "vote_29_q_M6_99_cat    481\n",
              "vote_49_q_M3_99_cat    472\n",
              "vote_42_q_M2_99_cat    469\n",
              "vote_31_q_M3_99_cat    467\n",
              "vote_11_f_M3_99_cat    461\n",
              "vote_19_q_M2_99_cat    459\n",
              "vote_32_q_M2_99_cat    451\n",
              "vote_3_q_M3_99_cat     450\n",
              "vote_4_f_M6_99_cat     445\n",
              "vote_52_q_M3_99_cat    445\n",
              "vote_23_q_M3_99_cat    444\n",
              "vote_36_q_M2_99_cat    443\n",
              "vote_13_q_M6_99_cat    435\n",
              "vote_6_q_M2_99_cat     412\n",
              "vote_29_q_M3_99_cat    407\n",
              "vote_39_q_M2_99_cat    398\n",
              "vote_4_f_M3_99_cat     390\n",
              "vote_11_f_M2_99_cat    382\n",
              "vote_10_f_M6_99_cat    358\n",
              "vote_49_q_M2_99_cat    353\n",
              "vote_3_q_M2_99_cat     352\n",
              "vote_31_q_M2_99_cat    352\n",
              "vote_52_q_M2_99_cat    337\n",
              "vote_13_q_M3_99_cat    332\n",
              "vote_10_f_M3_99_cat    330\n",
              "vote_4_f_M2_99_cat     330\n",
              "vote_29_q_M2_99_cat    309\n",
              "vote_10_f_M2_99_cat    295\n",
              "vote_30_q_M6_99_cat    287\n",
              "vote_17_f_M6_99_cat    269\n",
              "vote_2_f_M6_99_cat     256\n",
              "vote_23_q_M2_99_cat    256\n",
              "vote_30_q_M3_99_cat    251\n",
              "vote_48_q_M6_99_cat    240\n",
              "vote_17_f_M3_99_cat    238\n",
              "vote_13_q_M2_99_cat    237\n",
              "vote_hi_M2_99_cat      228\n",
              "vote_hi_M3_99_cat      225\n",
              "vote_28_q_M6_99_cat    221\n",
              "vote_30_q_M2_99_cat    219\n",
              "vote_2_f_M3_99_cat     218\n",
              "vote_17_f_M2_99_cat    205\n",
              "vote_9_f_M6_99_cat     200\n",
              "vote_16_f_M6_99_cat    200\n",
              "vote_48_q_M3_99_cat    198\n",
              "vote_28_q_M3_99_cat    196\n",
              "vote_16_f_M3_99_cat    196\n",
              "vote_15_f_M6_99_cat    193\n",
              "vote_hi_M6_99_cat      189\n",
              "vote_15_f_M3_99_cat    188\n",
              "vote_2_f_M2_99_cat     187\n",
              "vote_43_q_M6_99_cat    185\n",
              "vote_1_f_M6_99_cat     182\n",
              "vote_16_f_M2_99_cat    181\n",
              "vote_1_f_M3_99_cat     177\n",
              "vote_27_q_M6_99_cat    171\n",
              "vote_28_q_M2_99_cat    170\n",
              "vote_7_q_M6_99_cat     169\n",
              "vote_15_f_M2_99_cat    165\n",
              "vote_9_f_M3_99_cat     161\n",
              "vote_48_q_M2_99_cat    158\n",
              "vote_1_f_M2_99_cat     158\n",
              "vote_33_q_M6_99_cat    156\n",
              "vote_43_q_M3_99_cat    153\n",
              "vote_9_f_M2_99_cat     146\n",
              "vote_7_q_M3_99_cat     145\n",
              "vote_13_f_M6_99_cat    142\n",
              "vote_11_q_M6_99_cat    136\n",
              "vote_27_q_M3_99_cat    133\n",
              "vote_13_f_M3_99_cat    129\n",
              "vote_43_q_M2_99_cat    129\n",
              "vote_44_q_M6_99_cat    127\n",
              "vote_33_q_M3_99_cat    127\n",
              "vote_18_f_M6_99_cat    127\n",
              "vote_38_q_M6_99_cat    127\n",
              "vote_18_q_M6_99_cat    119\n",
              "vote_11_q_M3_99_cat    119\n",
              "vote_7_q_M2_99_cat     118\n",
              "vote_27_q_M2_99_cat    118\n",
              "vote_18_f_M3_99_cat    116\n",
              "vote_20_q_M6_99_cat    116\n",
              "vote_13_f_M2_99_cat    113\n",
              "vote_1_q_M6_99_cat     112\n",
              "vote_20_q_M3_99_cat    112\n",
              "vote_5_q_M6_99_cat     111\n",
              "vote_50_q_M6_99_cat    111\n",
              "vote_33_q_M2_99_cat    107\n",
              "vote_17_q_M6_99_cat    107\n",
              "vote_44_q_M3_99_cat    107\n",
              "vote_18_q_M3_99_cat    106\n",
              "vote_5_f_M6_99_cat     106\n",
              "vote_3_f_M6_99_cat     104\n",
              "vote_8_f_M6_99_cat     104\n",
              "vote_20_q_M2_99_cat    103\n",
              "vote_38_q_M3_99_cat    102\n",
              "vote_18_f_M2_99_cat    101\n",
              "vote_5_f_M3_99_cat     100\n",
              "vote_17_q_M3_99_cat    99 \n",
              "vote_8_f_M3_99_cat     99 \n",
              "vote_34_q_M6_99_cat    98 \n",
              "vote_12_f_M6_99_cat    98 \n",
              "vote_1_q_M3_99_cat     97 \n",
              "vote_3_f_M3_99_cat     96 \n",
              "vote_11_q_M2_99_cat    96 \n",
              "vote_51_q_M6_99_cat    95 \n",
              "vote_5_q_M3_99_cat     92 \n",
              "vote_44_q_M2_99_cat    92 \n",
              "vote_45_q_M6_99_cat    91 \n",
              "vote_2_q_M6_99_cat     86 \n",
              "vote_4_q_M6_99_cat     86 \n",
              "vote_50_q_M3_99_cat    85 \n",
              "vote_5_f_M2_99_cat     84 \n",
              "vote_15_q_M6_99_cat    84 \n",
              "vote_45_q_M3_99_cat    83 \n",
              "vote_18_q_M2_99_cat    83 \n",
              "vote_6_f_M6_99_cat     83 \n",
              "vote_8_q_M6_99_cat     81 \n",
              "vote_3_f_M2_99_cat     79 \n",
              "vote_6_f_M3_99_cat     79 \n",
              "vote_25_q_M6_99_cat    79 \n",
              "vote_1_q_M2_99_cat     77 \n",
              "vote_17_q_M2_99_cat    77 \n",
              "vote_0_q_M6_99_cat     73 \n",
              "vote_8_f_M2_99_cat     73 \n",
              "vote_5_q_M2_99_cat     73 \n",
              "vote_38_q_M2_99_cat    73 \n",
              "vote_45_q_M2_99_cat    73 \n",
              "vote_4_q_M3_99_cat     73 \n",
              "vote_0_f_M6_99_cat     73 \n",
              "vote_8_q_M3_99_cat     72 \n",
              "vote_34_q_M3_99_cat    72 \n",
              "vote_2_q_M3_99_cat     72 \n",
              "vote_12_f_M3_99_cat    72 \n",
              "vote_6_f_M2_99_cat     70 \n",
              "vote_9_q_M6_99_cat     70 \n",
              "vote_54_q_M6_99_cat    68 \n",
              "vote_24_q_M6_99_cat    67 \n",
              "vote_9_q_M3_99_cat     67 \n",
              "vote_51_q_M3_99_cat    67 \n",
              "vote_15_q_M3_99_cat    64 \n",
              "vote_25_q_M3_99_cat    62 \n",
              "vote_47_q_M6_99_cat    62 \n",
              "vote_24_q_M3_99_cat    60 \n",
              "vote_22_q_M6_99_cat    60 \n",
              "vote_50_q_M2_99_cat    59 \n",
              "vote_8_q_M2_99_cat     59 \n",
              "vote_47_q_M3_99_cat    59 \n",
              "vote_25_q_M2_99_cat    59 \n",
              "vote_16_q_M6_99_cat    57 \n",
              "vote_34_q_M2_99_cat    56 \n",
              "vote_2_q_M2_99_cat     56 \n",
              "vote_12_f_M2_99_cat    56 \n",
              "vote_54_q_M3_99_cat    56 \n",
              "vote_41_q_M6_99_cat    55 \n",
              "vote_4_q_M2_99_cat     55 \n",
              "vote_9_q_M2_99_cat     53 \n",
              "vote_22_q_M3_99_cat    53 \n",
              "vote_16_q_M3_99_cat    53 \n",
              "vote_14_q_M6_99_cat    53 \n",
              "vote_0_f_M3_99_cat     51 \n",
              "vote_15_q_M2_99_cat    51 \n",
              "vote_0_q_M3_99_cat     51 \n",
              "vote_41_q_M3_99_cat    50 \n",
              "vote_47_q_M2_99_cat    50 \n",
              "vote_37_q_M6_99_cat    49 \n",
              "vote_35_q_M6_99_cat    48 \n",
              "vote_51_q_M2_99_cat    48 \n",
              "vote_35_q_M3_99_cat    43 \n",
              "vote_14_q_M3_99_cat    42 \n",
              "vote_16_q_M2_99_cat    41 \n",
              "vote_54_q_M2_99_cat    40 \n",
              "vote_37_q_M3_99_cat    39 \n",
              "vote_0_q_M2_99_cat     38 \n",
              "vote_0_f_M2_99_cat     38 \n",
              "vote_14_q_M2_99_cat    37 \n",
              "vote_37_q_M2_99_cat    37 \n",
              "vote_35_q_M2_99_cat    36 \n",
              "vote_22_q_M2_99_cat    35 \n",
              "vote_41_q_M2_99_cat    34 \n",
              "vote_24_q_M2_99_cat    34 \n",
              "vote_53_q_M6_99_cat    27 \n",
              "vote_53_q_M3_99_cat    23 \n",
              "vote_53_q_M2_99_cat    18 \n",
              "dtype: int64"
            ]
          },
          "metadata": {
            "tags": []
          }
        }
      ]
    },
    {
      "cell_type": "markdown",
      "metadata": {
        "id": "MbDngj3SK4lF",
        "colab_type": "text"
      },
      "source": [
        "Vemos como hay algunas preguntas que tienen muchos votos negativos. Las más destacadas son:\n",
        "\n",
        "\n",
        "40 - At work, I know what I’m expected to deliver\n",
        "\n",
        "46 - I'm involved in decisions that affect my work\n",
        "\n",
        "26 - Do you have the tools and resources you need to do your job?\n",
        "\n",
        "10 - What is it like working with your direct manager?\n",
        "\n",
        "32 - For *|COMPANY_NAME|* to celebrate our accomplishments and milestones is:\n",
        "\n",
        "42 - The vision and purpose of *|COMPANY_NAME|* inspires me.\n",
        "\n",
        "12 - When I ask my manager for help, he/she devotes time to help me\n",
        "\n",
        "36 - Our organizational values are reflected in every decision taken at *|COMPANY_NAME|*\t\n",
        "\n",
        "6 - Which of the following best describes the amount of feedback you typically get regarding your work\n"
      ]
    },
    {
      "cell_type": "markdown",
      "metadata": {
        "id": "jnQzOaMlCV5W",
        "colab_type": "text"
      },
      "source": [
        "# 4. Modelización"
      ]
    },
    {
      "cell_type": "markdown",
      "metadata": {
        "id": "PWUgu1igEDdo",
        "colab_type": "text"
      },
      "source": [
        "## 4.1. Árbol de decisión"
      ]
    },
    {
      "cell_type": "markdown",
      "metadata": {
        "id": "KyQoLHUmRVF9",
        "colab_type": "text"
      },
      "source": [
        "Empezamos la modelización con el método más sencillo. \n",
        "\n",
        "Para empezar definimos las librerías necesarias."
      ]
    },
    {
      "cell_type": "code",
      "metadata": {
        "id": "tfG3Hl0kEs-H",
        "colab_type": "code",
        "colab": {}
      },
      "source": [
        "from sklearn.tree import DecisionTreeClassifier\n",
        "from sklearn.metrics import accuracy_score\n",
        "from sklearn.model_selection import GridSearchCV, cross_val_score\n",
        "from sklearn.model_selection import train_test_split"
      ],
      "execution_count": 43,
      "outputs": []
    },
    {
      "cell_type": "markdown",
      "metadata": {
        "id": "2L9pAsokRfsq",
        "colab_type": "text"
      },
      "source": [
        "A continuación necesitamos separar la variable objetivo del dataframe."
      ]
    },
    {
      "cell_type": "code",
      "metadata": {
        "id": "YwmCHgbZE70C",
        "colab_type": "code",
        "colab": {}
      },
      "source": [
        "y=df_cat_dummies.pop('vote_stress_cat')\n",
        "X = df_cat_dummies"
      ],
      "execution_count": 44,
      "outputs": []
    },
    {
      "cell_type": "markdown",
      "metadata": {
        "id": "NtE780DsRrSo",
        "colab_type": "text"
      },
      "source": [
        "Dividimos la muestra en train y test con la función 'train_test_split'."
      ]
    },
    {
      "cell_type": "code",
      "metadata": {
        "id": "sqJ23W1KmiFh",
        "colab_type": "code",
        "colab": {}
      },
      "source": [
        "X_train, X_test, y_train,y_test = train_test_split(X,y, test_size = 0.2,random_state=17)"
      ],
      "execution_count": 45,
      "outputs": []
    },
    {
      "cell_type": "markdown",
      "metadata": {
        "id": "vvf9G1jGRyI_",
        "colab_type": "text"
      },
      "source": [
        "Aplicamos el 'DesicionTreeClassifier' con un 'GridSearchCV' para probar diferentes hiperparámetros que nos permitan encontrar el árbol que más se ajuste a nuestros datos. Los hiperparámetros que modificamos en el 'GridSearchCV' son la profundidad ('max_depth') y el número máximo de variables ('max_features')."
      ]
    },
    {
      "cell_type": "code",
      "metadata": {
        "id": "gbnLWgL0AZHq",
        "colab_type": "code",
        "colab": {
          "base_uri": "https://localhost:8080/",
          "height": 102
        },
        "outputId": "dc2ba571-2761-4f0e-95a7-9ecfcb3fc6ab"
      },
      "source": [
        "# aplicamos modelo\n",
        "clf_tree=DecisionTreeClassifier(criterion='entropy', random_state=17)\n",
        "\n",
        "tree_params = {'max_depth': range(1,15),\n",
        "               'max_features': range(4,28)}\n",
        "\n",
        "#aplicamos cros validation con los parametros definidos y le indicamos que nos saque los score de entrenamiento\n",
        "tree_grid = GridSearchCV(clf_tree, tree_params,cv=5, n_jobs=-1,verbose=True,return_train_score=True)\n",
        "\n",
        "# Entrenar el clasificador con el dataset de train\n",
        "tree_grid.fit(X_train, y_train)\n",
        "\n",
        "predicted = tree_grid.best_estimator_.predict(X_test)\n",
        "print('La precisión que tenemos con el mejor árbol de decisión de la red es: {0:.4f}'.format(accuracy_score(y_test, predicted)))"
      ],
      "execution_count": 46,
      "outputs": [
        {
          "output_type": "stream",
          "text": [
            "Fitting 5 folds for each of 336 candidates, totalling 1680 fits\n"
          ],
          "name": "stdout"
        },
        {
          "output_type": "stream",
          "text": [
            "[Parallel(n_jobs=-1)]: Using backend LokyBackend with 2 concurrent workers.\n",
            "[Parallel(n_jobs=-1)]: Done 330 tasks      | elapsed:    4.0s\n"
          ],
          "name": "stderr"
        },
        {
          "output_type": "stream",
          "text": [
            "La precisión que tenemos con el mejor árbol de decisión de la red es: 0.5782\n"
          ],
          "name": "stdout"
        },
        {
          "output_type": "stream",
          "text": [
            "[Parallel(n_jobs=-1)]: Done 1680 out of 1680 | elapsed:   15.5s finished\n"
          ],
          "name": "stderr"
        }
      ]
    },
    {
      "cell_type": "code",
      "metadata": {
        "id": "My5V7DcxSrdx",
        "colab_type": "code",
        "colab": {
          "base_uri": "https://localhost:8080/",
          "height": 34
        },
        "outputId": "8030dbcc-1df7-42c4-dafe-0a4858e7c2eb"
      },
      "source": [
        "print('La precisión que tenemos con el mejor árbol de decisión de la red es: {0:.4f}'.format(accuracy_score(y_test, predicted)))"
      ],
      "execution_count": 47,
      "outputs": [
        {
          "output_type": "stream",
          "text": [
            "La precisión que tenemos con el mejor árbol de decisión de la red es: 0.5782\n"
          ],
          "name": "stdout"
        }
      ]
    },
    {
      "cell_type": "markdown",
      "metadata": {
        "id": "i9jdovfOVDCo",
        "colab_type": "text"
      },
      "source": [
        "Hiperparámetros del mejor árbol de decisión encontrado:"
      ]
    },
    {
      "cell_type": "code",
      "metadata": {
        "id": "TwV8fcMl8ZO4",
        "colab_type": "code",
        "colab": {
          "base_uri": "https://localhost:8080/",
          "height": 119
        },
        "outputId": "be31dbcb-0656-475c-8292-33a9fbdf6041"
      },
      "source": [
        "tree_grid.best_estimator_"
      ],
      "execution_count": 48,
      "outputs": [
        {
          "output_type": "execute_result",
          "data": {
            "text/plain": [
              "DecisionTreeClassifier(ccp_alpha=0.0, class_weight=None, criterion='entropy',\n",
              "                       max_depth=2, max_features=19, max_leaf_nodes=None,\n",
              "                       min_impurity_decrease=0.0, min_impurity_split=None,\n",
              "                       min_samples_leaf=1, min_samples_split=2,\n",
              "                       min_weight_fraction_leaf=0.0, presort='deprecated',\n",
              "                       random_state=17, splitter='best')"
            ]
          },
          "metadata": {
            "tags": []
          },
          "execution_count": 48
        }
      ]
    },
    {
      "cell_type": "markdown",
      "metadata": {
        "id": "hQMUdB4EVHef",
        "colab_type": "text"
      },
      "source": [
        "Creamos una clasificación con las 10 mejores combinaciones."
      ]
    },
    {
      "cell_type": "code",
      "metadata": {
        "id": "NGyy6t9_8SDE",
        "colab_type": "code",
        "colab": {
          "base_uri": "https://localhost:8080/",
          "height": 359
        },
        "outputId": "b8c95c63-4322-48b1-9adf-20c08174ff86"
      },
      "source": [
        "train_score=tree_grid.cv_results_['mean_train_score']\n",
        "test_score=tree_grid.cv_results_['mean_test_score']\n",
        "rank=tree_grid.cv_results_['rank_test_score']\n",
        "params=tree_grid.cv_results_['params']\n",
        "\n",
        "#seleccionamos el top10 de scores\n",
        "rank10=rank[rank<11]\n",
        "train_score10=train_score[rank<11]\n",
        "test_score10=test_score[rank<11]\n",
        "\n",
        "#creamos dataframe\n",
        "datos=pd.DataFrame({'rank': np.array(rank, dtype='int32'),\n",
        "                 'mean_train_score': np.array(train_score, dtype='float32'),\n",
        "                 'mean_test_score': np.array(test_score, dtype='float32')})\n",
        "datos1=pd.DataFrame(params)\n",
        "resultados=datos.merge(datos1, left_index=True, right_index=True)\n",
        "resultados=resultados.sort_values(by='rank',ascending=True,ignore_index=True)\n",
        "resultados.head(10)"
      ],
      "execution_count": 49,
      "outputs": [
        {
          "output_type": "execute_result",
          "data": {
            "text/html": [
              "<div>\n",
              "<style scoped>\n",
              "    .dataframe tbody tr th:only-of-type {\n",
              "        vertical-align: middle;\n",
              "    }\n",
              "\n",
              "    .dataframe tbody tr th {\n",
              "        vertical-align: top;\n",
              "    }\n",
              "\n",
              "    .dataframe thead th {\n",
              "        text-align: right;\n",
              "    }\n",
              "</style>\n",
              "<table border=\"1\" class=\"dataframe\">\n",
              "  <thead>\n",
              "    <tr style=\"text-align: right;\">\n",
              "      <th></th>\n",
              "      <th>rank</th>\n",
              "      <th>mean_train_score</th>\n",
              "      <th>mean_test_score</th>\n",
              "      <th>max_depth</th>\n",
              "      <th>max_features</th>\n",
              "    </tr>\n",
              "  </thead>\n",
              "  <tbody>\n",
              "    <tr>\n",
              "      <th>0</th>\n",
              "      <td>1</td>\n",
              "      <td>0.570293</td>\n",
              "      <td>0.570313</td>\n",
              "      <td>2</td>\n",
              "      <td>19</td>\n",
              "    </tr>\n",
              "    <tr>\n",
              "      <th>1</th>\n",
              "      <td>2</td>\n",
              "      <td>0.576261</td>\n",
              "      <td>0.568971</td>\n",
              "      <td>3</td>\n",
              "      <td>26</td>\n",
              "    </tr>\n",
              "    <tr>\n",
              "      <th>2</th>\n",
              "      <td>3</td>\n",
              "      <td>0.744196</td>\n",
              "      <td>0.566331</td>\n",
              "      <td>14</td>\n",
              "      <td>18</td>\n",
              "    </tr>\n",
              "    <tr>\n",
              "      <th>3</th>\n",
              "      <td>4</td>\n",
              "      <td>0.564324</td>\n",
              "      <td>0.564333</td>\n",
              "      <td>2</td>\n",
              "      <td>5</td>\n",
              "    </tr>\n",
              "    <tr>\n",
              "      <th>4</th>\n",
              "      <td>5</td>\n",
              "      <td>0.589688</td>\n",
              "      <td>0.564324</td>\n",
              "      <td>4</td>\n",
              "      <td>24</td>\n",
              "    </tr>\n",
              "    <tr>\n",
              "      <th>5</th>\n",
              "      <td>6</td>\n",
              "      <td>0.662135</td>\n",
              "      <td>0.564307</td>\n",
              "      <td>8</td>\n",
              "      <td>23</td>\n",
              "    </tr>\n",
              "    <tr>\n",
              "      <th>6</th>\n",
              "      <td>7</td>\n",
              "      <td>0.637102</td>\n",
              "      <td>0.563666</td>\n",
              "      <td>7</td>\n",
              "      <td>24</td>\n",
              "    </tr>\n",
              "    <tr>\n",
              "      <th>7</th>\n",
              "      <td>8</td>\n",
              "      <td>0.593005</td>\n",
              "      <td>0.563658</td>\n",
              "      <td>4</td>\n",
              "      <td>26</td>\n",
              "    </tr>\n",
              "    <tr>\n",
              "      <th>8</th>\n",
              "      <td>9</td>\n",
              "      <td>0.570790</td>\n",
              "      <td>0.563006</td>\n",
              "      <td>2</td>\n",
              "      <td>21</td>\n",
              "    </tr>\n",
              "    <tr>\n",
              "      <th>9</th>\n",
              "      <td>10</td>\n",
              "      <td>0.575101</td>\n",
              "      <td>0.562998</td>\n",
              "      <td>3</td>\n",
              "      <td>23</td>\n",
              "    </tr>\n",
              "  </tbody>\n",
              "</table>\n",
              "</div>"
            ],
            "text/plain": [
              "   rank  mean_train_score  mean_test_score  max_depth  max_features\n",
              "0  1     0.570293          0.570313         2          19          \n",
              "1  2     0.576261          0.568971         3          26          \n",
              "2  3     0.744196          0.566331         14         18          \n",
              "3  4     0.564324          0.564333         2          5           \n",
              "4  5     0.589688          0.564324         4          24          \n",
              "5  6     0.662135          0.564307         8          23          \n",
              "6  7     0.637102          0.563666         7          24          \n",
              "7  8     0.593005          0.563658         4          26          \n",
              "8  9     0.570790          0.563006         2          21          \n",
              "9  10    0.575101          0.562998         3          23          "
            ]
          },
          "metadata": {
            "tags": []
          },
          "execution_count": 49
        }
      ]
    },
    {
      "cell_type": "markdown",
      "metadata": {
        "id": "xyozsEKVVOoF",
        "colab_type": "text"
      },
      "source": [
        "Dibujamos el mejor árbol de decisión."
      ]
    },
    {
      "cell_type": "code",
      "metadata": {
        "id": "502lDxJGhlhM",
        "colab_type": "code",
        "colab": {
          "base_uri": "https://localhost:8080/",
          "height": 397
        },
        "outputId": "2a9ce47b-8345-429c-fea6-a69cb40991ed"
      },
      "source": [
        "!pip install graphviz\n",
        "\n",
        "from sklearn.tree import export_graphviz\n",
        "import graphviz \n",
        "\n",
        "dot_data = export_graphviz(tree_grid.best_estimator_, out_file=None) \n",
        "graph = graphviz.Source(dot_data) \n",
        "dot_data = export_graphviz(tree_grid.best_estimator_, out_file=None, \n",
        "                      feature_names=X_train.columns,\n",
        "                      filled=True, rounded=True,\n",
        "                      special_characters=True)\n",
        "graph = graphviz.Source(dot_data)\n",
        "graph"
      ],
      "execution_count": 50,
      "outputs": [
        {
          "output_type": "stream",
          "text": [
            "Requirement already satisfied: graphviz in /usr/local/lib/python3.6/dist-packages (0.10.1)\n"
          ],
          "name": "stdout"
        },
        {
          "output_type": "execute_result",
          "data": {
            "text/plain": [
              "<graphviz.files.Source at 0x7f7e0f69def0>"
            ],
            "image/svg+xml": "<?xml version=\"1.0\" encoding=\"UTF-8\" standalone=\"no\"?>\n<!DOCTYPE svg PUBLIC \"-//W3C//DTD SVG 1.1//EN\"\n \"http://www.w3.org/Graphics/SVG/1.1/DTD/svg11.dtd\">\n<!-- Generated by graphviz version 2.40.1 (20161225.0304)\n -->\n<!-- Title: Tree Pages: 1 -->\n<svg width=\"602pt\" height=\"269pt\"\n viewBox=\"0.00 0.00 602.00 269.00\" xmlns=\"http://www.w3.org/2000/svg\" xmlns:xlink=\"http://www.w3.org/1999/xlink\">\n<g id=\"graph0\" class=\"graph\" transform=\"scale(1 1) rotate(0) translate(4 265)\">\n<title>Tree</title>\n<polygon fill=\"#ffffff\" stroke=\"transparent\" points=\"-4,4 -4,-265 598,-265 598,4 -4,4\"/>\n<!-- 0 -->\n<g id=\"node1\" class=\"node\">\n<title>0</title>\n<path fill=\"#fcfeff\" stroke=\"#000000\" d=\"M455,-261C455,-261 151,-261 151,-261 145,-261 139,-255 139,-249 139,-249 139,-205 139,-205 139,-199 145,-193 151,-193 151,-193 455,-193 455,-193 461,-193 467,-199 467,-205 467,-205 467,-249 467,-249 467,-255 461,-261 455,-261\"/>\n<text text-anchor=\"start\" x=\"147\" y=\"-245.8\" font-family=\"Helvetica,sans-Serif\" font-size=\"14.00\" fill=\"#000000\">COMPUTER_SOFTWARE_IT_SERVICES ≤ 0.5</text>\n<text text-anchor=\"start\" x=\"260.5\" y=\"-230.8\" font-family=\"Helvetica,sans-Serif\" font-size=\"14.00\" fill=\"#000000\">entropy = 1.0</text>\n<text text-anchor=\"start\" x=\"251\" y=\"-215.8\" font-family=\"Helvetica,sans-Serif\" font-size=\"14.00\" fill=\"#000000\">samples = 1508</text>\n<text text-anchor=\"start\" x=\"245\" y=\"-200.8\" font-family=\"Helvetica,sans-Serif\" font-size=\"14.00\" fill=\"#000000\">value = [749, 759]</text>\n</g>\n<!-- 1 -->\n<g id=\"node2\" class=\"node\">\n<title>1</title>\n<path fill=\"#dbedfa\" stroke=\"#000000\" d=\"M284.5,-157C284.5,-157 119.5,-157 119.5,-157 113.5,-157 107.5,-151 107.5,-145 107.5,-145 107.5,-101 107.5,-101 107.5,-95 113.5,-89 119.5,-89 119.5,-89 284.5,-89 284.5,-89 290.5,-89 296.5,-95 296.5,-101 296.5,-101 296.5,-145 296.5,-145 296.5,-151 290.5,-157 284.5,-157\"/>\n<text text-anchor=\"start\" x=\"115.5\" y=\"-141.8\" font-family=\"Helvetica,sans-Serif\" font-size=\"14.00\" fill=\"#000000\">vote_4_f_M6_99_cat ≤ 0.5</text>\n<text text-anchor=\"start\" x=\"151\" y=\"-126.8\" font-family=\"Helvetica,sans-Serif\" font-size=\"14.00\" fill=\"#000000\">entropy = 0.993</text>\n<text text-anchor=\"start\" x=\"154\" y=\"-111.8\" font-family=\"Helvetica,sans-Serif\" font-size=\"14.00\" fill=\"#000000\">samples = 938</text>\n<text text-anchor=\"start\" x=\"144\" y=\"-96.8\" font-family=\"Helvetica,sans-Serif\" font-size=\"14.00\" fill=\"#000000\">value = [422, 516]</text>\n</g>\n<!-- 0&#45;&gt;1 -->\n<g id=\"edge1\" class=\"edge\">\n<title>0&#45;&gt;1</title>\n<path fill=\"none\" stroke=\"#000000\" d=\"M269.9288,-192.9465C261.1221,-183.8782 251.5093,-173.9799 242.3597,-164.5585\"/>\n<polygon fill=\"#000000\" stroke=\"#000000\" points=\"244.6232,-161.8654 235.1455,-157.13 239.6015,-166.7422 244.6232,-161.8654\"/>\n<text text-anchor=\"middle\" x=\"234.7797\" y=\"-178.4273\" font-family=\"Helvetica,sans-Serif\" font-size=\"14.00\" fill=\"#000000\">True</text>\n</g>\n<!-- 4 -->\n<g id=\"node5\" class=\"node\">\n<title>4</title>\n<path fill=\"#f8dfcc\" stroke=\"#000000\" d=\"M483,-157C483,-157 327,-157 327,-157 321,-157 315,-151 315,-145 315,-145 315,-101 315,-101 315,-95 321,-89 327,-89 327,-89 483,-89 483,-89 489,-89 495,-95 495,-101 495,-101 495,-145 495,-145 495,-151 489,-157 483,-157\"/>\n<text text-anchor=\"start\" x=\"323\" y=\"-141.8\" font-family=\"Helvetica,sans-Serif\" font-size=\"14.00\" fill=\"#000000\">vote_hi_M3_99_cat ≤ 0.5</text>\n<text text-anchor=\"start\" x=\"354\" y=\"-126.8\" font-family=\"Helvetica,sans-Serif\" font-size=\"14.00\" fill=\"#000000\">entropy = 0.984</text>\n<text text-anchor=\"start\" x=\"357\" y=\"-111.8\" font-family=\"Helvetica,sans-Serif\" font-size=\"14.00\" fill=\"#000000\">samples = 570</text>\n<text text-anchor=\"start\" x=\"347\" y=\"-96.8\" font-family=\"Helvetica,sans-Serif\" font-size=\"14.00\" fill=\"#000000\">value = [327, 243]</text>\n</g>\n<!-- 0&#45;&gt;4 -->\n<g id=\"edge4\" class=\"edge\">\n<title>0&#45;&gt;4</title>\n<path fill=\"none\" stroke=\"#000000\" d=\"M336.3986,-192.9465C345.3806,-183.7884 355.1928,-173.7838 364.515,-164.2788\"/>\n<polygon fill=\"#000000\" stroke=\"#000000\" points=\"367.023,-166.7201 371.5263,-157.13 362.0254,-161.8187 367.023,-166.7201\"/>\n<text text-anchor=\"middle\" x=\"371.7691\" y=\"-178.4288\" font-family=\"Helvetica,sans-Serif\" font-size=\"14.00\" fill=\"#000000\">False</text>\n</g>\n<!-- 2 -->\n<g id=\"node3\" class=\"node\">\n<title>2</title>\n<path fill=\"#e8f4fc\" stroke=\"#000000\" d=\"M120,-53C120,-53 12,-53 12,-53 6,-53 0,-47 0,-41 0,-41 0,-12 0,-12 0,-6 6,0 12,0 12,0 120,0 120,0 126,0 132,-6 132,-12 132,-12 132,-41 132,-41 132,-47 126,-53 120,-53\"/>\n<text text-anchor=\"start\" x=\"15\" y=\"-37.8\" font-family=\"Helvetica,sans-Serif\" font-size=\"14.00\" fill=\"#000000\">entropy = 0.997</text>\n<text text-anchor=\"start\" x=\"18\" y=\"-22.8\" font-family=\"Helvetica,sans-Serif\" font-size=\"14.00\" fill=\"#000000\">samples = 676</text>\n<text text-anchor=\"start\" x=\"8\" y=\"-7.8\" font-family=\"Helvetica,sans-Serif\" font-size=\"14.00\" fill=\"#000000\">value = [317, 359]</text>\n</g>\n<!-- 1&#45;&gt;2 -->\n<g id=\"edge2\" class=\"edge\">\n<title>1&#45;&gt;2</title>\n<path fill=\"none\" stroke=\"#000000\" d=\"M154.0515,-88.9777C140.372,-79.2713 125.5036,-68.7213 111.9466,-59.1018\"/>\n<polygon fill=\"#000000\" stroke=\"#000000\" points=\"113.8783,-56.1809 103.6973,-53.2485 109.8275,-61.8898 113.8783,-56.1809\"/>\n</g>\n<!-- 3 -->\n<g id=\"node4\" class=\"node\">\n<title>3</title>\n<path fill=\"#bddff6\" stroke=\"#000000\" d=\"M270,-53C270,-53 162,-53 162,-53 156,-53 150,-47 150,-41 150,-41 150,-12 150,-12 150,-6 156,0 162,0 162,0 270,0 270,0 276,0 282,-6 282,-12 282,-12 282,-41 282,-41 282,-47 276,-53 270,-53\"/>\n<text text-anchor=\"start\" x=\"165\" y=\"-37.8\" font-family=\"Helvetica,sans-Serif\" font-size=\"14.00\" fill=\"#000000\">entropy = 0.971</text>\n<text text-anchor=\"start\" x=\"168\" y=\"-22.8\" font-family=\"Helvetica,sans-Serif\" font-size=\"14.00\" fill=\"#000000\">samples = 262</text>\n<text text-anchor=\"start\" x=\"158\" y=\"-7.8\" font-family=\"Helvetica,sans-Serif\" font-size=\"14.00\" fill=\"#000000\">value = [105, 157]</text>\n</g>\n<!-- 1&#45;&gt;3 -->\n<g id=\"edge3\" class=\"edge\">\n<title>1&#45;&gt;3</title>\n<path fill=\"none\" stroke=\"#000000\" d=\"M206.9359,-88.9777C208.1448,-80.6449 209.4439,-71.6903 210.6704,-63.2364\"/>\n<polygon fill=\"#000000\" stroke=\"#000000\" points=\"214.1473,-63.6474 212.1194,-53.2485 207.2198,-62.6423 214.1473,-63.6474\"/>\n</g>\n<!-- 5 -->\n<g id=\"node6\" class=\"node\">\n<title>5</title>\n<path fill=\"#f6d5bd\" stroke=\"#000000\" d=\"M446,-53C446,-53 338,-53 338,-53 332,-53 326,-47 326,-41 326,-41 326,-12 326,-12 326,-6 332,0 338,0 338,0 446,0 446,0 452,0 458,-6 458,-12 458,-12 458,-41 458,-41 458,-47 452,-53 446,-53\"/>\n<text text-anchor=\"start\" x=\"341\" y=\"-37.8\" font-family=\"Helvetica,sans-Serif\" font-size=\"14.00\" fill=\"#000000\">entropy = 0.971</text>\n<text text-anchor=\"start\" x=\"344\" y=\"-22.8\" font-family=\"Helvetica,sans-Serif\" font-size=\"14.00\" fill=\"#000000\">samples = 503</text>\n<text text-anchor=\"start\" x=\"334\" y=\"-7.8\" font-family=\"Helvetica,sans-Serif\" font-size=\"14.00\" fill=\"#000000\">value = [302, 201]</text>\n</g>\n<!-- 4&#45;&gt;5 -->\n<g id=\"edge5\" class=\"edge\">\n<title>4&#45;&gt;5</title>\n<path fill=\"none\" stroke=\"#000000\" d=\"M400.4167,-88.9777C399.2941,-80.6449 398.0878,-71.6903 396.949,-63.2364\"/>\n<polygon fill=\"#000000\" stroke=\"#000000\" points=\"400.4073,-62.6916 395.6034,-53.2485 393.4699,-63.6263 400.4073,-62.6916\"/>\n</g>\n<!-- 6 -->\n<g id=\"node7\" class=\"node\">\n<title>6</title>\n<path fill=\"#afd7f4\" stroke=\"#000000\" d=\"M582,-53C582,-53 488,-53 488,-53 482,-53 476,-47 476,-41 476,-41 476,-12 476,-12 476,-6 482,0 488,0 488,0 582,0 582,0 588,0 594,-6 594,-12 594,-12 594,-41 594,-41 594,-47 588,-53 582,-53\"/>\n<text text-anchor=\"start\" x=\"484\" y=\"-37.8\" font-family=\"Helvetica,sans-Serif\" font-size=\"14.00\" fill=\"#000000\">entropy = 0.953</text>\n<text text-anchor=\"start\" x=\"491\" y=\"-22.8\" font-family=\"Helvetica,sans-Serif\" font-size=\"14.00\" fill=\"#000000\">samples = 67</text>\n<text text-anchor=\"start\" x=\"485\" y=\"-7.8\" font-family=\"Helvetica,sans-Serif\" font-size=\"14.00\" fill=\"#000000\">value = [25, 42]</text>\n</g>\n<!-- 4&#45;&gt;6 -->\n<g id=\"edge6\" class=\"edge\">\n<title>4&#45;&gt;6</title>\n<path fill=\"none\" stroke=\"#000000\" d=\"M450.8331,-88.9777C463.7857,-79.3629 477.8535,-68.9203 490.7133,-59.3743\"/>\n<polygon fill=\"#000000\" stroke=\"#000000\" points=\"493.0224,-62.0193 498.9658,-53.2485 488.8501,-56.3986 493.0224,-62.0193\"/>\n</g>\n</g>\n</svg>\n"
          },
          "metadata": {
            "tags": []
          },
          "execution_count": 50
        }
      ]
    },
    {
      "cell_type": "markdown",
      "metadata": {
        "id": "ltY_pH38Isuw",
        "colab_type": "text"
      },
      "source": [
        "## 4.2. Random Forest"
      ]
    },
    {
      "cell_type": "markdown",
      "metadata": {
        "id": "ZFya36Y2YCgP",
        "colab_type": "text"
      },
      "source": [
        "Una vez vemos que el árbol de decisión puede ser un buen método para predecir el estrés sobre los empleados de nuestra muestra, vamos a ver si el Random Forest nos mejora esta predicción.\n",
        "\n",
        "Para empezar definimos las librerías necesarias."
      ]
    },
    {
      "cell_type": "code",
      "metadata": {
        "id": "anto57QUIvg-",
        "colab_type": "code",
        "colab": {}
      },
      "source": [
        "from sklearn.model_selection import train_test_split,cross_val_score,  GridSearchCV, KFold, StratifiedKFold, RandomizedSearchCV\n",
        "from sklearn.ensemble import RandomForestClassifier\n",
        "from sklearn.metrics import accuracy_score\n",
        "\n",
        "def rmse(x,y):return np.sqrt(((x-y)**2).mean())"
      ],
      "execution_count": 51,
      "outputs": []
    },
    {
      "cell_type": "markdown",
      "metadata": {
        "id": "W0t4zAzjYS31",
        "colab_type": "text"
      },
      "source": [
        "Dividimos la muestra en train y test."
      ]
    },
    {
      "cell_type": "code",
      "metadata": {
        "id": "JiGsP8WaK-j9",
        "colab_type": "code",
        "colab": {}
      },
      "source": [
        "X_train, X_test, y_train,y_test = train_test_split(X,y, test_size =0.2,random_state=17)"
      ],
      "execution_count": 52,
      "outputs": []
    },
    {
      "cell_type": "markdown",
      "metadata": {
        "id": "AfrF0AooYziZ",
        "colab_type": "text"
      },
      "source": [
        "Aplicamos método 'RandomForestClassifier' y calculamos los rmse y scores asociados a la predicción."
      ]
    },
    {
      "cell_type": "code",
      "metadata": {
        "id": "CPH6-ppSJmwe",
        "colab_type": "code",
        "colab": {
          "base_uri": "https://localhost:8080/",
          "height": 85
        },
        "outputId": "a4dbb578-2eb2-4973-a3da-86e687f9f02b"
      },
      "source": [
        "RF=RandomForestClassifier(n_estimators=200,max_leaf_nodes=50,min_samples_leaf=20,\n",
        "                         min_samples_split=20,max_depth=70,max_features=0.9,\n",
        "                         n_jobs=-1,random_state=17)\n",
        "RF.fit(X_train,y_train)\n",
        "pred=RF.predict(X_train)\n",
        "pred1=RF.predict(X_test)\n",
        "print('RMSE Train: {0:.4f}'.format(rmse(pred,y_train)))\n",
        "print('RMSE Test: {0:.4f}'.format(rmse(pred1,y_test)))\n",
        "print('Precisión Train: {0:.4f}'.format(RF.score(X_train,y_train)))\n",
        "print('Precisión Test: {0:.4f}'.format(RF.score(X_test,y_test)))"
      ],
      "execution_count": 53,
      "outputs": [
        {
          "output_type": "stream",
          "text": [
            "RMSE Train: 0.5529\n",
            "RMSE Test: 0.6371\n",
            "Precisión Train: 0.6943\n",
            "Precisión Test: 0.5942\n"
          ],
          "name": "stdout"
        }
      ]
    },
    {
      "cell_type": "markdown",
      "metadata": {
        "id": "vXtY7nlXY9z5",
        "colab_type": "text"
      },
      "source": [
        "Una vez hemos ajustado manualmente nuestro Random Forest, vamos a construir un GridSearch para ver si encontramos un modelo más preciso. Para limitar el tiempo de ejecución, vamos a utilizar el RandomizedSearchCV que nos permitirá realizar un número determinado de combinaciones sobre todos los parámetros que le indiquemos."
      ]
    },
    {
      "cell_type": "code",
      "metadata": {
        "id": "NY3C72JManMK",
        "colab_type": "code",
        "colab": {}
      },
      "source": [
        "parameters={'max_depth': [50,70,90,110,130,150,200,250,300,500],\n",
        " 'max_features': ['log2','sqrt',0.5,0.3,0.7],\n",
        " 'n_estimators': [130,200,350,500],\n",
        " 'max_leaf_nodes': [int(x) for x in np.linspace(2,300,num=10)],\n",
        " 'min_samples_leaf': [2,5,10,20,50,70],\n",
        " 'min_samples_split': [2,5,10,20,40]}"
      ],
      "execution_count": 54,
      "outputs": []
    },
    {
      "cell_type": "code",
      "metadata": {
        "id": "K4R2TV6UbG2a",
        "colab_type": "code",
        "colab": {
          "base_uri": "https://localhost:8080/",
          "height": 51
        },
        "outputId": "a94245e9-e2ae-4413-cfb8-e527293378a4"
      },
      "source": [
        "RF1=RandomForestClassifier(random_state=42,n_jobs=-1, oob_score=True)\n",
        "%time gs=RandomizedSearchCV(RF1,parameters,cv=3,n_iter=20,scoring='neg_mean_squared_error').fit(X_train,y_train)"
      ],
      "execution_count": 55,
      "outputs": [
        {
          "output_type": "stream",
          "text": [
            "CPU times: user 38.9 s, sys: 4.03 s, total: 43 s\n",
            "Wall time: 1min 40s\n"
          ],
          "name": "stdout"
        }
      ]
    },
    {
      "cell_type": "code",
      "metadata": {
        "id": "3HgejtOPbWgy",
        "colab_type": "code",
        "colab": {}
      },
      "source": [
        "BEST_RF = gs.best_estimator_.fit(X_train,y_train)"
      ],
      "execution_count": 56,
      "outputs": []
    },
    {
      "cell_type": "code",
      "metadata": {
        "id": "EAD5CqJoNvQ_",
        "colab_type": "code",
        "colab": {}
      },
      "source": [
        "# Guardamos el modelo\n",
        "import pickle\n",
        "filename = 'random_forest.sav'\n",
        "pickle.dump(BEST_RF, open(filename, 'wb'))"
      ],
      "execution_count": 57,
      "outputs": []
    },
    {
      "cell_type": "code",
      "metadata": {
        "id": "_0pA86gScLGE",
        "colab_type": "code",
        "colab": {
          "base_uri": "https://localhost:8080/",
          "height": 85
        },
        "outputId": "5ede353c-f747-4ec1-8bf7-9e10c4115def"
      },
      "source": [
        "pred=gs.best_estimator_.predict(X_train)\n",
        "pred1=gs.best_estimator_.predict(X_test)\n",
        "print('RMSE Train: {0:.4f}'.format(rmse(pred,y_train)))\n",
        "print('RMSE Test: {0:.4f}'.format(rmse(pred1,y_test)))\n",
        "print('Precisión Train: {0:.4f}'.format(gs.best_estimator_.score(X_train,y_train)))\n",
        "print('Precisión Test: {0:.4f}'.format(gs.best_estimator_.score(X_test,y_test)))"
      ],
      "execution_count": 58,
      "outputs": [
        {
          "output_type": "stream",
          "text": [
            "RMSE Train: 0.3079\n",
            "RMSE Test: 0.6515\n",
            "Precisión Train: 0.9052\n",
            "Precisión Test: 0.5756\n"
          ],
          "name": "stdout"
        }
      ]
    },
    {
      "cell_type": "markdown",
      "metadata": {
        "id": "Y44eYZMOcjiO",
        "colab_type": "text"
      },
      "source": [
        "###Feature importance"
      ]
    },
    {
      "cell_type": "markdown",
      "metadata": {
        "id": "vefZlHihaXJ7",
        "colab_type": "text"
      },
      "source": [
        "Una de las ventajas de aplicar el Random Forest es que nos permite obtener la importancia de las variables sobre la predicción de la variable objetivo. En este paso intentaremos seleccionar las variables más importantes y crear un modelo más sencillo a partir de ellas y analizaremos su comportamiento."
      ]
    },
    {
      "cell_type": "code",
      "metadata": {
        "id": "VHfZCwPKcjN1",
        "colab_type": "code",
        "colab": {
          "base_uri": "https://localhost:8080/",
          "height": 816
        },
        "outputId": "0b835288-a2bd-4287-b43d-bfaa1a6c1e18"
      },
      "source": [
        "importances=RF.feature_importances_\n",
        "feature_list = list(X_train.columns)\n",
        "feature_importance= sorted(zip(importances, feature_list), reverse=True)\n",
        "df = pd.DataFrame(feature_importance, columns=['importance', 'feature'])\n",
        "plt.style.use('bmh')\n",
        "\n",
        "# seleccionamos las variables con importancia > 0.0005\n",
        "df_imp=df[df['importance']>0.001]\n",
        "x_values = list(range(len(df_imp['importance'])))\n",
        "plt.figure(figsize=(15,10))\n",
        "plt.bar(x_values, df_imp['importance'], orientation = 'vertical')\n",
        "plt.xticks(x_values, df_imp['feature'], rotation='vertical')\n",
        "plt.ylabel('Importance'); plt.xlabel('Variable'); plt.title('Variable Importances');"
      ],
      "execution_count": 91,
      "outputs": [
        {
          "output_type": "display_data",
          "data": {
            "image/png": "[encoded data removed]",
            "text/plain": [
              "<Figure size 1080x720 with 1 Axes>"
            ]
          },
          "metadata": {
            "tags": [],
            "needs_background": "light"
          }
        }
      ]
    },
    {
      "cell_type": "code",
      "metadata": {
        "id": "Zed6qoVSdpSB",
        "colab_type": "code",
        "colab": {
          "base_uri": "https://localhost:8080/",
          "height": 1000
        },
        "outputId": "902ffd71-a567-45ac-9d75-546722dc9940"
      },
      "source": [
        "df_imp.tail(50)"
      ],
      "execution_count": 93,
      "outputs": [
        {
          "output_type": "execute_result",
          "data": {
            "text/html": [
              "<div>\n",
              "<style scoped>\n",
              "    .dataframe tbody tr th:only-of-type {\n",
              "        vertical-align: middle;\n",
              "    }\n",
              "\n",
              "    .dataframe tbody tr th {\n",
              "        vertical-align: top;\n",
              "    }\n",
              "\n",
              "    .dataframe thead th {\n",
              "        text-align: right;\n",
              "    }\n",
              "</style>\n",
              "<table border=\"1\" class=\"dataframe\">\n",
              "  <thead>\n",
              "    <tr style=\"text-align: right;\">\n",
              "      <th></th>\n",
              "      <th>importance</th>\n",
              "      <th>feature</th>\n",
              "    </tr>\n",
              "  </thead>\n",
              "  <tbody>\n",
              "    <tr>\n",
              "      <th>66</th>\n",
              "      <td>0.005693</td>\n",
              "      <td>vote_13_q_M6_99_cat</td>\n",
              "    </tr>\n",
              "    <tr>\n",
              "      <th>67</th>\n",
              "      <td>0.005683</td>\n",
              "      <td>vote_10_q_M2_99_cat</td>\n",
              "    </tr>\n",
              "    <tr>\n",
              "      <th>68</th>\n",
              "      <td>0.005564</td>\n",
              "      <td>vote_29_q_M6_99_cat</td>\n",
              "    </tr>\n",
              "    <tr>\n",
              "      <th>69</th>\n",
              "      <td>0.005337</td>\n",
              "      <td>vote_13_q_M2_99_cat</td>\n",
              "    </tr>\n",
              "    <tr>\n",
              "      <th>70</th>\n",
              "      <td>0.005230</td>\n",
              "      <td>vote_49_q_M2_99_cat</td>\n",
              "    </tr>\n",
              "    <tr>\n",
              "      <th>71</th>\n",
              "      <td>0.005092</td>\n",
              "      <td>vote_14_f_M3_99_cat</td>\n",
              "    </tr>\n",
              "    <tr>\n",
              "      <th>72</th>\n",
              "      <td>0.005075</td>\n",
              "      <td>vote_4_f_M2_99_cat</td>\n",
              "    </tr>\n",
              "    <tr>\n",
              "      <th>73</th>\n",
              "      <td>0.005026</td>\n",
              "      <td>vote_39_q_M3_99_cat</td>\n",
              "    </tr>\n",
              "    <tr>\n",
              "      <th>74</th>\n",
              "      <td>0.004431</td>\n",
              "      <td>vote_12_q_M2_99_cat</td>\n",
              "    </tr>\n",
              "    <tr>\n",
              "      <th>75</th>\n",
              "      <td>0.004372</td>\n",
              "      <td>MANUFACTURING</td>\n",
              "    </tr>\n",
              "    <tr>\n",
              "      <th>76</th>\n",
              "      <td>0.003990</td>\n",
              "      <td>vote_48_q_M6_99_cat</td>\n",
              "    </tr>\n",
              "    <tr>\n",
              "      <th>77</th>\n",
              "      <td>0.003775</td>\n",
              "      <td>vote_12_f_M6_99_cat</td>\n",
              "    </tr>\n",
              "    <tr>\n",
              "      <th>78</th>\n",
              "      <td>0.003699</td>\n",
              "      <td>vote_38_q_M3_99_cat</td>\n",
              "    </tr>\n",
              "    <tr>\n",
              "      <th>79</th>\n",
              "      <td>0.003627</td>\n",
              "      <td>vote_17_f_M2_99_cat</td>\n",
              "    </tr>\n",
              "    <tr>\n",
              "      <th>80</th>\n",
              "      <td>0.003626</td>\n",
              "      <td>vote_7_q_M2_99_cat</td>\n",
              "    </tr>\n",
              "    <tr>\n",
              "      <th>81</th>\n",
              "      <td>0.003618</td>\n",
              "      <td>vote_23_q_M2_99_cat</td>\n",
              "    </tr>\n",
              "    <tr>\n",
              "      <th>82</th>\n",
              "      <td>0.003609</td>\n",
              "      <td>vote_52_q_M3_99_cat</td>\n",
              "    </tr>\n",
              "    <tr>\n",
              "      <th>83</th>\n",
              "      <td>0.003577</td>\n",
              "      <td>vote_14_f_M2_99_cat</td>\n",
              "    </tr>\n",
              "    <tr>\n",
              "      <th>84</th>\n",
              "      <td>0.003490</td>\n",
              "      <td>vote_9_f_M6_99_cat</td>\n",
              "    </tr>\n",
              "    <tr>\n",
              "      <th>85</th>\n",
              "      <td>0.003440</td>\n",
              "      <td>vote_4_q_M6_99_cat</td>\n",
              "    </tr>\n",
              "    <tr>\n",
              "      <th>86</th>\n",
              "      <td>0.003316</td>\n",
              "      <td>vote_43_q_M3_99_cat</td>\n",
              "    </tr>\n",
              "    <tr>\n",
              "      <th>87</th>\n",
              "      <td>0.003255</td>\n",
              "      <td>vote_32_q_M2_99_cat</td>\n",
              "    </tr>\n",
              "    <tr>\n",
              "      <th>88</th>\n",
              "      <td>0.003141</td>\n",
              "      <td>vote_30_q_M3_99_cat</td>\n",
              "    </tr>\n",
              "    <tr>\n",
              "      <th>89</th>\n",
              "      <td>0.003098</td>\n",
              "      <td>vote_29_q_M2_99_cat</td>\n",
              "    </tr>\n",
              "    <tr>\n",
              "      <th>90</th>\n",
              "      <td>0.003026</td>\n",
              "      <td>vote_48_q_M3_99_cat</td>\n",
              "    </tr>\n",
              "    <tr>\n",
              "      <th>91</th>\n",
              "      <td>0.002858</td>\n",
              "      <td>vote_52_q_M2_99_cat</td>\n",
              "    </tr>\n",
              "    <tr>\n",
              "      <th>92</th>\n",
              "      <td>0.002791</td>\n",
              "      <td>vote_2_f_M6_99_cat</td>\n",
              "    </tr>\n",
              "    <tr>\n",
              "      <th>93</th>\n",
              "      <td>0.002574</td>\n",
              "      <td>vote_15_q_M6_99_cat</td>\n",
              "    </tr>\n",
              "    <tr>\n",
              "      <th>94</th>\n",
              "      <td>0.002544</td>\n",
              "      <td>month_7</td>\n",
              "    </tr>\n",
              "    <tr>\n",
              "      <th>95</th>\n",
              "      <td>0.002295</td>\n",
              "      <td>vote_17_f_M3_99_cat</td>\n",
              "    </tr>\n",
              "    <tr>\n",
              "      <th>96</th>\n",
              "      <td>0.002273</td>\n",
              "      <td>vote_27_q_M6_99_cat</td>\n",
              "    </tr>\n",
              "    <tr>\n",
              "      <th>97</th>\n",
              "      <td>0.002230</td>\n",
              "      <td>vote_4_f_M3_99_cat</td>\n",
              "    </tr>\n",
              "    <tr>\n",
              "      <th>98</th>\n",
              "      <td>0.002217</td>\n",
              "      <td>vote_28_q_M6_99_cat</td>\n",
              "    </tr>\n",
              "    <tr>\n",
              "      <th>99</th>\n",
              "      <td>0.002102</td>\n",
              "      <td>vote_38_q_M6_99_cat</td>\n",
              "    </tr>\n",
              "    <tr>\n",
              "      <th>100</th>\n",
              "      <td>0.002004</td>\n",
              "      <td>vote_16_f_M6_99_cat</td>\n",
              "    </tr>\n",
              "    <tr>\n",
              "      <th>101</th>\n",
              "      <td>0.001862</td>\n",
              "      <td>vote_17_f_M6_99_cat</td>\n",
              "    </tr>\n",
              "    <tr>\n",
              "      <th>102</th>\n",
              "      <td>0.001856</td>\n",
              "      <td>vote_31_q_M2_99_cat</td>\n",
              "    </tr>\n",
              "    <tr>\n",
              "      <th>103</th>\n",
              "      <td>0.001792</td>\n",
              "      <td>vote_1_f_M6_99_cat</td>\n",
              "    </tr>\n",
              "    <tr>\n",
              "      <th>104</th>\n",
              "      <td>0.001687</td>\n",
              "      <td>vote_28_q_M2_99_cat</td>\n",
              "    </tr>\n",
              "    <tr>\n",
              "      <th>105</th>\n",
              "      <td>0.001610</td>\n",
              "      <td>NATURAL_RESOURCES</td>\n",
              "    </tr>\n",
              "    <tr>\n",
              "      <th>106</th>\n",
              "      <td>0.001569</td>\n",
              "      <td>vote_20_q_M3_99_cat</td>\n",
              "    </tr>\n",
              "    <tr>\n",
              "      <th>107</th>\n",
              "      <td>0.001472</td>\n",
              "      <td>vote_1_f_M3_99_cat</td>\n",
              "    </tr>\n",
              "    <tr>\n",
              "      <th>108</th>\n",
              "      <td>0.001290</td>\n",
              "      <td>vote_2_f_M2_99_cat</td>\n",
              "    </tr>\n",
              "    <tr>\n",
              "      <th>109</th>\n",
              "      <td>0.001254</td>\n",
              "      <td>vote_16_q_M6_99_cat</td>\n",
              "    </tr>\n",
              "    <tr>\n",
              "      <th>110</th>\n",
              "      <td>0.001184</td>\n",
              "      <td>MANAGEMENT_CONSULTING</td>\n",
              "    </tr>\n",
              "    <tr>\n",
              "      <th>111</th>\n",
              "      <td>0.001076</td>\n",
              "      <td>vote_15_f_M2_99_cat</td>\n",
              "    </tr>\n",
              "    <tr>\n",
              "      <th>112</th>\n",
              "      <td>0.001073</td>\n",
              "      <td>vote_7_q_M6_99_cat</td>\n",
              "    </tr>\n",
              "    <tr>\n",
              "      <th>113</th>\n",
              "      <td>0.001067</td>\n",
              "      <td>vote_16_f_M2_99_cat</td>\n",
              "    </tr>\n",
              "    <tr>\n",
              "      <th>114</th>\n",
              "      <td>0.001014</td>\n",
              "      <td>ACCOMMODATION_AND_FOOT_SERVICES</td>\n",
              "    </tr>\n",
              "    <tr>\n",
              "      <th>115</th>\n",
              "      <td>0.001012</td>\n",
              "      <td>vote_15_f_M6_99_cat</td>\n",
              "    </tr>\n",
              "  </tbody>\n",
              "</table>\n",
              "</div>"
            ],
            "text/plain": [
              "     importance                          feature\n",
              "66   0.005693    vote_13_q_M6_99_cat            \n",
              "67   0.005683    vote_10_q_M2_99_cat            \n",
              "68   0.005564    vote_29_q_M6_99_cat            \n",
              "69   0.005337    vote_13_q_M2_99_cat            \n",
              "70   0.005230    vote_49_q_M2_99_cat            \n",
              "71   0.005092    vote_14_f_M3_99_cat            \n",
              "72   0.005075    vote_4_f_M2_99_cat             \n",
              "73   0.005026    vote_39_q_M3_99_cat            \n",
              "74   0.004431    vote_12_q_M2_99_cat            \n",
              "75   0.004372    MANUFACTURING                  \n",
              "76   0.003990    vote_48_q_M6_99_cat            \n",
              "77   0.003775    vote_12_f_M6_99_cat            \n",
              "78   0.003699    vote_38_q_M3_99_cat            \n",
              "79   0.003627    vote_17_f_M2_99_cat            \n",
              "80   0.003626    vote_7_q_M2_99_cat             \n",
              "81   0.003618    vote_23_q_M2_99_cat            \n",
              "82   0.003609    vote_52_q_M3_99_cat            \n",
              "83   0.003577    vote_14_f_M2_99_cat            \n",
              "84   0.003490    vote_9_f_M6_99_cat             \n",
              "85   0.003440    vote_4_q_M6_99_cat             \n",
              "86   0.003316    vote_43_q_M3_99_cat            \n",
              "87   0.003255    vote_32_q_M2_99_cat            \n",
              "88   0.003141    vote_30_q_M3_99_cat            \n",
              "89   0.003098    vote_29_q_M2_99_cat            \n",
              "90   0.003026    vote_48_q_M3_99_cat            \n",
              "91   0.002858    vote_52_q_M2_99_cat            \n",
              "92   0.002791    vote_2_f_M6_99_cat             \n",
              "93   0.002574    vote_15_q_M6_99_cat            \n",
              "94   0.002544    month_7                        \n",
              "95   0.002295    vote_17_f_M3_99_cat            \n",
              "96   0.002273    vote_27_q_M6_99_cat            \n",
              "97   0.002230    vote_4_f_M3_99_cat             \n",
              "98   0.002217    vote_28_q_M6_99_cat            \n",
              "99   0.002102    vote_38_q_M6_99_cat            \n",
              "100  0.002004    vote_16_f_M6_99_cat            \n",
              "101  0.001862    vote_17_f_M6_99_cat            \n",
              "102  0.001856    vote_31_q_M2_99_cat            \n",
              "103  0.001792    vote_1_f_M6_99_cat             \n",
              "104  0.001687    vote_28_q_M2_99_cat            \n",
              "105  0.001610    NATURAL_RESOURCES              \n",
              "106  0.001569    vote_20_q_M3_99_cat            \n",
              "107  0.001472    vote_1_f_M3_99_cat             \n",
              "108  0.001290    vote_2_f_M2_99_cat             \n",
              "109  0.001254    vote_16_q_M6_99_cat            \n",
              "110  0.001184    MANAGEMENT_CONSULTING          \n",
              "111  0.001076    vote_15_f_M2_99_cat            \n",
              "112  0.001073    vote_7_q_M6_99_cat             \n",
              "113  0.001067    vote_16_f_M2_99_cat            \n",
              "114  0.001014    ACCOMMODATION_AND_FOOT_SERVICES\n",
              "115  0.001012    vote_15_f_M6_99_cat            "
            ]
          },
          "metadata": {
            "tags": []
          },
          "execution_count": 93
        }
      ]
    },
    {
      "cell_type": "markdown",
      "metadata": {
        "id": "JCm_xYqvpB_m",
        "colab_type": "text"
      },
      "source": [
        "Creamos una lista con las variables seleccionadas y aplicamos un 'RandomizedSearchCV' sobre el 'RandomForestClassifier' para obtener el mejor modelo posible con estas variables."
      ]
    },
    {
      "cell_type": "code",
      "metadata": {
        "id": "ZK5-kuN_dpIQ",
        "colab_type": "code",
        "colab": {}
      },
      "source": [
        "a=list(df_imp['feature'])\n",
        "X_importance=X_train[a]\n",
        "X_test_importance=X_test[a]"
      ],
      "execution_count": 97,
      "outputs": []
    },
    {
      "cell_type": "code",
      "metadata": {
        "id": "6xQafm3ido9s",
        "colab_type": "code",
        "colab": {
          "base_uri": "https://localhost:8080/",
          "height": 51
        },
        "outputId": "e95ecd66-65b8-45c5-be76-4603428077df"
      },
      "source": [
        "tree_imp=RandomForestClassifier(random_state=42,n_jobs=-1, oob_score=True)\n",
        "%time gs_imp=RandomizedSearchCV(tree_imp,parameters,cv=5,n_iter=40,scoring='neg_mean_squared_error').fit(X_importance,y_train)"
      ],
      "execution_count": 62,
      "outputs": [
        {
          "output_type": "stream",
          "text": [
            "CPU times: user 1min 44s, sys: 9.26 s, total: 1min 53s\n",
            "Wall time: 3min 20s\n"
          ],
          "name": "stdout"
        }
      ]
    },
    {
      "cell_type": "code",
      "metadata": {
        "id": "g3vSq-K6fFG4",
        "colab_type": "code",
        "colab": {
          "base_uri": "https://localhost:8080/",
          "height": 85
        },
        "outputId": "659e050e-7a33-418c-c0c5-988ea814d78b"
      },
      "source": [
        "best_tree_imp=gs_imp.best_estimator_\n",
        "print('RMSE Train: {0:.4f}'.format(rmse(best_tree_imp.predict(X_importance),y_train)))\n",
        "print('RMSE Test: {0:.4f}'.format(rmse(best_tree_imp.predict(X_test_importance),y_test)))\n",
        "print('Precisión Train: {0:.4f}'.format(best_tree_imp.score(X_importance,y_train)))\n",
        "print('Precisión Test: {0:.4f}'.format(best_tree_imp.score(X_test_importance,y_test)))"
      ],
      "execution_count": 63,
      "outputs": [
        {
          "output_type": "stream",
          "text": [
            "RMSE Train: 0.4278\n",
            "RMSE Test: 0.6433\n",
            "Precisión Train: 0.8170\n",
            "Precisión Test: 0.5862\n"
          ],
          "name": "stdout"
        }
      ]
    },
    {
      "cell_type": "markdown",
      "metadata": {
        "id": "oYz0CQGub0im",
        "colab_type": "text"
      },
      "source": [
        "El modelo con menos variables no mejora el inicial, por lo que nos decantaremos por utilizar el modelo con todas las variables disponibles."
      ]
    },
    {
      "cell_type": "markdown",
      "metadata": {
        "id": "ULYwr2rsQ6lv",
        "colab_type": "text"
      },
      "source": [
        "## 4.3. Regresión logística"
      ]
    },
    {
      "cell_type": "markdown",
      "metadata": {
        "id": "jcj4FvozpoMO",
        "colab_type": "text"
      },
      "source": [
        "A continuación implementamos una regresión logística. De esta forma podremos determinar qué variables son significativas en la predicción con la función logit.\n",
        "\n",
        "Como una primera aproximación, utilizamos las variables que nos han salido en el análisis de importancia de las variables en el método Random Forest."
      ]
    },
    {
      "cell_type": "code",
      "metadata": {
        "id": "R7OdrFHYjN_C",
        "colab_type": "code",
        "colab": {}
      },
      "source": [
        "x_new=X_train[a]"
      ],
      "execution_count": 98,
      "outputs": []
    },
    {
      "cell_type": "code",
      "metadata": {
        "id": "evKGd1l9ja44",
        "colab_type": "code",
        "colab": {
          "base_uri": "https://localhost:8080/",
          "height": 1000
        },
        "outputId": "f1781c4d-3c6f-4a24-c075-74e8442ba2cb"
      },
      "source": [
        "import statsmodels.api as sm\n",
        "logit_model=sm.Logit(y_train,x_new)\n",
        "result=logit_model.fit()\n",
        "print(result.summary2())"
      ],
      "execution_count": 99,
      "outputs": [
        {
          "output_type": "stream",
          "text": [
            "Optimization terminated successfully.\n",
            "         Current function value: 0.619594\n",
            "         Iterations 6\n",
            "                                Results: Logit\n",
            "===============================================================================\n",
            "Model:                    Logit                Pseudo R-squared:     0.106     \n",
            "Dependent Variable:       vote_stress_cat      AIC:                  2100.6942 \n",
            "Date:                     2020-07-18 14:18     BIC:                  2717.6448 \n",
            "No. Observations:         1508                 Log-Likelihood:       -934.35   \n",
            "Df Model:                 115                  LL-Null:              -1045.2   \n",
            "Df Residuals:             1392                 LLR p-value:          8.9388e-09\n",
            "Converged:                1.0000               Scale:                1.0000    \n",
            "No. Iterations:           6.0000                                               \n",
            "-------------------------------------------------------------------------------\n",
            "                                 Coef.  Std.Err.    z    P>|z|   [0.025  0.975]\n",
            "-------------------------------------------------------------------------------\n",
            "COMPUTER_SOFTWARE_IT_SERVICES   -0.6539   0.1896 -3.4494 0.0006 -1.0254 -0.2823\n",
            "FINANCIAL_SERVICES_INSURANCE     0.2275   0.2088  1.0898 0.2758 -0.1817  0.6367\n",
            "vote_hi_M3_99_cat                0.2445   0.5299  0.4615 0.6445 -0.7941  1.2831\n",
            "vote_3_q_M3_99_cat               0.7479   0.5173  1.4457 0.1483 -0.2660  1.7618\n",
            "month_1                          0.4226   0.2487  1.6995 0.0892 -0.0648  0.9100\n",
            "vote_hi_M6_99_cat                0.2152   0.3956  0.5441 0.5864 -0.5601  0.9905\n",
            "vote_11_f_M3_99_cat             -0.1434   0.5043 -0.2844 0.7761 -1.1319  0.8450\n",
            "vote_hi_M2_99_cat                0.4151   0.4647  0.8933 0.3717 -0.4957  1.3260\n",
            "vote_46_q_M6_99_cat             -0.4816   0.3852 -1.2505 0.2111 -1.2365  0.2733\n",
            "vote_26_q_M6_99_cat              0.2771   0.2844  0.9741 0.3300 -0.2804  0.8346\n",
            "month_3                         -0.3398   0.2149 -1.5809 0.1139 -0.7610  0.0815\n",
            "NON_PROFIT_ORGANIZATION         -0.6755   0.2896 -2.3322 0.0197 -1.2431 -0.1078\n",
            "vote_36_q_M6_99_cat              0.2528   0.2734  0.9249 0.3550 -0.2830  0.7887\n",
            "vote_6_q_M6_99_cat               0.1415   0.3354  0.4218 0.6731 -0.5159  0.7988\n",
            "vote_26_q_M2_99_cat              0.5485   0.3783  1.4498 0.1471 -0.1930  1.2900\n",
            "vote_42_q_M6_99_cat              0.5499   0.3414  1.6107 0.1072 -0.1192  1.2191\n",
            "vote_49_q_M6_99_cat             -0.3082   0.3048 -1.0111 0.3120 -0.9057  0.2892\n",
            "vote_11_f_M6_99_cat              0.2761   0.4104  0.6727 0.5012 -0.5283  1.0804\n",
            "vote_3_q_M6_99_cat              -0.3953   0.3998 -0.9888 0.3228 -1.1789  0.3883\n",
            "vote_19_q_M6_99_cat              0.3575   0.4499  0.7945 0.4269 -0.5244  1.2394\n",
            "HEALTH_CARE_SOCIAL_ASSISTANCE   -0.2432   0.2176 -1.1176 0.2637 -0.6698  0.1833\n",
            "vote_23_q_M3_99_cat              0.7769   0.3563  2.1805 0.0292  0.0786  1.4753\n",
            "month_5                         -0.2940   0.2002 -1.4684 0.1420 -0.6865  0.0984\n",
            "vote_14_f_M6_99_cat              0.1569   0.4075  0.3851 0.7001 -0.6418  0.9557\n",
            "month_2                          0.2399   0.2042  1.1751 0.2400 -0.1603  0.6401\n",
            "vote_4_f_M6_99_cat               0.2490   0.3923  0.6346 0.5257 -0.5199  1.0178\n",
            "vote_42_q_M3_99_cat             -0.3565   0.3996 -0.8922 0.3723 -1.1397  0.4267\n",
            "vote_36_q_M2_99_cat              0.5907   0.2987  1.9776 0.0480  0.0053  1.1761\n",
            "vote_12_q_M6_99_cat              0.0447   0.4900  0.0912 0.9273 -0.9157  1.0051\n",
            "vote_31_q_M6_99_cat              0.1723   0.4186  0.4116 0.6806 -0.6482  0.9928\n",
            "vote_44_q_M6_99_cat              0.8595   0.3446  2.4945 0.0126  0.1842  1.5349\n",
            "vote_29_q_M3_99_cat              0.9917   0.5040  1.9676 0.0491  0.0039  1.9796\n",
            "vote_13_q_M3_99_cat              0.0053   0.4267  0.0125 0.9900 -0.8310  0.8416\n",
            "vote_40_q_M6_99_cat              0.0741   0.4465  0.1660 0.8681 -0.8010  0.9493\n",
            "vote_11_f_M2_99_cat             -0.9035   0.4275 -2.1136 0.0346 -1.7414 -0.0657\n",
            "vote_39_q_M6_99_cat             -0.1227   0.4355 -0.2817 0.7782 -0.9763  0.7309\n",
            "vote_32_q_M6_99_cat             -0.6133   0.4611 -1.3301 0.1835 -1.5169  0.2904\n",
            "month_4                         -0.0605   0.1958 -0.3092 0.7571 -0.4443  0.3232\n",
            "vote_46_q_M3_99_cat              0.6895   0.4677  1.4740 0.1405 -0.2273  1.6062\n",
            "vote_19_q_M3_99_cat              0.0662   0.5510  0.1202 0.9044 -1.0138  1.1462\n",
            "vote_52_q_M6_99_cat             -0.5163   0.3542 -1.4577 0.1449 -1.2105  0.1779\n",
            "vote_42_q_M2_99_cat             -0.1223   0.2848 -0.4295 0.6675 -0.6805  0.4358\n",
            "vote_39_q_M2_99_cat             -0.1358   0.4211 -0.3224 0.7471 -0.9611  0.6896\n",
            "vote_49_q_M3_99_cat              0.3677   0.3879  0.9480 0.3432 -0.3926  1.1280\n",
            "vote_26_q_M3_99_cat             -0.4236   0.4270 -0.9921 0.3212 -1.2604  0.4133\n",
            "vote_10_q_M6_99_cat              0.2939   0.4690  0.6266 0.5309 -0.6253  1.2131\n",
            "vote_36_q_M3_99_cat             -0.7790   0.3478 -2.2397 0.0251 -1.4607 -0.0973\n",
            "vote_10_f_M2_99_cat              0.5547   0.5806  0.9554 0.3394 -0.5833  1.6927\n",
            "vote_23_q_M6_99_cat             -0.1665   0.3144 -0.5295 0.5964 -0.7828  0.4498\n",
            "vote_46_q_M2_99_cat             -0.3107   0.3716 -0.8360 0.4031 -1.0391  0.4177\n",
            "vote_32_q_M3_99_cat              0.5311   0.4867  1.0911 0.2752 -0.4229  1.4850\n",
            "vote_6_q_M3_99_cat               0.4106   0.3707  1.1078 0.2680 -0.3159  1.1372\n",
            "vote_10_q_M3_99_cat              0.1359   0.5820  0.2336 0.8153 -1.0048  1.2767\n",
            "vote_10_f_M6_99_cat              0.6846   0.5405  1.2665 0.2053 -0.3748  1.7440\n",
            "vote_30_q_M6_99_cat              0.4411   0.5086  0.8672 0.3858 -0.5558  1.4379\n",
            "vote_10_f_M3_99_cat             -1.2383   0.6629 -1.8681 0.0617 -2.5375  0.0609\n",
            "vote_12_q_M3_99_cat              0.0283   0.6229  0.0455 0.9637 -1.1926  1.2493\n",
            "vote_43_q_M6_99_cat              0.3833   0.5106  0.7508 0.4528 -0.6173  1.3840\n",
            "vote_31_q_M3_99_cat             -0.6143   0.4955 -1.2397 0.2151 -1.5854  0.3569\n",
            "vote_19_q_M2_99_cat             -0.2996   0.3630 -0.8253 0.4092 -1.0111  0.4119\n",
            "vote_7_q_M3_99_cat               0.1433   0.6758  0.2121 0.8320 -1.1812  1.4679\n",
            "vote_6_q_M2_99_cat              -0.6554   0.3217 -2.0371 0.0416 -1.2860 -0.0248\n",
            "vote_40_q_M2_99_cat              0.5142   0.5060  1.0161 0.3096 -0.4776  1.5059\n",
            "vote_3_q_M2_99_cat               0.0961   0.3449  0.2786 0.7806 -0.5799  0.7721\n",
            "vote_30_q_M2_99_cat             -0.1216   0.6077 -0.2002 0.8414 -1.3126  1.0694\n",
            "vote_40_q_M3_99_cat             -0.8143   0.5772 -1.4108 0.1583 -1.9455  0.3170\n",
            "vote_13_q_M6_99_cat             -0.1116   0.3467 -0.3219 0.7475 -0.7912  0.5679\n",
            "vote_10_q_M2_99_cat             -0.5271   0.5396 -0.9768 0.3286 -1.5847  0.5305\n",
            "vote_29_q_M6_99_cat             -0.5763   0.3999 -1.4413 0.1495 -1.3600  0.2074\n",
            "vote_13_q_M2_99_cat             -0.0002   0.3553 -0.0005 0.9996 -0.6965  0.6961\n",
            "vote_49_q_M2_99_cat              0.1576   0.3199  0.4926 0.6223 -0.4695  0.7846\n",
            "vote_14_f_M3_99_cat              0.2876   0.5667  0.5075 0.6118 -0.8231  1.3983\n",
            "vote_4_f_M2_99_cat               0.0801   0.4300  0.1862 0.8523 -0.7627  0.9229\n",
            "vote_39_q_M3_99_cat              0.4639   0.5418  0.8562 0.3919 -0.5981  1.5259\n",
            "vote_12_q_M2_99_cat             -0.0271   0.5197 -0.0522 0.9584 -1.0456  0.9914\n",
            "MANUFACTURING                   -0.0348   0.2541 -0.1368 0.8912 -0.5329  0.4633\n",
            "vote_48_q_M6_99_cat              1.2549   0.5004  2.5076 0.0122  0.2740  2.2357\n",
            "vote_12_f_M6_99_cat              0.5168   0.3188  1.6213 0.1050 -0.1080  1.1417\n",
            "vote_38_q_M3_99_cat             -0.1024   0.6949 -0.1474 0.8828 -1.4645  1.2596\n",
            "vote_17_f_M2_99_cat             -0.4151   0.4619 -0.8987 0.3688 -1.3204  0.4902\n",
            "vote_7_q_M2_99_cat               0.7857   0.5861  1.3406 0.1801 -0.3630  1.9345\n",
            "vote_23_q_M2_99_cat             -0.8060   0.2775 -2.9047 0.0037 -1.3499 -0.2621\n",
            "vote_52_q_M3_99_cat              0.6812   0.4377  1.5562 0.1197 -0.1767  1.5391\n",
            "vote_14_f_M2_99_cat             -0.2545   0.4918 -0.5176 0.6047 -1.2184  0.7093\n",
            "vote_9_f_M6_99_cat              -0.0488   0.3220 -0.1516 0.8795 -0.6800  0.5824\n",
            "vote_4_q_M6_99_cat               0.2352   0.3547  0.6631 0.5073 -0.4601  0.9305\n",
            "vote_43_q_M3_99_cat             -0.0926   0.5382 -0.1721 0.8633 -1.1474  0.9621\n",
            "vote_32_q_M2_99_cat              0.3449   0.3724  0.9261 0.3544 -0.3850  1.0748\n",
            "vote_30_q_M3_99_cat              0.0530   0.7274  0.0729 0.9419 -1.3727  1.4788\n",
            "vote_29_q_M2_99_cat             -0.4384   0.4101 -1.0689 0.2851 -1.2422  0.3654\n",
            "vote_48_q_M3_99_cat             -1.2409   0.5388 -2.3030 0.0213 -2.2970 -0.1848\n",
            "vote_52_q_M2_99_cat             -0.3042   0.3170 -0.9594 0.3373 -0.9255  0.3172\n",
            "vote_2_f_M6_99_cat              -0.6568   0.3559 -1.8455 0.0650 -1.3544  0.0407\n",
            "vote_15_q_M6_99_cat              0.5237   0.3286  1.5940 0.1109 -0.1202  1.1677\n",
            "month_7                          0.3932   0.3827  1.0275 0.3042 -0.3568  1.1432\n",
            "vote_17_f_M3_99_cat              0.0332   0.6030  0.0550 0.9561 -1.1487  1.2150\n",
            "vote_27_q_M6_99_cat             -0.1323   0.3342 -0.3960 0.6921 -0.7874  0.5227\n",
            "vote_4_f_M3_99_cat              -0.2506   0.5249 -0.4775 0.6330 -1.2795  0.7782\n",
            "vote_28_q_M6_99_cat             -0.5869   0.5170 -1.1352 0.2563 -1.6002  0.4264\n",
            "vote_38_q_M6_99_cat              0.3183   0.6403  0.4971 0.6191 -0.9367  1.5732\n",
            "vote_16_f_M6_99_cat              0.1720   0.4259  0.4039 0.6863 -0.6628  1.0069\n",
            "vote_17_f_M6_99_cat             -0.1224   0.5124 -0.2390 0.8111 -1.1267  0.8819\n",
            "vote_31_q_M2_99_cat              0.5700   0.4040  1.4109 0.1583 -0.2218  1.3619\n",
            "vote_1_f_M6_99_cat              -0.9167   0.4657 -1.9686 0.0490 -1.8295 -0.0040\n",
            "vote_28_q_M2_99_cat              0.6737   0.5489  1.2272 0.2197 -0.4022  1.7496\n",
            "NATURAL_RESOURCES                0.8282   0.5120  1.6175 0.1058 -0.1754  1.8317\n",
            "vote_20_q_M3_99_cat              0.0583   0.2536  0.2301 0.8180 -0.4387  0.5554\n",
            "vote_1_f_M3_99_cat               0.1812   0.4715  0.3842 0.7008 -0.7429  1.1052\n",
            "vote_2_f_M2_99_cat               0.3117   0.4029  0.7735 0.4392 -0.4780  1.1013\n",
            "vote_16_q_M6_99_cat              0.7819   0.3885  2.0127 0.0441  0.0205  1.5433\n",
            "MANAGEMENT_CONSULTING           -1.4392   0.5100 -2.8220 0.0048 -2.4388 -0.4397\n",
            "vote_15_f_M2_99_cat             -0.0832   0.4169 -0.1996 0.8418 -0.9003  0.7339\n",
            "vote_7_q_M6_99_cat              -0.5667   0.4964 -1.1417 0.2536 -1.5396  0.4062\n",
            "vote_16_f_M2_99_cat             -0.2430   0.4484 -0.5419 0.5879 -1.1219  0.6359\n",
            "ACCOMMODATION_AND_FOOT_SERVICES -0.3573   0.3113 -1.1477 0.2511 -0.9675  0.2529\n",
            "vote_15_f_M6_99_cat             -0.4434   0.4274 -1.0375 0.2995 -1.2811  0.3943\n",
            "===============================================================================\n",
            "\n"
          ],
          "name": "stdout"
        }
      ]
    },
    {
      "cell_type": "markdown",
      "metadata": {
        "id": "5gOV5URIFW6f",
        "colab_type": "text"
      },
      "source": [
        "En el ajuste se observa como hay muchas variables cuyo coeficiente no es significativo (P>|z| > 0.05)."
      ]
    },
    {
      "cell_type": "markdown",
      "metadata": {
        "id": "3M48LjTtFK7J",
        "colab_type": "text"
      },
      "source": [
        "**Modelo 1**\n",
        "\n",
        "Buscamos combinación de variables que cumplan con la significancia estadística en la regresión logística."
      ]
    },
    {
      "cell_type": "code",
      "metadata": {
        "id": "cGQy4ilRBVIJ",
        "colab_type": "code",
        "colab": {
          "base_uri": "https://localhost:8080/",
          "height": 476
        },
        "outputId": "b3f34605-8607-4f15-c918-786d7185a2a3"
      },
      "source": [
        "vars_modelo1=['COMPUTER_SOFTWARE_IT_SERVICES', 'vote_hi_M3_99_cat', 'FINANCIAL_SERVICES_INSURANCE',\n",
        "          'month_3', 'NATURAL_RESOURCES', 'vote_26_q_M6_99_cat', 'vote_17_f_M2_99_cat',\n",
        "          'vote_44_q_M6_99_cat', 'vote_16_q_M6_99_cat']\n",
        "\n",
        "x_new_vars1=X_train[vars_modelo1]\n",
        "x_t_new_vars1=X_test[vars_modelo1]\n",
        "logit_model=sm.Logit(y_train,x_new_vars1)\n",
        "result1=logit_model.fit()\n",
        "print(result1.summary2())"
      ],
      "execution_count": 106,
      "outputs": [
        {
          "output_type": "stream",
          "text": [
            "Optimization terminated successfully.\n",
            "         Current function value: 0.663812\n",
            "         Iterations 5\n",
            "                               Results: Logit\n",
            "=============================================================================\n",
            "Model:                  Logit                Pseudo R-squared:     0.042     \n",
            "Dependent Variable:     vote_stress_cat      AIC:                  2020.0572 \n",
            "Date:                   2020-07-18 14:21     BIC:                  2067.9241 \n",
            "No. Observations:       1508                 Log-Likelihood:       -1001.0   \n",
            "Df Model:               8                    LL-Null:              -1045.2   \n",
            "Df Residuals:           1499                 LLR p-value:          9.7814e-16\n",
            "Converged:              1.0000               Scale:                1.0000    \n",
            "No. Iterations:         5.0000                                               \n",
            "-----------------------------------------------------------------------------\n",
            "                               Coef.  Std.Err.    z    P>|z|   [0.025  0.975]\n",
            "-----------------------------------------------------------------------------\n",
            "COMPUTER_SOFTWARE_IT_SERVICES -0.4154   0.0980 -4.2400 0.0000 -0.6075 -0.2234\n",
            "vote_hi_M3_99_cat              0.7075   0.1741  4.0645 0.0000  0.3664  1.0487\n",
            "FINANCIAL_SERVICES_INSURANCE   0.4099   0.1357  3.0205 0.0025  0.1439  0.6759\n",
            "month_3                       -0.4485   0.1417 -3.1658 0.0015 -0.7262 -0.1708\n",
            "NATURAL_RESOURCES              0.9470   0.4421  2.1418 0.0322  0.0804  1.8136\n",
            "vote_26_q_M6_99_cat            0.2389   0.1020  2.3420 0.0192  0.0390  0.4389\n",
            "vote_17_f_M2_99_cat           -0.4475   0.1780 -2.5137 0.0119 -0.7964 -0.0986\n",
            "vote_44_q_M6_99_cat            0.5153   0.2353  2.1905 0.0285  0.0542  0.9765\n",
            "vote_16_q_M6_99_cat            0.7392   0.3352  2.2051 0.0274  0.0822  1.3963\n",
            "=============================================================================\n",
            "\n"
          ],
          "name": "stdout"
        }
      ]
    },
    {
      "cell_type": "markdown",
      "metadata": {
        "id": "b9plRORhFs4O",
        "colab_type": "text"
      },
      "source": [
        "En este primer modelo encontramos una combinación de variables con una precisión de 0.6157\n",
        "\n",
        "Las variables que entran en la regresión son:\n",
        "\n",
        "COMPUTER_SOFTWARE_IT_SERVICES*\n",
        "\n",
        "vote_hi_M3_99_cat\n",
        "\n",
        "FINANCIAL_SERVICES_INSURANCE\n",
        "\n",
        "month_3*\n",
        "\n",
        "NATURAL_RESOURCES\n",
        "\n",
        "vote_26_q_M6_99_cat\n",
        "\n",
        "vote_17_f_M2_99_cat*\n",
        "\n",
        "vote_44_q_M6_99_cat\n",
        "\n",
        "vote_16_q_M6_99_cat\n",
        "\n",
        "El resultado de la regresión nos da coeficientes negativos para COMPUTER_SOFTWARE_IT_SERVICES, month_3, vote_17_f_M2_1_cat, lo cual significa que el efecto de estas variables es inverso al resto, es decir, que si la variable vale 1, disminuyen las probabilidades de tener estrés.\n",
        "\n",
        "La relación entre las variables de voto y las preguntas asociadas son:"
      ]
    },
    {
      "cell_type": "code",
      "metadata": {
        "id": "sNI7B4VRActj",
        "colab_type": "code",
        "colab": {
          "base_uri": "https://localhost:8080/",
          "height": 266
        },
        "outputId": "3a0de856-b681-4c29-c8da-0b888c652195"
      },
      "source": [
        "questions.query('questionNumber== [26,44,16] | factorNumber==17')"
      ],
      "execution_count": 82,
      "outputs": [
        {
          "output_type": "execute_result",
          "data": {
            "text/html": [
              "<div>\n",
              "<style scoped>\n",
              "    .dataframe tbody tr th:only-of-type {\n",
              "        vertical-align: middle;\n",
              "    }\n",
              "\n",
              "    .dataframe tbody tr th {\n",
              "        vertical-align: top;\n",
              "    }\n",
              "\n",
              "    .dataframe thead th {\n",
              "        text-align: right;\n",
              "    }\n",
              "</style>\n",
              "<table border=\"1\" class=\"dataframe\">\n",
              "  <thead>\n",
              "    <tr style=\"text-align: right;\">\n",
              "      <th></th>\n",
              "      <th>questionNumber</th>\n",
              "      <th>factorNumber</th>\n",
              "      <th>questionTitle</th>\n",
              "      <th>factorName</th>\n",
              "    </tr>\n",
              "  </thead>\n",
              "  <tbody>\n",
              "    <tr>\n",
              "      <th>16</th>\n",
              "      <td>16</td>\n",
              "      <td>6</td>\n",
              "      <td>I trust that the people I work with are committed to do a good job</td>\n",
              "      <td>Confidence</td>\n",
              "    </tr>\n",
              "    <tr>\n",
              "      <th>26</th>\n",
              "      <td>26</td>\n",
              "      <td>9</td>\n",
              "      <td>Do you have the tools and resources you need to do your job?</td>\n",
              "      <td>Environment</td>\n",
              "    </tr>\n",
              "    <tr>\n",
              "      <th>44</th>\n",
              "      <td>44</td>\n",
              "      <td>15</td>\n",
              "      <td>The business goals and strategies set by senior leadership are taking *|COMPANY_NAME|* in the right direction.</td>\n",
              "      <td>Trust &amp; Vision</td>\n",
              "    </tr>\n",
              "    <tr>\n",
              "      <th>48</th>\n",
              "      <td>48</td>\n",
              "      <td>17</td>\n",
              "      <td>I see how I can advance in my career at *|COMPANY_NAME|*</td>\n",
              "      <td>Mastery</td>\n",
              "    </tr>\n",
              "    <tr>\n",
              "      <th>49</th>\n",
              "      <td>49</td>\n",
              "      <td>17</td>\n",
              "      <td>My job at *|COMPANY_NAME|* enables me to learn and develop new skills</td>\n",
              "      <td>Mastery</td>\n",
              "    </tr>\n",
              "    <tr>\n",
              "      <th>50</th>\n",
              "      <td>50</td>\n",
              "      <td>17</td>\n",
              "      <td>My manager (or someone in management) encourages and supports my development</td>\n",
              "      <td>Mastery</td>\n",
              "    </tr>\n",
              "    <tr>\n",
              "      <th>51</th>\n",
              "      <td>51</td>\n",
              "      <td>17</td>\n",
              "      <td>I would rate the way *|COMPANY_NAME|* uses my strengths and abilities as:</td>\n",
              "      <td>Mastery</td>\n",
              "    </tr>\n",
              "  </tbody>\n",
              "</table>\n",
              "</div>"
            ],
            "text/plain": [
              "    questionNumber  ...      factorName\n",
              "16  16              ...  Confidence    \n",
              "26  26              ...  Environment   \n",
              "44  44              ...  Trust & Vision\n",
              "48  48              ...  Mastery       \n",
              "49  49              ...  Mastery       \n",
              "50  50              ...  Mastery       \n",
              "51  51              ...  Mastery       \n",
              "\n",
              "[7 rows x 4 columns]"
            ]
          },
          "metadata": {
            "tags": []
          },
          "execution_count": 82
        }
      ]
    },
    {
      "cell_type": "markdown",
      "metadata": {
        "id": "LU0lgD2iG-rm",
        "colab_type": "text"
      },
      "source": [
        "Aplicamos la regresión logística de sklearn con las variables seleccionadas y calculamos el valor de RMSE y la precisión de train y test."
      ]
    },
    {
      "cell_type": "code",
      "metadata": {
        "id": "irh_ysO5jasC",
        "colab_type": "code",
        "colab": {
          "base_uri": "https://localhost:8080/",
          "height": 85
        },
        "outputId": "0f155433-b3e5-4105-8fcf-74ceb867ece0"
      },
      "source": [
        "from sklearn.linear_model import LogisticRegression\n",
        "logreg1 = LogisticRegression()\n",
        "logreg1.fit(x_new_vars1, y_train)\n",
        "y_pred1 = logreg1.predict(x_t_new_vars1)\n",
        "print('RMSE Train: {0:.4f}'.format(rmse(logreg1.predict(x_new_vars1),y_train)))\n",
        "print('RMSE Test: {0:.4f}'.format(rmse(y_pred1,y_test)))\n",
        "print('Precisión Train: {0:.4f}'.format(logreg1.score(x_new_vars1,y_train)))\n",
        "print('Precisión Test: {0:.4f}'.format(logreg1.score(x_t_new_vars1,y_test)))"
      ],
      "execution_count": 68,
      "outputs": [
        {
          "output_type": "stream",
          "text": [
            "RMSE Train: 0.6355\n",
            "RMSE Test: 0.6202\n",
            "Precisión Train: 0.5962\n",
            "Precisión Test: 0.6154\n"
          ],
          "name": "stdout"
        }
      ]
    },
    {
      "cell_type": "markdown",
      "metadata": {
        "id": "wEw7rw6HHSuh",
        "colab_type": "text"
      },
      "source": [
        "**Modelo 2**\n",
        "\n",
        "Probamos otra combinación de variables para ver si tenemos mejor ajuste."
      ]
    },
    {
      "cell_type": "code",
      "metadata": {
        "id": "hKTtmMJcv1rX",
        "colab_type": "code",
        "colab": {
          "base_uri": "https://localhost:8080/",
          "height": 459
        },
        "outputId": "1f462acd-320d-42b4-acc1-6a01ba1f26e5"
      },
      "source": [
        "vars_modelo2=['COMPUTER_SOFTWARE_IT_SERVICES', 'FINANCIAL_SERVICES_INSURANCE','month_1', \n",
        "          'month_3', 'vote_hi_M6_99_cat','vote_26_q_M6_99_cat',\n",
        "          'vote_44_q_M6_99_cat','NON_PROFIT_ORGANIZATION']\n",
        "x_new_vars2=X_train[vars_modelo2]\n",
        "x_t_new_vars2=X_test[vars_modelo2]\n",
        "logit_model=sm.Logit(y_train,x_new_vars2)\n",
        "result2=logit_model.fit()\n",
        "print(result2.summary2())"
      ],
      "execution_count": 69,
      "outputs": [
        {
          "output_type": "stream",
          "text": [
            "Optimization terminated successfully.\n",
            "         Current function value: 0.665943\n",
            "         Iterations 5\n",
            "                               Results: Logit\n",
            "=============================================================================\n",
            "Model:                  Logit                Pseudo R-squared:     0.039     \n",
            "Dependent Variable:     vote_stress_cat      AIC:                  2024.4846 \n",
            "Date:                   2020-07-18 12:48     BIC:                  2067.0329 \n",
            "No. Observations:       1508                 Log-Likelihood:       -1004.2   \n",
            "Df Model:               7                    LL-Null:              -1045.2   \n",
            "Df Residuals:           1500                 LLR p-value:          5.4302e-15\n",
            "Converged:              1.0000               Scale:                1.0000    \n",
            "No. Iterations:         5.0000                                               \n",
            "-----------------------------------------------------------------------------\n",
            "                               Coef.  Std.Err.    z    P>|z|   [0.025  0.975]\n",
            "-----------------------------------------------------------------------------\n",
            "COMPUTER_SOFTWARE_IT_SERVICES -0.4907   0.0986 -4.9753 0.0000 -0.6841 -0.2974\n",
            "FINANCIAL_SERVICES_INSURANCE   0.3211   0.1367  2.3489 0.0188  0.0532  0.5891\n",
            "month_1                        0.4504   0.1997  2.2547 0.0242  0.0589  0.8418\n",
            "month_3                       -0.3585   0.1412 -2.5396 0.0111 -0.6352 -0.0818\n",
            "vote_hi_M6_99_cat              0.6568   0.1864  3.5238 0.0004  0.2915  1.0221\n",
            "vote_26_q_M6_99_cat            0.2968   0.1005  2.9545 0.0031  0.0999  0.4938\n",
            "vote_44_q_M6_99_cat            0.5290   0.2269  2.3313 0.0197  0.0843  0.9737\n",
            "NON_PROFIT_ORGANIZATION       -0.6165   0.2380 -2.5906 0.0096 -1.0829 -0.1501\n",
            "=============================================================================\n",
            "\n"
          ],
          "name": "stdout"
        }
      ]
    },
    {
      "cell_type": "markdown",
      "metadata": {
        "id": "XhIc5i5qHdV9",
        "colab_type": "text"
      },
      "source": [
        "En este caso tenemos otra combinación muy similar a la del modelo 1 pero con alguna otra variable que hace que los coeficientes sean ligeramente diferentes. La combinación es la siguiente:\n",
        "\n",
        "COMPUTER_SOFTWARE_IT_SERVICES*\n",
        "\n",
        "FINANCIAL_SERVICES_INSURANCE\n",
        "\n",
        "month_1\n",
        "\n",
        "month_3*\n",
        "\n",
        "vote_hi_M6_99_cat\n",
        "\n",
        "vote_26_q_M6_99_cat\n",
        "\n",
        "vote_44_q_M6_99_cat\n",
        "\n",
        "NON_PROFIT_ORGANIZATION*\n",
        "\n",
        "*coeficientes negativos"
      ]
    },
    {
      "cell_type": "markdown",
      "metadata": {
        "id": "GWP64bAhH42s",
        "colab_type": "text"
      },
      "source": [
        "La relación de las variables 'vote' con las preguntas es la siguiente:"
      ]
    },
    {
      "cell_type": "code",
      "metadata": {
        "id": "rsdDdFmVCZqE",
        "colab_type": "code",
        "colab": {
          "base_uri": "https://localhost:8080/",
          "height": 142
        },
        "outputId": "4d77080d-b435-41be-8fb1-b6de77b230e8"
      },
      "source": [
        "questions.query('questionNumber== [26,44,42]')"
      ],
      "execution_count": 70,
      "outputs": [
        {
          "output_type": "execute_result",
          "data": {
            "text/html": [
              "<div>\n",
              "<style scoped>\n",
              "    .dataframe tbody tr th:only-of-type {\n",
              "        vertical-align: middle;\n",
              "    }\n",
              "\n",
              "    .dataframe tbody tr th {\n",
              "        vertical-align: top;\n",
              "    }\n",
              "\n",
              "    .dataframe thead th {\n",
              "        text-align: right;\n",
              "    }\n",
              "</style>\n",
              "<table border=\"1\" class=\"dataframe\">\n",
              "  <thead>\n",
              "    <tr style=\"text-align: right;\">\n",
              "      <th></th>\n",
              "      <th>questionNumber</th>\n",
              "      <th>factorNumber</th>\n",
              "      <th>questionTitle</th>\n",
              "      <th>factorName</th>\n",
              "    </tr>\n",
              "  </thead>\n",
              "  <tbody>\n",
              "    <tr>\n",
              "      <th>26</th>\n",
              "      <td>26</td>\n",
              "      <td>9</td>\n",
              "      <td>Do you have the tools and resources you need to do your job?</td>\n",
              "      <td>Environment</td>\n",
              "    </tr>\n",
              "    <tr>\n",
              "      <th>42</th>\n",
              "      <td>42</td>\n",
              "      <td>15</td>\n",
              "      <td>The vision and purpose of *|COMPANY_NAME|* inspires me.</td>\n",
              "      <td>Trust &amp; Vision</td>\n",
              "    </tr>\n",
              "    <tr>\n",
              "      <th>44</th>\n",
              "      <td>44</td>\n",
              "      <td>15</td>\n",
              "      <td>The business goals and strategies set by senior leadership are taking *|COMPANY_NAME|* in the right direction.</td>\n",
              "      <td>Trust &amp; Vision</td>\n",
              "    </tr>\n",
              "  </tbody>\n",
              "</table>\n",
              "</div>"
            ],
            "text/plain": [
              "    questionNumber  ...      factorName\n",
              "26  26              ...  Environment   \n",
              "42  42              ...  Trust & Vision\n",
              "44  44              ...  Trust & Vision\n",
              "\n",
              "[3 rows x 4 columns]"
            ]
          },
          "metadata": {
            "tags": []
          },
          "execution_count": 70
        }
      ]
    },
    {
      "cell_type": "markdown",
      "metadata": {
        "id": "KH1i-WK4HLPN",
        "colab_type": "text"
      },
      "source": [
        "Aplicamos la regresión logística de sklearn con las variables seleccionadas y calculamos el valor de RMSE y la precisión de train y test."
      ]
    },
    {
      "cell_type": "code",
      "metadata": {
        "id": "UAOrfTo2l_H7",
        "colab_type": "code",
        "colab": {
          "base_uri": "https://localhost:8080/",
          "height": 85
        },
        "outputId": "09dd112c-972e-4f44-8a69-18b875c22930"
      },
      "source": [
        "from sklearn.linear_model import LogisticRegression\n",
        "logreg2 = LogisticRegression()\n",
        "logreg2.fit(x_new_vars2, y_train)\n",
        "y_pred2 = logreg2.predict(x_t_new_vars2)\n",
        "print('RMSE Train: {0:.4f}'.format(rmse(logreg2.predict(x_new_vars2),y_train)))\n",
        "print('RMSE Test: {0:.4f}'.format(rmse(y_pred2,y_test)))\n",
        "print('Precisión Train: {0:.4f}'.format(logreg2.score(x_new_vars2,y_train)))\n",
        "print('Precisión Test: {0:.4f}'.format(logreg2.score(x_t_new_vars2,y_test)))"
      ],
      "execution_count": 71,
      "outputs": [
        {
          "output_type": "stream",
          "text": [
            "RMSE Train: 0.6318\n",
            "RMSE Test: 0.6223\n",
            "Precisión Train: 0.6008\n",
            "Precisión Test: 0.6127\n"
          ],
          "name": "stdout"
        }
      ]
    },
    {
      "cell_type": "markdown",
      "metadata": {
        "id": "bLGTJCuZICav",
        "colab_type": "text"
      },
      "source": [
        "Como vemos, el modelo 1 es ligeramente peor que el modelo 2."
      ]
    },
    {
      "cell_type": "markdown",
      "metadata": {
        "id": "tqQSq29HIKa5",
        "colab_type": "text"
      },
      "source": [
        "Por último, los modelos de regresión logística nos permiten ver el peso de cada variable sobre el modelo final. Esto nos indica cuanta importancia tiene cada variable sobre la predicción final."
      ]
    },
    {
      "cell_type": "code",
      "metadata": {
        "id": "uMMhO3xji7IP",
        "colab_type": "code",
        "colab": {
          "base_uri": "https://localhost:8080/",
          "height": 328
        },
        "outputId": "e6dee360-70ca-454d-f689-ea76d5603caf"
      },
      "source": [
        "# 1. Calculamos desviación estandar de las variables\n",
        "a1=np.array(np.std(x_new_vars1))\n",
        "# 2. Obtenemos los coeficientes\n",
        "b1=logreg1.coef_[0]\n",
        "# 3. Estandarizamos los coeficientes\n",
        "b_est1=b1/a1\n",
        "# 4. Calculamos los pesos\n",
        "pesos1=abs(b_est1/abs(b_est1).sum())*100\n",
        "# 5. Creamos un dataframe para poder representarlos mejor.\n",
        "df_modelo1=pd.DataFrame({'variable':vars_modelo1,\n",
        "                        'coeficiente':b1,\n",
        "                        'peso':pesos1})\n",
        "df_modelo1.sort_values(by='peso',ascending=False)"
      ],
      "execution_count": 80,
      "outputs": [
        {
          "output_type": "execute_result",
          "data": {
            "text/html": [
              "<div>\n",
              "<style scoped>\n",
              "    .dataframe tbody tr th:only-of-type {\n",
              "        vertical-align: middle;\n",
              "    }\n",
              "\n",
              "    .dataframe tbody tr th {\n",
              "        vertical-align: top;\n",
              "    }\n",
              "\n",
              "    .dataframe thead th {\n",
              "        text-align: right;\n",
              "    }\n",
              "</style>\n",
              "<table border=\"1\" class=\"dataframe\">\n",
              "  <thead>\n",
              "    <tr style=\"text-align: right;\">\n",
              "      <th></th>\n",
              "      <th>variable</th>\n",
              "      <th>coeficiente</th>\n",
              "      <th>peso</th>\n",
              "    </tr>\n",
              "  </thead>\n",
              "  <tbody>\n",
              "    <tr>\n",
              "      <th>4</th>\n",
              "      <td>NATURAL_RESOURCES</td>\n",
              "      <td>0.858975</td>\n",
              "      <td>33.118683</td>\n",
              "    </tr>\n",
              "    <tr>\n",
              "      <th>8</th>\n",
              "      <td>vote_16_q_M6_99_cat</td>\n",
              "      <td>0.682969</td>\n",
              "      <td>19.664743</td>\n",
              "    </tr>\n",
              "    <tr>\n",
              "      <th>1</th>\n",
              "      <td>vote_hi_M3_99_cat</td>\n",
              "      <td>0.714108</td>\n",
              "      <td>11.355683</td>\n",
              "    </tr>\n",
              "    <tr>\n",
              "      <th>7</th>\n",
              "      <td>vote_44_q_M6_99_cat</td>\n",
              "      <td>0.508957</td>\n",
              "      <td>10.548491</td>\n",
              "    </tr>\n",
              "    <tr>\n",
              "      <th>6</th>\n",
              "      <td>vote_17_f_M2_99_cat</td>\n",
              "      <td>-0.392155</td>\n",
              "      <td>6.504102</td>\n",
              "    </tr>\n",
              "    <tr>\n",
              "      <th>2</th>\n",
              "      <td>FINANCIAL_SERVICES_INSURANCE</td>\n",
              "      <td>0.466985</td>\n",
              "      <td>6.414983</td>\n",
              "    </tr>\n",
              "    <tr>\n",
              "      <th>3</th>\n",
              "      <td>month_3</td>\n",
              "      <td>-0.397812</td>\n",
              "      <td>5.650449</td>\n",
              "    </tr>\n",
              "    <tr>\n",
              "      <th>0</th>\n",
              "      <td>COMPUTER_SOFTWARE_IT_SERVICES</td>\n",
              "      <td>-0.351111</td>\n",
              "      <td>3.768846</td>\n",
              "    </tr>\n",
              "    <tr>\n",
              "      <th>5</th>\n",
              "      <td>vote_26_q_M6_99_cat</td>\n",
              "      <td>0.279600</td>\n",
              "      <td>2.974019</td>\n",
              "    </tr>\n",
              "  </tbody>\n",
              "</table>\n",
              "</div>"
            ],
            "text/plain": [
              "                        variable  coeficiente       peso\n",
              "4  NATURAL_RESOURCES              0.858975     33.118683\n",
              "8  vote_16_q_M6_99_cat            0.682969     19.664743\n",
              "1  vote_hi_M3_99_cat              0.714108     11.355683\n",
              "7  vote_44_q_M6_99_cat            0.508957     10.548491\n",
              "6  vote_17_f_M2_99_cat           -0.392155     6.504102 \n",
              "2  FINANCIAL_SERVICES_INSURANCE   0.466985     6.414983 \n",
              "3  month_3                       -0.397812     5.650449 \n",
              "0  COMPUTER_SOFTWARE_IT_SERVICES -0.351111     3.768846 \n",
              "5  vote_26_q_M6_99_cat            0.279600     2.974019 "
            ]
          },
          "metadata": {
            "tags": []
          },
          "execution_count": 80
        }
      ]
    },
    {
      "cell_type": "markdown",
      "metadata": {
        "id": "3Kp8BZ-VJDAQ",
        "colab_type": "text"
      },
      "source": [
        "A continuación realizamos el mismo tratamiento para el modelo 2."
      ]
    },
    {
      "cell_type": "code",
      "metadata": {
        "id": "Wd-IbOaAo3UW",
        "colab_type": "code",
        "colab": {
          "base_uri": "https://localhost:8080/",
          "height": 297
        },
        "outputId": "9e85b823-c36d-4255-d192-d721adf95243"
      },
      "source": [
        "# 1. Calculamos desviación estandar de las variables\n",
        "a2=np.array(np.std(x_new_vars2))\n",
        "# 2. Obtenemos los coeficientes\n",
        "b2=logreg2.coef_[0]\n",
        "# 3. Estandarizamos los coeficientes\n",
        "b_est2=b2/a2\n",
        "# 4. Calculamos los pesos\n",
        "pesos2=abs(b_est2/abs(b_est2).sum())*100\n",
        "# 5. Creamos un dataframe para poder representarlos mejor.\n",
        "df_modelo2=pd.DataFrame({'variable':vars_modelo2,\n",
        "                        'coeficiente':b_est2,\n",
        "                        'peso':pesos2})\n",
        "df_modelo2.sort_values(by='peso',ascending=False)"
      ],
      "execution_count": 81,
      "outputs": [
        {
          "output_type": "execute_result",
          "data": {
            "text/html": [
              "<div>\n",
              "<style scoped>\n",
              "    .dataframe tbody tr th:only-of-type {\n",
              "        vertical-align: middle;\n",
              "    }\n",
              "\n",
              "    .dataframe tbody tr th {\n",
              "        vertical-align: top;\n",
              "    }\n",
              "\n",
              "    .dataframe thead th {\n",
              "        text-align: right;\n",
              "    }\n",
              "</style>\n",
              "<table border=\"1\" class=\"dataframe\">\n",
              "  <thead>\n",
              "    <tr style=\"text-align: right;\">\n",
              "      <th></th>\n",
              "      <th>variable</th>\n",
              "      <th>coeficiente</th>\n",
              "      <th>peso</th>\n",
              "    </tr>\n",
              "  </thead>\n",
              "  <tbody>\n",
              "    <tr>\n",
              "      <th>7</th>\n",
              "      <td>NON_PROFIT_ORGANIZATION</td>\n",
              "      <td>-2.422236</td>\n",
              "      <td>20.432168</td>\n",
              "    </tr>\n",
              "    <tr>\n",
              "      <th>4</th>\n",
              "      <td>vote_hi_M6_99_cat</td>\n",
              "      <td>2.189340</td>\n",
              "      <td>18.467629</td>\n",
              "    </tr>\n",
              "    <tr>\n",
              "      <th>6</th>\n",
              "      <td>vote_44_q_M6_99_cat</td>\n",
              "      <td>2.081243</td>\n",
              "      <td>17.555804</td>\n",
              "    </tr>\n",
              "    <tr>\n",
              "      <th>2</th>\n",
              "      <td>month_1</td>\n",
              "      <td>1.742483</td>\n",
              "      <td>14.698279</td>\n",
              "    </tr>\n",
              "    <tr>\n",
              "      <th>1</th>\n",
              "      <td>FINANCIAL_SERVICES_INSURANCE</td>\n",
              "      <td>0.953691</td>\n",
              "      <td>8.044624</td>\n",
              "    </tr>\n",
              "    <tr>\n",
              "      <th>0</th>\n",
              "      <td>COMPUTER_SOFTWARE_IT_SERVICES</td>\n",
              "      <td>-0.912814</td>\n",
              "      <td>7.699813</td>\n",
              "    </tr>\n",
              "    <tr>\n",
              "      <th>3</th>\n",
              "      <td>month_3</td>\n",
              "      <td>-0.899206</td>\n",
              "      <td>7.585028</td>\n",
              "    </tr>\n",
              "    <tr>\n",
              "      <th>5</th>\n",
              "      <td>vote_26_q_M6_99_cat</td>\n",
              "      <td>0.654000</td>\n",
              "      <td>5.516654</td>\n",
              "    </tr>\n",
              "  </tbody>\n",
              "</table>\n",
              "</div>"
            ],
            "text/plain": [
              "                        variable  coeficiente       peso\n",
              "7  NON_PROFIT_ORGANIZATION       -2.422236     20.432168\n",
              "4  vote_hi_M6_99_cat              2.189340     18.467629\n",
              "6  vote_44_q_M6_99_cat            2.081243     17.555804\n",
              "2  month_1                        1.742483     14.698279\n",
              "1  FINANCIAL_SERVICES_INSURANCE   0.953691     8.044624 \n",
              "0  COMPUTER_SOFTWARE_IT_SERVICES -0.912814     7.699813 \n",
              "3  month_3                       -0.899206     7.585028 \n",
              "5  vote_26_q_M6_99_cat            0.654000     5.516654 "
            ]
          },
          "metadata": {
            "tags": []
          },
          "execution_count": 81
        }
      ]
    },
    {
      "cell_type": "code",
      "metadata": {
        "id": "IlYWAxwjJzen",
        "colab_type": "code",
        "colab": {
          "base_uri": "https://localhost:8080/",
          "height": 111
        },
        "outputId": "1ca1a4bc-166c-4beb-d3b0-d0544332858a"
      },
      "source": [
        "questions.query('questionNumber== [26,44]')"
      ],
      "execution_count": 74,
      "outputs": [
        {
          "output_type": "execute_result",
          "data": {
            "text/html": [
              "<div>\n",
              "<style scoped>\n",
              "    .dataframe tbody tr th:only-of-type {\n",
              "        vertical-align: middle;\n",
              "    }\n",
              "\n",
              "    .dataframe tbody tr th {\n",
              "        vertical-align: top;\n",
              "    }\n",
              "\n",
              "    .dataframe thead th {\n",
              "        text-align: right;\n",
              "    }\n",
              "</style>\n",
              "<table border=\"1\" class=\"dataframe\">\n",
              "  <thead>\n",
              "    <tr style=\"text-align: right;\">\n",
              "      <th></th>\n",
              "      <th>questionNumber</th>\n",
              "      <th>factorNumber</th>\n",
              "      <th>questionTitle</th>\n",
              "      <th>factorName</th>\n",
              "    </tr>\n",
              "  </thead>\n",
              "  <tbody>\n",
              "    <tr>\n",
              "      <th>26</th>\n",
              "      <td>26</td>\n",
              "      <td>9</td>\n",
              "      <td>Do you have the tools and resources you need to do your job?</td>\n",
              "      <td>Environment</td>\n",
              "    </tr>\n",
              "    <tr>\n",
              "      <th>44</th>\n",
              "      <td>44</td>\n",
              "      <td>15</td>\n",
              "      <td>The business goals and strategies set by senior leadership are taking *|COMPANY_NAME|* in the right direction.</td>\n",
              "      <td>Trust &amp; Vision</td>\n",
              "    </tr>\n",
              "  </tbody>\n",
              "</table>\n",
              "</div>"
            ],
            "text/plain": [
              "    questionNumber  ...      factorName\n",
              "26  26              ...  Environment   \n",
              "44  44              ...  Trust & Vision\n",
              "\n",
              "[2 rows x 4 columns]"
            ]
          },
          "metadata": {
            "tags": []
          },
          "execution_count": 74
        }
      ]
    },
    {
      "cell_type": "markdown",
      "metadata": {
        "id": "zrXlnGjmH_Tp",
        "colab_type": "text"
      },
      "source": [
        "Calculamos matrices de confusión y clasificatio_report para cada modelo."
      ]
    },
    {
      "cell_type": "markdown",
      "metadata": {
        "id": "i3FffsviIGKt",
        "colab_type": "text"
      },
      "source": [
        "**Modelo 1**"
      ]
    },
    {
      "cell_type": "code",
      "metadata": {
        "id": "M87EpvDMmLpK",
        "colab_type": "code",
        "colab": {
          "base_uri": "https://localhost:8080/",
          "height": 51
        },
        "outputId": "ef8de4b5-4a05-421b-90e2-654ff792cec2"
      },
      "source": [
        "from sklearn.metrics import confusion_matrix\n",
        "from sklearn.metrics import plot_confusion_matrix\n",
        "confusion_matrix(y_test, y_pred1)"
      ],
      "execution_count": 75,
      "outputs": [
        {
          "output_type": "execute_result",
          "data": {
            "text/plain": [
              "array([[138,  55],\n",
              "       [ 90,  94]])"
            ]
          },
          "metadata": {
            "tags": []
          },
          "execution_count": 75
        }
      ]
    },
    {
      "cell_type": "code",
      "metadata": {
        "id": "_VBqFscRmLfz",
        "colab_type": "code",
        "colab": {
          "base_uri": "https://localhost:8080/",
          "height": 170
        },
        "outputId": "43c65778-42ad-40f7-dcdf-13180730a960"
      },
      "source": [
        "from sklearn.metrics import classification_report\n",
        "print(classification_report(y_test, y_pred1))"
      ],
      "execution_count": 76,
      "outputs": [
        {
          "output_type": "stream",
          "text": [
            "              precision    recall  f1-score   support\n",
            "\n",
            "           0       0.61      0.72      0.66       193\n",
            "           1       0.63      0.51      0.56       184\n",
            "\n",
            "    accuracy                           0.62       377\n",
            "   macro avg       0.62      0.61      0.61       377\n",
            "weighted avg       0.62      0.62      0.61       377\n",
            "\n"
          ],
          "name": "stdout"
        }
      ]
    },
    {
      "cell_type": "markdown",
      "metadata": {
        "id": "HmGFHaI6IMSL",
        "colab_type": "text"
      },
      "source": [
        "**Modelo 2**"
      ]
    },
    {
      "cell_type": "code",
      "metadata": {
        "id": "3rrByBwULaXm",
        "colab_type": "code",
        "colab": {
          "base_uri": "https://localhost:8080/",
          "height": 51
        },
        "outputId": "915e5fcc-a8ca-4531-c205-1f212493a4c2"
      },
      "source": [
        "from sklearn.metrics import confusion_matrix\n",
        "from sklearn.metrics import plot_confusion_matrix\n",
        "confusion_matrix(y_test, y_pred2)"
      ],
      "execution_count": 77,
      "outputs": [
        {
          "output_type": "execute_result",
          "data": {
            "text/plain": [
              "array([[130,  63],\n",
              "       [ 83, 101]])"
            ]
          },
          "metadata": {
            "tags": []
          },
          "execution_count": 77
        }
      ]
    },
    {
      "cell_type": "code",
      "metadata": {
        "id": "j-b1iP4ELaI1",
        "colab_type": "code",
        "colab": {
          "base_uri": "https://localhost:8080/",
          "height": 170
        },
        "outputId": "6923cc1c-4a3d-4669-e048-495de1f10026"
      },
      "source": [
        "from sklearn.metrics import classification_report\n",
        "print(classification_report(y_test, y_pred2))"
      ],
      "execution_count": 78,
      "outputs": [
        {
          "output_type": "stream",
          "text": [
            "              precision    recall  f1-score   support\n",
            "\n",
            "           0       0.61      0.67      0.64       193\n",
            "           1       0.62      0.55      0.58       184\n",
            "\n",
            "    accuracy                           0.61       377\n",
            "   macro avg       0.61      0.61      0.61       377\n",
            "weighted avg       0.61      0.61      0.61       377\n",
            "\n"
          ],
          "name": "stdout"
        }
      ]
    }
  ]
}